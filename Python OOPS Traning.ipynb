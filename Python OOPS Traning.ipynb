{
 "cells": [
  {
   "cell_type": "code",
   "execution_count": 11,
   "metadata": {},
   "outputs": [
    {
     "data": {
      "text/plain": [
       "__main__.hello.<locals>.Hi"
      ]
     },
     "execution_count": 11,
     "metadata": {},
     "output_type": "execute_result"
    }
   ],
   "source": [
    "def hello():\n",
    "    \n",
    "    class Hi:\n",
    "        pass\n",
    "    \n",
    "    return Hi\n",
    "\n",
    "hello()"
   ]
  },
  {
   "cell_type": "code",
   "execution_count": 15,
   "metadata": {},
   "outputs": [
    {
     "name": "stdout",
     "output_type": "stream",
     "text": [
      "<class 'type'>\n",
      "<class '__main__.Hello'>\n",
      "<class '__main__.Hello'>\n",
      "<__main__.Hello object at 0x0000016150C42A08>\n"
     ]
    }
   ],
   "source": [
    "class Hello:\n",
    "    pass\n",
    "\n",
    "print(type(Hello))\n",
    "print(type(Hello()))\n",
    "print(Hello)\n",
    "print(Hello())"
   ]
  },
  {
   "cell_type": "code",
   "execution_count": 18,
   "metadata": {},
   "outputs": [],
   "source": [
    "class Test:\n",
    "    pass\n",
    "\n",
    "Test = type(\"Test\", (), {})    # Both are Same"
   ]
  },
  {
   "cell_type": "code",
   "execution_count": 22,
   "metadata": {},
   "outputs": [
    {
     "name": "stdout",
     "output_type": "stream",
     "text": [
      "<__main__.Test1 object at 0x000001614DD20BC8>\n",
      "<class '__main__.Test1'>\n"
     ]
    }
   ],
   "source": [
    "Test1 = type(\"Test1\", (), {})\n",
    "print(Test1())\n",
    "print(Test1)"
   ]
  },
  {
   "cell_type": "code",
   "execution_count": 25,
   "metadata": {},
   "outputs": [
    {
     "name": "stdout",
     "output_type": "stream",
     "text": [
      "25\n",
      "12\n"
     ]
    }
   ],
   "source": [
    "Test2 = type(\"Test2\", (), {'a':25})\n",
    "t = Test2()\n",
    "t.b = 12\n",
    "print(t.a)\n",
    "print(t.b)"
   ]
  },
  {
   "cell_type": "code",
   "execution_count": 31,
   "metadata": {},
   "outputs": [
    {
     "name": "stdout",
     "output_type": "stream",
     "text": [
      "Hi\n",
      "9\n"
     ]
    }
   ],
   "source": [
    "class Foo:\n",
    "    \n",
    "    def show(self):\n",
    "        print(\"Hi\")\n",
    "        \n",
    "        \n",
    "def add_attribute(self):\n",
    "    self.z = 9\n",
    "        \n",
    "Test4 = type(\"Test4\", (Foo,), {\"first_name\":\"Jay Shankar\", 'add_attribute':add_attribute})\n",
    "\n",
    "obj = Test4()\n",
    "\n",
    "obj.show()\n",
    "obj.first_name\n",
    "obj.add_attribute()\n",
    "print(obj.z)"
   ]
  },
  {
   "cell_type": "markdown",
   "metadata": {},
   "source": [
    "## Meta Class "
   ]
  },
  {
   "cell_type": "code",
   "execution_count": 42,
   "metadata": {},
   "outputs": [
    {
     "name": "stdout",
     "output_type": "stream",
     "text": [
      "{'__module__': '__main__', '__qualname__': 'Dog', 'x': 5, 'y': 8, 'hello': <function Dog.hello at 0x0000016150169288>}\n",
      "hi\n"
     ]
    }
   ],
   "source": [
    "class Meta(type):\n",
    "    def __new__(self, class_name, bases, attrs):\n",
    "        print(attrs)\n",
    "        \n",
    "        a = {}\n",
    "        \n",
    "        for name, val in attrs.items():\n",
    "            if name.startswith('__'):\n",
    "                a[name] = val\n",
    "                \n",
    "            else:\n",
    "                a[name.upper()] = val\n",
    "                \n",
    "        return type(class_name, bases, a)\n",
    "                \n",
    "\n",
    "class Dog(metaclass= Meta):\n",
    "    x = 5\n",
    "    y = 8\n",
    "    \n",
    "    def hello(self):\n",
    "        print(\"hi\")\n",
    "        \n",
    "d = Dog()\n",
    "d.HELLO()"
   ]
  },
  {
   "cell_type": "code",
   "execution_count": null,
   "metadata": {},
   "outputs": [],
   "source": []
  },
  {
   "cell_type": "code",
   "execution_count": null,
   "metadata": {},
   "outputs": [],
   "source": []
  },
  {
   "cell_type": "code",
   "execution_count": null,
   "metadata": {},
   "outputs": [],
   "source": []
  },
  {
   "cell_type": "code",
   "execution_count": null,
   "metadata": {},
   "outputs": [],
   "source": []
  },
  {
   "cell_type": "markdown",
   "metadata": {},
   "source": [
    "## Procedure oriented Vs Object oriented:-\n"
   ]
  },
  {
   "cell_type": "markdown",
   "metadata": {},
   "source": [
    "### 1. procedural programming:-\n",
    "   - it uses a list of instrctions to do computaition step-by-step\n",
    "   - it is not easy to maintain project becomes lengthy\n",
    "   - it doesn't simulate the real world\n",
    "   - it doesn't provide data binding so it is less secure\n",
    "   - ex:- c , fortran, pascal, vb etc\n",
    "   \n",
    "### 2. object oriented:-\n",
    "   - it is an approach to solve problem using object\n",
    "   - it makes development and maintenance easier\n",
    "   - it simulates the real world entity\n",
    "   - it provide data hiding\n",
    "   - ex:- c++, jave, .net, python, C# etc"
   ]
  },
  {
   "cell_type": "markdown",
   "metadata": {},
   "source": [
    "#### Python object oriented programing system:- Oops \n",
    "\n",
    "   - Python is a object oriented programming language, In python everythings is a object like classes, objects, functions, method, module, etc\n",
    "   - these can passed as arguments to function or assign to variable"
   ]
  },
  {
   "cell_type": "markdown",
   "metadata": {},
   "source": [
    "#### OOPS Principle :- \n",
    "\n",
    "   - OOPS are the rules or guidelines which are supposed to be satisfied by any programming language in order to catch that programming language as OOps\n",
    "   \n",
    "   - Different OOps principle are :-\n",
    "       - Encapsulation\n",
    "       - polymorphism\n",
    "       - Abstraction\n",
    "       - Inheritance\n",
    "       - overloading\n",
    "       - overwriting"
   ]
  },
  {
   "cell_type": "markdown",
   "metadata": {},
   "source": [
    "#### Define object:-\n",
    "   - Collection of data and its functionality\n",
    "                or\n",
    "   - it is an entity that has states and behaviours is known as object\n",
    "                or\n",
    "   - An object is a instances of a class which contains variable and method\n",
    "   \n",
    "##### Note:-\n",
    "    - state means property, behaviours means functionality\n",
    "    \n",
    "    \n",
    "Example:-\n",
    "\n",
    "    object = Human \n",
    "    identity = aman\n",
    "    property = color , height, weight\n",
    "    functioalities :- walk(), see(), run() etc\n",
    "    \n",
    "    \n",
    "    object = animal\n",
    "    identity = dog\n",
    "    property = color , height, weight\n",
    "    functioalities :- walk(), jump(), bark() etc"
   ]
  },
  {
   "cell_type": "code",
   "execution_count": 12,
   "metadata": {},
   "outputs": [
    {
     "data": {
      "text/plain": [
       "<__main__.Employee at 0x143ccd3ee88>"
      ]
     },
     "execution_count": 12,
     "metadata": {},
     "output_type": "execute_result"
    }
   ],
   "source": [
    "#Note:- class is a keyword , Employee is class name (user define), pass(keyword) is No Operation\n",
    "\n",
    "class Employee():\n",
    "    pass\n",
    "\n",
    "class Employee(object):\n",
    "    pass\n",
    "\n",
    "class Employee2:\n",
    "    pass\n",
    "\n",
    "Employee()"
   ]
  },
  {
   "cell_type": "markdown",
   "metadata": {},
   "source": [
    "### Define Method:-\n",
    "\n",
    "   - A method is an operation an object within the class \n",
    "   \n",
    "#### Define self:-\n",
    "    - self argument represents the actual instances of the class when you create a instances using that(self) instances, we can call method. whenever method get called via instances, the interpreter send the very first agruments as self while       calling method , self argument always pass interperter implicitly. it allocates memory for object\n",
    "    \n",
    "Example:-"
   ]
  },
  {
   "cell_type": "code",
   "execution_count": 1,
   "metadata": {},
   "outputs": [
    {
     "name": "stdout",
     "output_type": "stream",
     "text": [
      "Jayshankar\n",
      "8434\n",
      "Jayshankar@uei.com\n",
      "{'name': 'Jayshankar', 'id1': '8434'}\n",
      "Latha\n",
      "3453\n",
      "Latha@uei.com\n",
      "Nikhat\n",
      "4678\n",
      "Nikhat@uei.com\n"
     ]
    }
   ],
   "source": [
    "class Employee:\n",
    "    \n",
    "    \n",
    "    def __init__(self, name, id1):\n",
    "        self.name = name\n",
    "        self.id1 = id1\n",
    "        \n",
    "    def email(self):\n",
    "        return  self.name + '@uei.com'\n",
    "        \n",
    "obj = Employee('Jayshankar', '8434')\n",
    "obj1 = Employee('Latha', '3453')\n",
    "obj2 = Employee('Nikhat', '4678')\n",
    "\n",
    "\n",
    "print(obj.name)\n",
    "print(obj.id1)\n",
    "print(obj.email())\n",
    "print(obj.__dict__)\n",
    "\n",
    "print(obj1.name)\n",
    "print(obj1.id1)\n",
    "print(obj1.email())\n",
    "\n",
    "print(obj2.name)\n",
    "print(obj2.id1)\n",
    "print(obj2.email())\n",
    "\n"
   ]
  },
  {
   "cell_type": "code",
   "execution_count": 11,
   "metadata": {},
   "outputs": [
    {
     "name": "stdout",
     "output_type": "stream",
     "text": [
      "Enter your Name:- Sunil\n",
      "Enter your Employee Ids:- 7589\n",
      "Sunil\n",
      "7589\n"
     ]
    }
   ],
   "source": [
    "class Employee:\n",
    "    \n",
    "    \n",
    "    def __init__(self):\n",
    "        self.name = input('Enter your Name:- ')\n",
    "        self.id1 = input('Enter your Employee Ids:- ')\n",
    "        \n",
    "    def email(self):\n",
    "        return  self.name + '@uei.com'\n",
    "    \n",
    "obj = Employee()\n",
    "\n",
    "print(obj.name)\n",
    "print(obj.id1)"
   ]
  },
  {
   "cell_type": "code",
   "execution_count": 11,
   "metadata": {},
   "outputs": [
    {
     "name": "stdout",
     "output_type": "stream",
     "text": [
      "Welcome To Oops\n",
      "Simple and easy to implement\n",
      "()\n"
     ]
    }
   ],
   "source": [
    "class Employee:\n",
    "    def welcome_oops(self):\n",
    "        print(\"Welcome To Oops\")\n",
    "        print(\"Simple and easy to implement\")\n",
    "        return ()\n",
    "    \n",
    "myemp = Employee()\n",
    "print(myemp.welcome_oops())\n"
   ]
  },
  {
   "cell_type": "markdown",
   "metadata": {},
   "source": [
    "### Difference Between function and Method:-\n",
    "\n",
    "#### 1. Function:-\n",
    "   - It is always independent , not related to any class\n",
    "   - outside the class, a piece of code\n",
    "   - No self parameter required\n",
    "   - No instance(object) required to call \n",
    "   \n",
    "#### 2. Method:-\n",
    "   - It is always related to a class\n",
    "   - inside the class , a piece of code\n",
    "   - always instance(object) required to call\n",
    "   - self parameter required to call\n",
    "   \n",
    "Example:-"
   ]
  },
  {
   "cell_type": "code",
   "execution_count": 1,
   "metadata": {},
   "outputs": [
    {
     "name": "stdout",
     "output_type": "stream",
     "text": [
      "hello\n"
     ]
    }
   ],
   "source": [
    "def function():\n",
    "    print(\"hello\")\n",
    "    \n",
    "function()"
   ]
  },
  {
   "cell_type": "code",
   "execution_count": 2,
   "metadata": {},
   "outputs": [
    {
     "name": "stdout",
     "output_type": "stream",
     "text": [
      "Enter any number:- 4\n",
      "Enter ay number:- 3\n",
      "Result is :-  7\n"
     ]
    },
    {
     "data": {
      "text/plain": [
       "()"
      ]
     },
     "execution_count": 2,
     "metadata": {},
     "output_type": "execute_result"
    }
   ],
   "source": [
    "class Computer_Math:\n",
    "    \n",
    "    def calculatiions(self):\n",
    "        x = int(input(\"Enter any number:- \"))\n",
    "        y = int (input(\"Enter any number:- \"))\n",
    "        z  = x + y\n",
    "        print(\"Result is :- \",z)\n",
    "        return ()\n",
    "        \n",
    "obj = Computer_Math()\n",
    "obj.calculatiions()"
   ]
  },
  {
   "cell_type": "markdown",
   "metadata": {},
   "source": [
    "### consturctor :- \\__init__()\n",
    "\n",
    "   - \"\\__init__()\"  is a reserved method in python class, It is known as a Constructor in object oriented concept, this method call when object are created from the class and it allows the class to initialized the attributes of a class\n",
    "   - It is called a constructor or initializer and is automatically called when you create a new instance or object of class\n",
    "   \n",
    "Example :- "
   ]
  },
  {
   "cell_type": "code",
   "execution_count": 8,
   "metadata": {},
   "outputs": [
    {
     "name": "stdout",
     "output_type": "stream",
     "text": [
      "Welcome To Universal Electronics pvt. lmt, python\n",
      "uei\n",
      "Python traning\n",
      "None\n"
     ]
    }
   ],
   "source": [
    "class Uei:\n",
    "    \n",
    "    def __init__(self):\n",
    "        print(\"Welcome To Universal Electronics pvt. lmt, python\")\n",
    "        \n",
    "    def __str__(self):\n",
    "        return \"uei\"\n",
    "    \n",
    "    def fun(self):\n",
    "        print(\"Python traning\")\n",
    "        \n",
    "obj = Uei()\n",
    "print(obj)\n",
    "print(obj.fun())\n"
   ]
  },
  {
   "cell_type": "code",
   "execution_count": 9,
   "metadata": {},
   "outputs": [
    {
     "name": "stdout",
     "output_type": "stream",
     "text": [
      "Hello, This is Constructor\n",
      "Welcome To My Method\n",
      "Thank you\n",
      "None\n"
     ]
    }
   ],
   "source": [
    "class Uei2:\n",
    "    \n",
    "    def __init__(self):\n",
    "        print(\"Hello, This is Constructor\")\n",
    "        \n",
    "    def mymethod(self):\n",
    "        print(\"Welcome To My Method\")\n",
    "        print(\"Thank you\")\n",
    "        \n",
    "obj = Uei2()\n",
    "print(obj.mymethod())\n",
    "\n",
    "        \n",
    "        "
   ]
  },
  {
   "cell_type": "code",
   "execution_count": null,
   "metadata": {},
   "outputs": [],
   "source": []
  },
  {
   "cell_type": "markdown",
   "metadata": {},
   "source": [
    "### Attributes:-\n",
    "   - An Attributes is a specification that defines a property of an object, element or file. It may also refer to or set of specific value for a given instance of such.\n",
    "   - There are two types of attributes:-\n",
    "       - Built-in class attributes\n",
    "       - attributes defined by user\n",
    "       \n",
    "#### Built-in Class Attributes :- \n",
    "   Every python class has five built-in attributes and they can be accessed using dot(.) operator\n",
    "   \n",
    "        Attribute       Type                  Description\n",
    "    -------------------------------------------------------------------------\n",
    "    \n",
    "      __dict__          dictionary            The class namespaces\n",
    "      \n",
    "      __name__          string                The name of the class\n",
    "      \n",
    "      __bases__         tuple of classes      The classes from which this class inherits\n",
    "      \n",
    "      __doc__           string or None        The class documentation string\n",
    "      \n",
    "      __module__        string                The name of module in which this class is define\n",
    "      \n",
    "Example :- "
   ]
  },
  {
   "cell_type": "code",
   "execution_count": 22,
   "metadata": {},
   "outputs": [
    {
     "name": "stdout",
     "output_type": "stream",
     "text": [
      "{'__module__': '__main__', '__doc__': 'Hello Guys Welcome To Python OOps', '__dict__': <attribute '__dict__' of 'BultinAttrs' objects>, '__weakref__': <attribute '__weakref__' of 'BultinAttrs' objects>}\n",
      "\n",
      "BultinAttrs\n",
      "\n",
      "<class 'object'>\n",
      "\n",
      "Hello Guys Welcome To Python OOps\n",
      "\n",
      "(<class 'object'>,)\n",
      "\n",
      "__main__\n"
     ]
    }
   ],
   "source": [
    "class BultinAttrs:\n",
    "    '''Hello Guys Welcome To Python OOps'''\n",
    "    \n",
    "print(BultinAttrs.__dict__)\n",
    "print()\n",
    "print(BultinAttrs.__name__)\n",
    "print()\n",
    "print(BultinAttrs.__base__)\n",
    "print()\n",
    "print(BultinAttrs.__doc__)\n",
    "print()\n",
    "print(BultinAttrs.__bases__)\n",
    "print()\n",
    "print(BultinAttrs.__module__)"
   ]
  },
  {
   "cell_type": "code",
   "execution_count": 34,
   "metadata": {},
   "outputs": [
    {
     "name": "stdout",
     "output_type": "stream",
     "text": [
      "Enter your name:- jay\n",
      "Enter your roll no. :- 10\n",
      "{'name': 'jay', 'roll': '10'}\n",
      "Student\n"
     ]
    }
   ],
   "source": [
    "class Student:\n",
    "    \n",
    "    def __init__(self):\n",
    "        self.name = input(\"Enter your name:- \")\n",
    "        self.roll = input(\"Enter your roll no. :- \")\n",
    "        \n",
    "s = Student()\n",
    "print(s.__dict__)\n",
    "print(Student.__name__)"
   ]
  },
  {
   "cell_type": "markdown",
   "metadata": {},
   "source": [
    "### Attributes defines by users:-\n",
    "    - Attributes are created inside the class defination\n",
    "    - we can dynamically create new attributes for existing instance of a class\n",
    "    - Attributes can be bound to class name as well\n",
    "    \n",
    "Example:-"
   ]
  },
  {
   "cell_type": "code",
   "execution_count": 16,
   "metadata": {},
   "outputs": [
    {
     "name": "stdout",
     "output_type": "stream",
     "text": [
      "Enter your name:- r\n",
      "Enter your roll no. :- 3\n",
      "r\n",
      "3\n"
     ]
    }
   ],
   "source": [
    "class Student:\n",
    "    \n",
    "    def __init__(self):\n",
    "        self.name = input(\"Enter your name:- \")     # attributes\n",
    "        self.roll = input(\"Enter your roll no. :- \")  # attributes\n",
    "        \n",
    "s = Student()\n",
    "print(s.name)\n",
    "print(s.roll)"
   ]
  },
  {
   "cell_type": "markdown",
   "metadata": {},
   "source": [
    "## Access Modifier :- \n",
    "    Python supports the following list of access modifier:-\n",
    "    \n",
    "        - public    :- Attributes can be freely used (any where)\n",
    "        - Protected :- (Restricted) Attributes should only be used under certain condition\n",
    "        - private   :- Attributes can be accessed inside of class defined\n",
    "        \n",
    "        \n",
    "    Naming         type\n",
    "    ------------------------------------------------------------------------------------------\n",
    "    name          public          these attriutes can be used freely inside and outside of class definetion\n",
    "    _name         protected       these attributes can not be used outside of the class defination unless \n",
    "                                   inside of a subclass definition\n",
    "    __name        private         the kind of attributes in accessible and individual\n",
    "    \n",
    "Example:-"
   ]
  },
  {
   "cell_type": "code",
   "execution_count": 17,
   "metadata": {},
   "outputs": [
    {
     "name": "stdout",
     "output_type": "stream",
     "text": [
      "Hello Public Modifier\n"
     ]
    }
   ],
   "source": [
    "class Access_Modifiers():\n",
    "    def __init__(self):\n",
    "        self.pulic = 'Hello Public Modifier'\n",
    "        return\n",
    "    \n",
    "AA = Access_Modifiers()\n",
    "print(AA.pulic)"
   ]
  },
  {
   "cell_type": "code",
   "execution_count": 37,
   "metadata": {},
   "outputs": [
    {
     "name": "stdout",
     "output_type": "stream",
     "text": [
      "Hello Protected Modifier\n",
      "{'_protectd': 'Hello Protected Modifier'}\n"
     ]
    }
   ],
   "source": [
    "class Access_Modifiers():\n",
    "    def __init__(self):\n",
    "        self._protectd = 'Hello Protected Modifier'\n",
    "        \n",
    "    \n",
    "AA = Access_Modifiers()\n",
    "print(AA._protectd)\n",
    "print(AA.__dict__)"
   ]
  },
  {
   "cell_type": "code",
   "execution_count": 28,
   "metadata": {},
   "outputs": [
    {
     "name": "stdout",
     "output_type": "stream",
     "text": [
      "{'_Access_Modifiers__private': 'Hello Private Modifier'}\n",
      "Hello Private Modifier\n"
     ]
    }
   ],
   "source": [
    "class Access_Modifiers():\n",
    "    def __init__(self):\n",
    "        self.__private = 'Hello Private Modifier'\n",
    "        return\n",
    "    \n",
    "AA = Access_Modifiers()\n",
    "print(AA.__dict__)\n",
    "#print(AA.__private)\n",
    "print(AA._Access_Modifiers__private)\n",
    "#output = AA.__dict__\n",
    "#print(output.get('_Access_Modifiers__private'))"
   ]
  },
  {
   "cell_type": "markdown",
   "metadata": {},
   "source": [
    "### python getattr():-\n",
    "   - it returns the value of the named attributes of an object. if not found, it returns the default value provide to the function\n",
    "   \n",
    "   \n",
    "   - syntax :-\n",
    "   \n",
    "       getattr( object, name[,default])"
   ]
  },
  {
   "cell_type": "code",
   "execution_count": 3,
   "metadata": {},
   "outputs": [
    {
     "name": "stdout",
     "output_type": "stream",
     "text": [
      "Object Destroyed :- 1\n",
      "Object Destroyed :- 2\n",
      "ajay\n",
      "ajay\n",
      "Not avaliable\n"
     ]
    }
   ],
   "source": [
    "class student:\n",
    "    \n",
    "    Total_Studets = 0    # class Variable\n",
    "    \n",
    "    def __init__(self, name='',roll=0):\n",
    "        \n",
    "        # instance/object variable\n",
    "        self.name = name\n",
    "        self.roll = roll\n",
    "        self.Total_Studets = 0\n",
    "        student.Total_Studets += 1\n",
    "        \n",
    "        \n",
    "    def __del__(self):\n",
    "        print(\"Object Destroyed :- \" + str(self.roll))\n",
    "        \n",
    "    def __str__(self):\n",
    "        return \"Name :-\" + self.name +\"  Roll :- \" + str(self.roll)\n",
    "        \n",
    "    def display(self):\n",
    "        print(\"Student Name :- \", self.name)\n",
    "        print(\"Student Roll no. :- \", self.roll)\n",
    "        print(\"Total Students :- \", self.Total_Studets)\n",
    "        print(\"Total Students :- \", student.Total_Studets)\n",
    "        \n",
    "s1 = student(\"ajay\", 1)\n",
    "s2 = student('vijay', 2)\n",
    "\n",
    "print(s1.name)\n",
    "i = getattr(s1, \"name\")\n",
    "print(i)\n",
    "\n",
    "j = getattr(s1, \"section\", \"Not avaliable\")\n",
    "print(j)"
   ]
  },
  {
   "cell_type": "markdown",
   "metadata": {},
   "source": [
    "### Understand the \\__del__() and \\__str__() :-\n",
    "\n",
    "\n",
    "    - __del__() is invoked(call) implicitly by python when object is destroyed"
   ]
  },
  {
   "cell_type": "code",
   "execution_count": 22,
   "metadata": {},
   "outputs": [
    {
     "name": "stdout",
     "output_type": "stream",
     "text": [
      "object destroyed\n",
      "SetAttributes Class\n",
      "jay\n"
     ]
    }
   ],
   "source": [
    "class SetAttribute:\n",
    "    \n",
    "    def __init__(self, name, roll):\n",
    "        self.name = name\n",
    "        self.roll = roll\n",
    "        \n",
    "    def display(self):\n",
    "        print(\"Student Name :- \", self.name)\n",
    "        print(\"Student Roll no. :- \", self.roll)\n",
    "    \n",
    "    def __str__(self):\n",
    "        return \"SetAttributes Class\"\n",
    "    \n",
    "    def __del__(self):\n",
    "        print(\"object destroyed\")\n",
    "        \n",
    "    \n",
    "        \n",
    "obj = SetAttribute(\"jay\", \"10\")\n",
    "print(obj)\n",
    "print(obj.name)"
   ]
  },
  {
   "cell_type": "code",
   "execution_count": null,
   "metadata": {},
   "outputs": [],
   "source": []
  },
  {
   "cell_type": "code",
   "execution_count": null,
   "metadata": {},
   "outputs": [],
   "source": []
  },
  {
   "cell_type": "markdown",
   "metadata": {},
   "source": [
    "### python setattr() :-\n",
    "   - it set the value of geven attributes of an object.\n",
    "   \n",
    "   syntax:- \n",
    "   \n",
    "           setattr( object, name , value )"
   ]
  },
  {
   "cell_type": "code",
   "execution_count": null,
   "metadata": {},
   "outputs": [],
   "source": []
  },
  {
   "cell_type": "code",
   "execution_count": 10,
   "metadata": {},
   "outputs": [
    {
     "name": "stdout",
     "output_type": "stream",
     "text": [
      "{'name': 'jay', 'roll': '10'}\n",
      "{'name': 'jay', 'roll': '10', 'section': 'A', 'moile': '9934824505'}\n"
     ]
    }
   ],
   "source": [
    "class SetAttribute:\n",
    "    \n",
    "    def __init__(self, name, roll):\n",
    "        self.name = name\n",
    "        self.roll = roll\n",
    "        \n",
    "    def display(self):\n",
    "        print(\"Student Name :- \", self.name)\n",
    "        print(\"Student Roll no. :- \", self.roll)\n",
    "        \n",
    "obj = SetAttribute(\"jay\", \"10\")\n",
    "print(obj.__dict__)\n",
    "\n",
    "setattr(obj, 'section', 'A')\n",
    "obj.moile = \"9934824505\"\n",
    "\n",
    "print(obj.__dict__)"
   ]
  },
  {
   "cell_type": "code",
   "execution_count": null,
   "metadata": {},
   "outputs": [],
   "source": []
  },
  {
   "cell_type": "markdown",
   "metadata": {},
   "source": [
    "### Python hasattr() :-\n",
    "   - it returns true if an object has the given named attribute and false if it does not.\n",
    "   \n",
    "   syntax:-\n",
    "   \n",
    "           hasattr( object, name )"
   ]
  },
  {
   "cell_type": "code",
   "execution_count": 13,
   "metadata": {},
   "outputs": [
    {
     "name": "stdout",
     "output_type": "stream",
     "text": [
      "True\n",
      "False\n"
     ]
    }
   ],
   "source": [
    "class HasAttribute:\n",
    "    \n",
    "    def __init__(self, name, roll):\n",
    "        self.name = name\n",
    "        self.roll = roll\n",
    "        \n",
    "    def display(self):\n",
    "        print(\"Student Name :- \", self.name)\n",
    "        print(\"Student Roll no. :- \", self.roll)\n",
    "        \n",
    "obj = HasAttribute(\"jay\", \"10\")\n",
    "\n",
    "print(hasattr(obj, 'name'))\n",
    "print(hasattr(obj, 'section'))"
   ]
  },
  {
   "cell_type": "code",
   "execution_count": null,
   "metadata": {},
   "outputs": [],
   "source": []
  },
  {
   "cell_type": "markdown",
   "metadata": {},
   "source": [
    "## python delattr() :- \n",
    "   - it delete an attributes from the object ( if the object allow it)\n",
    "   \n",
    "    syntax:- \n",
    "    \n",
    "            delattr( object, name)"
   ]
  },
  {
   "cell_type": "code",
   "execution_count": 15,
   "metadata": {},
   "outputs": [
    {
     "name": "stdout",
     "output_type": "stream",
     "text": [
      "{'name': 'jay', 'roll': '10'}\n",
      "{'roll': '10'}\n"
     ]
    },
    {
     "ename": "AttributeError",
     "evalue": "'DelAttribute' object has no attribute 'name'",
     "output_type": "error",
     "traceback": [
      "\u001b[1;31m---------------------------------------------------------------------------\u001b[0m",
      "\u001b[1;31mAttributeError\u001b[0m                            Traceback (most recent call last)",
      "\u001b[1;32m<ipython-input-15-82f00ec7cb1d>\u001b[0m in \u001b[0;36m<module>\u001b[1;34m\u001b[0m\n\u001b[0;32m     13\u001b[0m \u001b[0mdelattr\u001b[0m\u001b[1;33m(\u001b[0m\u001b[0mobj\u001b[0m\u001b[1;33m,\u001b[0m \u001b[1;34m'name'\u001b[0m\u001b[1;33m)\u001b[0m\u001b[1;33m\u001b[0m\u001b[1;33m\u001b[0m\u001b[0m\n\u001b[0;32m     14\u001b[0m \u001b[0mprint\u001b[0m\u001b[1;33m(\u001b[0m\u001b[0mobj\u001b[0m\u001b[1;33m.\u001b[0m\u001b[0m__dict__\u001b[0m\u001b[1;33m)\u001b[0m\u001b[1;33m\u001b[0m\u001b[1;33m\u001b[0m\u001b[0m\n\u001b[1;32m---> 15\u001b[1;33m \u001b[0mprint\u001b[0m\u001b[1;33m(\u001b[0m\u001b[0mobj\u001b[0m\u001b[1;33m.\u001b[0m\u001b[0mname\u001b[0m\u001b[1;33m)\u001b[0m\u001b[1;33m\u001b[0m\u001b[1;33m\u001b[0m\u001b[0m\n\u001b[0m",
      "\u001b[1;31mAttributeError\u001b[0m: 'DelAttribute' object has no attribute 'name'"
     ]
    }
   ],
   "source": [
    "class DelAttribute:\n",
    "    \n",
    "    def __init__(self, name, roll):\n",
    "        self.name = name\n",
    "        self.roll = roll\n",
    "        \n",
    "    def display(self):\n",
    "        print(\"Student Name :- \", self.name)\n",
    "        print(\"Student Roll no. :- \", self.roll)\n",
    "        \n",
    "obj = DelAttribute(\"jay\", \"10\")\n",
    "print(obj.__dict__)\n",
    "delattr(obj, 'name')\n",
    "print(obj.__dict__)\n",
    "print(obj.name)\n"
   ]
  },
  {
   "cell_type": "code",
   "execution_count": null,
   "metadata": {},
   "outputs": [],
   "source": []
  },
  {
   "cell_type": "code",
   "execution_count": null,
   "metadata": {},
   "outputs": [],
   "source": []
  },
  {
   "cell_type": "markdown",
   "metadata": {},
   "source": [
    "### Class Variable  VS Instance Variable or attributes :- \n",
    "\n",
    "   - In python, Class variable are shared by all instaces(object) , Instance variable are unique to each instance "
   ]
  },
  {
   "cell_type": "code",
   "execution_count": 35,
   "metadata": {},
   "outputs": [
    {
     "name": "stdout",
     "output_type": "stream",
     "text": [
      "Bank is:-  RBI\n",
      "Bank exprience is :-  100\n",
      "Bank location is :-  India\n",
      "None\n",
      "{'bname': 'RBI', 'bexp': '100', 'bloc': 'India'}\n",
      "Reserved Bank of India\n",
      "\n",
      "\n",
      "\n",
      "Bank is:-  ICICI\n",
      "Bank exprience is :-  50\n",
      "Bank location is :-  Europe\n",
      "None\n",
      "{'bname': 'ICICI', 'bexp': '50', 'bloc': 'Europe'}\n",
      "Reserved Bank of India\n"
     ]
    }
   ],
   "source": [
    "class Banker_RBI:\n",
    "    \n",
    "    # class level variable\n",
    "    name = \"Reserved Bank of India\"\n",
    "    \n",
    "    def __init__(self, bname, bexp, bloc):\n",
    "        \n",
    "        # instance level variable\n",
    "        self.bname = bname\n",
    "        self.bexp = bexp\n",
    "        self.bloc = bloc\n",
    "        \n",
    "    def Display_BankDetails(self):\n",
    "        \n",
    "        print(\"Bank is:- \", self.bname)\n",
    "        print(\"Bank exprience is :- \", self.bexp)\n",
    "        print(\"Bank location is :- \", self.bloc)\n",
    "\n",
    "        \n",
    "# creating Instance or Object:- \n",
    "BRBI = Banker_RBI(\"RBI\", \"100\", \"India\")\n",
    "print(BRBI.Display_BankDetails())\n",
    "print(BRBI.__dict__)\n",
    "print(BRBI.name)\n",
    "\n",
    "\n",
    "print('\\n\\n')\n",
    "# creating another Instance or Object :- \n",
    "BRBI_2 = Banker_RBI(\"ICICI\", \"50\", \"Europe\")\n",
    "print(BRBI_2.Display_BankDetails())\n",
    "print(BRBI_2.__dict__)\n",
    "print(BRBI_2.name)\n"
   ]
  },
  {
   "cell_type": "markdown",
   "metadata": {},
   "source": [
    "### class variable and instance variable"
   ]
  },
  {
   "cell_type": "code",
   "execution_count": 7,
   "metadata": {},
   "outputs": [
    {
     "name": "stdout",
     "output_type": "stream",
     "text": [
      "Jay Shankar\n",
      "1\n",
      "1\n",
      "Jay\n"
     ]
    }
   ],
   "source": [
    "class Employee:\n",
    "    \n",
    "    #class variable\n",
    "    num_of_emps = 0\n",
    "    raise_amt = 1.04\n",
    "    \n",
    "    # instance variable\n",
    "    def __init__(self, first, last, pay): --> instance/object method\n",
    "        self.first = first\n",
    "        self.last = last\n",
    "        self.email = first+'.'+last+'@gmail.com'\n",
    "        self.pay = pay\n",
    "        \n",
    "        Employee.num_of_emps += 1\n",
    "        \n",
    "    def fullname(self):\n",
    "        return '{} {}'.format(self.first, self.last)\n",
    "    \n",
    "emp_1 = Employee(\"Jay\", 'Shankar' , 50000)\n",
    "\n",
    "#print(emp_1.fullname())\n",
    "print(Employee.fullname(emp_1))\n",
    "print(Employee.num_of_emps)\n",
    "print(emp_1.num_of_emps)\n",
    "print(emp_1.first)"
   ]
  },
  {
   "cell_type": "markdown",
   "metadata": {},
   "source": [
    "## static method and class method"
   ]
  },
  {
   "cell_type": "code",
   "execution_count": 23,
   "metadata": {},
   "outputs": [
    {
     "name": "stdout",
     "output_type": "stream",
     "text": [
      "1.04\n",
      "1.04\n",
      "1.04\n"
     ]
    }
   ],
   "source": [
    "# @staticmethod --> this represent that method is static\n",
    "# @classmethod --> this \n",
    "\n",
    "\n",
    "class Employee:\n",
    "    \n",
    "    #class variable\n",
    "    num_of_emps = 0\n",
    "    raise_amt = 1.04\n",
    "    \n",
    "    # instance variable\n",
    "    def __init__(self, first, last, pay):\n",
    "        self.first = first\n",
    "        self.last = last\n",
    "        self.email = first+'.'+last+'@gmail.com'\n",
    "        self.pay = pay\n",
    "        \n",
    "        Employee.num_of_emps += 1\n",
    "        \n",
    "    def fullname(self):\n",
    "        return '{} {}'.format(self.first, self.last)\n",
    "    \n",
    "    def apply_raise(self):\n",
    "        self.pay = int(self.pay * self.raise_amt)\n",
    "        \n",
    "emp_1 = Employee(\"Jay\", 'Shankar' , 50000)\n",
    "emp_2 = Employee(\"Test\", \"Employee\", 60000)\n",
    "\n",
    "\n",
    "\n",
    "print(Employee.raise_amt)\n",
    "print(emp_1.raise_amt)\n",
    "print(emp_2.raise_amt)"
   ]
  },
  {
   "cell_type": "code",
   "execution_count": 17,
   "metadata": {},
   "outputs": [
    {
     "name": "stdout",
     "output_type": "stream",
     "text": [
      "1.24\n",
      "1.24\n",
      "1.24\n",
      "50000\n"
     ]
    }
   ],
   "source": [
    "class Employee:\n",
    "    \n",
    "    #class variable\n",
    "    num_of_emps = 0\n",
    "    raise_amt = 1.04\n",
    "    \n",
    "    # instance variable\n",
    "    def __init__(self, first, last, pay):\n",
    "        self.first = first\n",
    "        self.last = last\n",
    "        self.email = first+'.'+last+'@gmail.com'\n",
    "        self.pay = pay\n",
    "        \n",
    "        Employee.num_of_emps += 1\n",
    "        \n",
    "    def fullname(self):\n",
    "        return '{} {}'.format(self.first, self.last)\n",
    "    \n",
    "    def apply_raise(self):\n",
    "        self.pay = int(self.pay * self.raise_amt)\n",
    "        \n",
    "    @classmethod # ---> decorator \n",
    "    def set_raise_amt(cls,self, amount):\n",
    "        self.pay = 40000\n",
    "        cls.raise_amt = amount # Employee.raise_amt = amount\n",
    "        \n",
    "    @staticmethod #---->\n",
    "    def static_call(b):\n",
    "        Employee.num_of_emps = b\n",
    "        \n",
    "emp_1 = Employee(\"Jay\", 'Shankar' , 50000)\n",
    "emp_2 = Employee(\"Test\", \"Employee\", 60000)\n",
    "\n",
    "\n",
    "Employee.set_raise_amt(emp_1,1.25)\n",
    "#Employee.raise_amt = 1.10\n",
    "emp_1.set_raise_amt(Employee,1.24)\n",
    "#emp_1.static_call(3)\n",
    "\n",
    "print(Employee.raise_amt)\n",
    "print(emp_1.raise_amt)\n",
    "print(emp_2.raise_amt)\n",
    "print(emp_1.pay)"
   ]
  },
  {
   "cell_type": "code",
   "execution_count": 30,
   "metadata": {},
   "outputs": [
    {
     "name": "stdout",
     "output_type": "stream",
     "text": [
      "john.doe@gmail.com\n",
      "70000\n"
     ]
    }
   ],
   "source": [
    "#class method alternative of constructor\n",
    "\n",
    "class Employee:\n",
    "    \n",
    "    #class variable\n",
    "    num_of_emps = 0\n",
    "    raise_amt = 1.04\n",
    "    \n",
    "    # instance variable\n",
    "    def __init__(self, first, last, pay):\n",
    "        self.first = first\n",
    "        self.last = last\n",
    "        self.email = first+'.'+last+'@gmail.com'\n",
    "        self.pay = pay\n",
    "        \n",
    "        Employee.num_of_emps += 1\n",
    "        \n",
    "    def fullname(self):\n",
    "        return '{} {}'.format(self.first, self.last)\n",
    "    \n",
    "    def apply_raise(self):\n",
    "        self.pay = int(self.pay * self.raise_amt)\n",
    "        \n",
    "    @classmethod\n",
    "    def set_raise_amt(cls, amount):\n",
    "        cls.raise_amt = amount\n",
    "        \n",
    "    @classmethod\n",
    "    def from_string(cls, emp_str):\n",
    "        first, last, pay = emp_str.split('-')\n",
    "        return cls(first, last, pay)\n",
    "        \n",
    "emp_1 = Employee(\"Jay\", 'Shankar' , 50000)\n",
    "emp_2 = Employee(\"Test\", \"Employee\", 60000)\n",
    "\n",
    "Employee.set_raise_amt(1.05)\n",
    "\n",
    "#Employee.raise_amt = 1.10\n",
    "\n",
    "# print(Employee.raise_amt)\n",
    "# print(emp_1.raise_amt)\n",
    "# print(emp_2.raise_amt)\n",
    "\n",
    "emp_str_1 = 'john-doe-70000'\n",
    "emp_str_2 = 'steve-smith-30000'\n",
    "emp_str_3 = 'jane-doe-90000'\n",
    "\n",
    "#first, last, pay = emp_str_1.split('-')\n",
    "\n",
    "#new_emp_1 = Employee(first, last, pay)\n",
    "new_emp_1 = Employee.from_string(emp_str_1)\n",
    "\n",
    "print(new_emp_1.email)\n",
    "print(new_emp_1.pay)"
   ]
  },
  {
   "cell_type": "code",
   "execution_count": null,
   "metadata": {},
   "outputs": [],
   "source": []
  },
  {
   "cell_type": "markdown",
   "metadata": {},
   "source": [
    "## Garbage Collections :-\n",
    "\n",
    "   - Garbage Collection (GC) is a form of automatic Memory Management.\n",
    "   \n",
    "                           or \n",
    "                           \n",
    "   - The Concept of removing the unused , unreferenced object from the memory location is known as a Garbage Collection.\n",
    "   \n",
    "   \n",
    "### Introducing to Python memory management :- \n",
    " - Python's memory allocation and deallocation method is automatically. The user does not have to preallocate or deallocate memory by hand as one has to when using dynamic memory allocation in language such as c or c++. \n",
    " - python uses two strategies for memory allocation:-\n",
    "     - Reference Counting\n",
    "     - Garbage collection\n",
    "     \n",
    "#### 1.) Reference counting:- \n",
    "     Prior To python Version 2.0 , The python Interpretor only used reference Counting for memory management \n",
    "   \n",
    "#### 2.) Garbage Collection:- \n",
    "    There are two types of garbage collection supported by python they are :- \n",
    "     a. Automatically Garbage Collection\n",
    "     b. Explicit Garbage Collection\n",
    "     \n",
    "##### a.) Automatically Garbage Collection :- \n",
    "    - After start execution of program periodically garbage collector program runs internally \n",
    "    - Whenever any object is going to removed from memory allocation destructor of that class is going to be excecuted\n",
    "##### b.) Explicitly Garbage Collection :- \n",
    "    - The concept of executing the garbage collection program explicitly whenever we required is known as explicit garbage collector.\n",
    "    - By Using 'del' keyword, we can run garbage collector explicitly\n",
    "    \n",
    "    \n",
    "Example:- "
   ]
  },
  {
   "cell_type": "code",
   "execution_count": 18,
   "metadata": {},
   "outputs": [
    {
     "name": "stdout",
     "output_type": "stream",
     "text": [
      "Welcome To memory allocation\n",
      "Thank U\n",
      "None\n",
      "Explicit MM\n",
      "None\n",
      "object Destroyed\n"
     ]
    }
   ],
   "source": [
    "class GarbageCollection:\n",
    "    \n",
    "    def GC_Method(self):\n",
    "        print('Welcome To memory allocation')\n",
    "        print('Thank U')\n",
    "        \n",
    "    def GC_MM(self):\n",
    "        print('Explicit MM')\n",
    "        \n",
    "    def __del__(self):\n",
    "        print('object Destroyed')\n",
    "        \n",
    "GC = GarbageCollection()\n",
    "\n",
    "print(GC.GC_Method())\n",
    "print(GC.GC_MM())\n",
    "\n",
    "del GC\n",
    "\n",
    "#print(GC.GC_Method())"
   ]
  },
  {
   "cell_type": "markdown",
   "metadata": {},
   "source": [
    "## Abstract method:"
   ]
  },
  {
   "cell_type": "code",
   "execution_count": 3,
   "metadata": {},
   "outputs": [
    {
     "ename": "TypeError",
     "evalue": "Can't instantiate abstract class Rectangle with abstract methods area, perimeter",
     "output_type": "error",
     "traceback": [
      "\u001b[1;31m---------------------------------------------------------------------------\u001b[0m",
      "\u001b[1;31mTypeError\u001b[0m                                 Traceback (most recent call last)",
      "\u001b[1;32m<ipython-input-3-1cf7e68f1c91>\u001b[0m in \u001b[0;36m<module>\u001b[1;34m\u001b[0m\n\u001b[0;32m     22\u001b[0m \u001b[1;33m\u001b[0m\u001b[0m\n\u001b[0;32m     23\u001b[0m \u001b[1;33m\u001b[0m\u001b[0m\n\u001b[1;32m---> 24\u001b[1;33m \u001b[0mrec\u001b[0m \u001b[1;33m=\u001b[0m \u001b[0mRectangle\u001b[0m\u001b[1;33m(\u001b[0m\u001b[1;36m5\u001b[0m\u001b[1;33m,\u001b[0m \u001b[1;36m4\u001b[0m\u001b[1;33m)\u001b[0m\u001b[1;33m\u001b[0m\u001b[1;33m\u001b[0m\u001b[0m\n\u001b[0m\u001b[0;32m     25\u001b[0m \u001b[0mprint\u001b[0m\u001b[1;33m(\u001b[0m\u001b[0mrec\u001b[0m\u001b[1;33m)\u001b[0m\u001b[1;33m\u001b[0m\u001b[1;33m\u001b[0m\u001b[0m\n\u001b[0;32m     26\u001b[0m \u001b[0mprint\u001b[0m\u001b[1;33m(\u001b[0m\u001b[0mrec\u001b[0m\u001b[1;33m.\u001b[0m\u001b[0marea\u001b[0m\u001b[1;33m(\u001b[0m\u001b[1;33m)\u001b[0m\u001b[1;33m)\u001b[0m\u001b[1;33m\u001b[0m\u001b[1;33m\u001b[0m\u001b[0m\n",
      "\u001b[1;31mTypeError\u001b[0m: Can't instantiate abstract class Rectangle with abstract methods area, perimeter"
     ]
    }
   ],
   "source": [
    "# ABC ---> this is metaclass , this force to override the abstract method in child class\n",
    "# abstractmethod ---> this is decorator\n",
    "\n",
    "from abc import ABC, abstractmethod\n",
    "\n",
    "class Shape(ABC):\n",
    "    \n",
    "    @abstractmethod    #-----> decorator\n",
    "    def area(self):\n",
    "        return 0\n",
    "    \n",
    "    @abstractmethod\n",
    "    def perimeter(self):\n",
    "        return 0\n",
    "    \n",
    "    \n",
    "class Rectangle(Shape):\n",
    "    \n",
    "    def __init__(self, width, height):\n",
    "        self.width = width\n",
    "        self.height = height\n",
    "        \n",
    "    \n",
    "rec = Rectangle(5, 4)\n",
    "print(rec)\n",
    "print(rec.area())"
   ]
  },
  {
   "cell_type": "code",
   "execution_count": 7,
   "metadata": {},
   "outputs": [
    {
     "name": "stdout",
     "output_type": "stream",
     "text": [
      "18\n",
      "18\n"
     ]
    },
    {
     "data": {
      "text/plain": [
       "28.285714285714285"
      ]
     },
     "execution_count": 7,
     "metadata": {},
     "output_type": "execute_result"
    }
   ],
   "source": [
    "from abc import ABC, abstractmethod\n",
    "\n",
    "class Shape(ABC):\n",
    "    \n",
    "    @abstractmethod    #-----> decorator\n",
    "    def area(self):\n",
    "        return 0\n",
    "    \n",
    "    @abstractmethod\n",
    "    def perimeter(self):\n",
    "        return 0\n",
    "    \n",
    "    \n",
    "class Rectangle(Shape):\n",
    "    \n",
    "    def __init__(self, width, height):\n",
    "        self.width = width\n",
    "        self.height = height\n",
    "        \n",
    "    def area(self):\n",
    "        return self.width * self.height \n",
    "    \n",
    "    def perimeter(self):\n",
    "        return 2*(self.width + self.height)\n",
    "    \n",
    "    \n",
    "class Circle(Shape):\n",
    "    \n",
    "    def __init__(self, radius):\n",
    "        self.radius = radius\n",
    "        \n",
    "    def area(self):\n",
    "        return (22/7)*(self.radius ** 2) \n",
    "    \n",
    "    def perimeter(self):\n",
    "        return 2*(22/7)*self.radius\n",
    "        \n",
    "    \n",
    "rec = Rectangle(6, 3)\n",
    "print(rec.area())\n",
    "print(rec.perimeter())\n",
    "\n",
    "cir = Circle(3)\n",
    "cir.area()"
   ]
  },
  {
   "cell_type": "code",
   "execution_count": null,
   "metadata": {},
   "outputs": [],
   "source": []
  }
 ],
 "metadata": {
  "kernelspec": {
   "display_name": "Python 3",
   "language": "python",
   "name": "python3"
  },
  "language_info": {
   "codemirror_mode": {
    "name": "ipython",
    "version": 3
   },
   "file_extension": ".py",
   "mimetype": "text/x-python",
   "name": "python",
   "nbconvert_exporter": "python",
   "pygments_lexer": "ipython3",
   "version": "3.7.9"
  }
 },
 "nbformat": 4,
 "nbformat_minor": 2
}
