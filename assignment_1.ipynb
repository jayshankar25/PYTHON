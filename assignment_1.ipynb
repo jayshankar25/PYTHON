{
 "cells": [
  {
   "cell_type": "markdown",
   "metadata": {},
   "source": [
    "##                                                Assignment-1                                             "
   ]
  },
  {
   "cell_type": "markdown",
   "metadata": {},
   "source": [
    "1.Write a program to count the total number of notes in a given amount. Valid notes:10, 20, 50, 100, 500, 2000 \n",
    "eg : amount 2510, expected output is 2000=1,500=1,10=1"
   ]
  },
  {
   "cell_type": "code",
   "execution_count": 1,
   "metadata": {},
   "outputs": [
    {
     "name": "stdout",
     "output_type": "stream",
     "text": [
      "Currency Count -> \n",
      "2000  :  1\n",
      "500  :  1\n",
      "10  :  1\n"
     ]
    }
   ],
   "source": [
    "\n",
    "def countCurrency(amount): \n",
    "      \n",
    "    notes = [2000, 500, 100, 50, 10] \n",
    "                 \n",
    "    noteCounter = [0, 0, 0, 0, 0] \n",
    "      \n",
    "    print (\"Currency Count -> \") \n",
    "      \n",
    "    for i, j in zip(notes, noteCounter): \n",
    "        if amount >= i: \n",
    "            j = amount // i \n",
    "            amount = amount - j * i \n",
    "            print (i ,\" : \", j) \n",
    "            \n",
    "\n",
    "countCurrency(2510)"
   ]
  },
  {
   "cell_type": "markdown",
   "metadata": {},
   "source": [
    "2.Write a program to implement an algorithm which will accept a string of characters and should find the highest occurrence of\n",
    "the character and display it. For example, if the input is \"aaaaaaaabbbcddddeeee\" it should return \"a\"."
   ]
  },
  {
   "cell_type": "code",
   "execution_count": 2,
   "metadata": {},
   "outputs": [
    {
     "name": "stdout",
     "output_type": "stream",
     "text": [
      "a : 8\n"
     ]
    }
   ],
   "source": [
    "s = \"aaaaaaaabbbcdddddeeee\"\n",
    "char_list = []\n",
    "for char in range(97,122): \n",
    "    i = chr(char)\n",
    "    if chr(char) in s:\n",
    "        char_list.append(i)\n",
    "        \n",
    "list = [0,0,0,0,0]\n",
    "for i in s :\n",
    "    for j,k in zip(char_list,range(0,5)):\n",
    "        if i == j:\n",
    "            list[k] += 1\n",
    "\n",
    " \n",
    "for n,m in zip(char_list,list):\n",
    "     if m == max(list):\n",
    "            print(n,':',m)\n",
    "    \n",
    "        \n",
    "        "
   ]
  },
  {
   "cell_type": "markdown",
   "metadata": {},
   "source": [
    " 3.Given a list of N integers. The task is to eliminate the minimum number of elements such that in the resulting list the sum \n",
    "of any two adjacent values is even.\n",
    "\n",
    "numbers = [1, 3, 5, 4, 2] output = [1, 3, 5] Total elements removed 2"
   ]
  },
  {
   "cell_type": "code",
   "execution_count": 3,
   "metadata": {},
   "outputs": [
    {
     "name": "stdout",
     "output_type": "stream",
     "text": [
      "[1, 3, 5, 2]\n",
      "Total element removed :-  1\n"
     ]
    }
   ],
   "source": [
    "num = [1,3,5,4,2]\n",
    "list = num.copy()\n",
    "for i in range(len(num)-1):\n",
    "    if (num[i]+num[i+1])%2 != 0:\n",
    "        list.remove(num[i+1])   \n",
    "        \n",
    "print(list)\n",
    "\n",
    "print(\"Total element removed :- \", len(num)-len(list))\n",
    "    \n",
    "        "
   ]
  },
  {
   "cell_type": "markdown",
   "metadata": {},
   "source": [
    "\n",
    "4.Given a dictionary that associates the names of states with a list of the names of cities that appear in it,\n",
    "write a program that creates a new dictionary that associates the name of a city with the list of states that it appears in.\n",
    "As an example, if the first dictionary is\n",
    "\n",
    "Input : states = {'New Hampshire': ['Concord', 'Hanover'],\n",
    "\n",
    "'Massachusetts': ['Boston', 'Concord', 'Springfield'],\n",
    "\n",
    "'Illinois': ['Chicago', 'Springfield', 'Peoria'] }\n",
    "\n",
    "Output: cities = {'Hanover': ['New Hampshire'],\n",
    "\n",
    "'Chicago': ['Illinois'],'Boston': ['Massachusetts'],\n",
    "\n",
    "'Peoria': ['Illinois'],'Concord': ['New Hampshire','Massachusetts'],\n",
    "\n",
    "'Springfield': ['Massachusetts', 'Illinois'] }"
   ]
  },
  {
   "cell_type": "code",
   "execution_count": 4,
   "metadata": {},
   "outputs": [
    {
     "name": "stdout",
     "output_type": "stream",
     "text": [
      "{'Springfield': ['Massachusetts', 'Illinois'], 'Concord': ['New Hampshire', 'Massachusetts'], 'Boston': ['Massachusetts'], 'Peoria': ['Illinois'], 'Hanover': ['New Hampshire'], 'Chicago': ['Illinois']}\n"
     ]
    }
   ],
   "source": [
    "s=set()\n",
    "states = {'New Hampshire': ['Concord', 'Hanover'],\n",
    "\n",
    "'Massachusetts': ['Boston', 'Concord', 'Springfield'],\n",
    "\n",
    "'Illinois': ['Chicago', 'Springfield', 'Peoria'] }\n",
    "\n",
    "d= dict()\n",
    "for i in states:\n",
    "   \n",
    "    for j in states[i]:\n",
    "        s.add(j)\n",
    "\n",
    "for i in s:\n",
    "    for j in states:\n",
    "        if i in states[j]:\n",
    "            x=d.get(i,None)\n",
    "            if x is not None:\n",
    "                d[i].append(j)\n",
    "            else:\n",
    "                d[i]=[j]\n",
    "print(d)\n",
    "\n",
    "\n",
    "        \n"
   ]
  },
  {
   "cell_type": "markdown",
   "metadata": {},
   "source": [
    "\n",
    "5.Consider a data, where the name of the restaurant, the type of restaurant, and the ratings are provided. Assume these values\n",
    "have already been read into a list of lists of the form below:\n",
    "\n",
    "restaurants = [ [ Acme, Italian, 2, 4, 3, 5],[ Flintstone, Steak, 5, 2, 4, 3, 3, 4],[ Bella Troy, Italian, 1, 4, 5] ]\n",
    "\n",
    "Write a program code that prints all Italian restaurants in the restaurants list that have no ratings of value 1 and \n",
    "at least one rating of value 5.\n",
    "\n",
    "In the above example, Acme would be printed in the output, but Flintstone and Bella Troy would not. Flintstone is not Italian \n",
    "and Bella Troy has a 1 rating."
   ]
  },
  {
   "cell_type": "code",
   "execution_count": 5,
   "metadata": {},
   "outputs": [
    {
     "name": "stdout",
     "output_type": "stream",
     "text": [
      "Acme\n"
     ]
    }
   ],
   "source": [
    "restaurants = [ [\"Acme\", \"Italian\", 2, 4, 3, 5],[\"Flintstone\", \"Steak\", 5, 2, 4, 3, 3, 4],[\"Bella Troy\",\"Italian\", 1, 4, 5] ]\n",
    "for i in range(len(restaurants)) :\n",
    "        if restaurants[i][1] == 'Italian' and 1 not in restaurants[i][2:] :\n",
    "            print(restaurants[i][0])\n",
    "    "
   ]
  },
  {
   "cell_type": "markdown",
   "metadata": {},
   "source": [
    "6.In the pre-smartphone era,each number key is assigned a subset of the alphabet {a,b,…,z}: 2 is assigned \n",
    "the subset {a,b,c}, 3 is assigned {d,e,f}, 4 is assigned {g,h,i}, 5 is assigned {j,k,l}, 6 is assigned {m,n,o}, \n",
    "7 is assigned {p,q,r,s}, 8 is assigned {t,u,v} and 9 is assigned {w,x,y,z}.\n",
    "\n",
    "Write a program to find the characters generated using key 9999335533 output should be \"zeke\""
   ]
  },
  {
   "cell_type": "code",
   "execution_count": 6,
   "metadata": {},
   "outputs": [
    {
     "name": "stdout",
     "output_type": "stream",
     "text": [
      "zeke\n"
     ]
    }
   ],
   "source": [
    "\n",
    "d={2:[\"a\",\"b\",\"c\"],3:[\"d\",\"e\",\"f\"],4:[\"g\",\"h\",\"i\"],5:[\"j\",\"k\",\"l\"],6:[\"m\",\"n\",\"o\"],7:[\"p\",\"q\",\"r\",\"s\"],\n",
    "   8:[\"t\",\"u\",\"v\"],9:[\"w\",\"x\",\"y\",\"z\"]}\n",
    "\n",
    "n= \"9999335533\"\n",
    "i=0\n",
    "count=1\n",
    "s=''\n",
    "\n",
    "while(i<len(n)):\n",
    "    if(i<len(n)-1 and n[i]==n[i+1]):\n",
    "        count+=1\n",
    "    else:\n",
    "        s+=d[int(n[i])][count-1]\n",
    "        count=1\n",
    "    i+=1\n",
    "\n",
    "print(s)"
   ]
  },
  {
   "cell_type": "code",
   "execution_count": null,
   "metadata": {},
   "outputs": [],
   "source": []
  }
 ],
 "metadata": {
  "kernelspec": {
   "display_name": "Python 3",
   "language": "python",
   "name": "python3"
  },
  "language_info": {
   "codemirror_mode": {
    "name": "ipython",
    "version": 3
   },
   "file_extension": ".py",
   "mimetype": "text/x-python",
   "name": "python",
   "nbconvert_exporter": "python",
   "pygments_lexer": "ipython3",
   "version": "3.7.4"
  }
 },
 "nbformat": 4,
 "nbformat_minor": 2
}
