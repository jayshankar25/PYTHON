{
 "cells": [
  {
   "cell_type": "markdown",
   "metadata": {},
   "source": [
    "### Encapsulation :- \n",
    "   - we can restrict the access to the variables and methods is called as Encapsulation   \n",
    "   - The concept of binding (or) grouping to related data members along with its related functionallities is known as encapsulation\n",
    "   \n",
    "   \n",
    "#### Why Encapsulation:- \n",
    "   -  To prevent the data from being modified accidently\n",
    "   -  Data is most valuable component, we need to prevent that with help of encapsulation\n",
    "   \n",
    "#### Private method in python:- \n",
    "   - when the attributes of an object can only be accessed inside the class , it is called private\n",
    "   - python use Two underscore to hide a method or attribute\n",
    "   - we cannot access private methods outside the class\n",
    "\n",
    "Example:- "
   ]
  },
  {
   "cell_type": "code",
   "execution_count": 8,
   "metadata": {},
   "outputs": [
    {
     "name": "stdout",
     "output_type": "stream",
     "text": [
      "100\n",
      "Hello, I am private\n"
     ]
    }
   ],
   "source": [
    "# example -- 1\n",
    "\n",
    "class DataBinding():\n",
    "    \n",
    "    def __init__(self):\n",
    "        self.__x = 100\n",
    "        self.__string = \"Hello, I am private\"\n",
    "        \n",
    "    \n",
    "        \n",
    "# Creating Instance or Object\n",
    "DB = DataBinding()\n",
    "\n",
    "# calling or printing outside the function\n",
    "# print(DB.__x)\n",
    "# print(DB.__string)\n",
    "# print(DB.__dict__)\n",
    "# print(DB.__dict__.get('_DataBinding__x'))\n",
    "# print(DB.__dict__.get('_DataBinding__string'))\n",
    "print(DB._DataBinding__x)\n",
    "print(DB._DataBinding__string)"
   ]
  },
  {
   "cell_type": "code",
   "execution_count": 27,
   "metadata": {},
   "outputs": [
    {
     "name": "stdout",
     "output_type": "stream",
     "text": [
      "The value is :-  100\n",
      "The String is :-  Hello, I am private\n"
     ]
    }
   ],
   "source": [
    "# Example --2 \n",
    "\n",
    "class DataBinding():\n",
    "    \n",
    "    def __init__(self):\n",
    "        self.__x = 100\n",
    "        self.__string = \"Hello, I am private\"\n",
    "        \n",
    "    def display(self):\n",
    "        print(\"The value is :- \", self.__x)\n",
    "        print(\"The String is :- \", self.__string)\n",
    "        \n",
    "# Creating Instance or Object\n",
    "DB = DataBinding()\n",
    "\n",
    "# calling method\n",
    "DB.display()\n",
    "\n",
    "DataBinding.display(DB)"
   ]
  },
  {
   "cell_type": "code",
   "execution_count": 10,
   "metadata": {},
   "outputs": [
    {
     "name": "stdout",
     "output_type": "stream",
     "text": [
      "car software updated\n",
      "Thank you\n",
      "Hello Constructor\n",
      "Hello Driving\n"
     ]
    }
   ],
   "source": [
    "# Exaple -- 3\n",
    "\n",
    "class car:\n",
    "    \n",
    "    def __init__(self):\n",
    "        self.__updatedsoftware()\n",
    "        print(\"Hello Constructor\")\n",
    "        \n",
    "    def Driving(self):\n",
    "        print(\"Hello Driving\")\n",
    "        \n",
    "    def __updatedsoftware(self):\n",
    "        print(\"car software updated\")\n",
    "        print(\"Thank you\")\n",
    "        \n",
    "# creating Instance or object\n",
    "cc = car()\n",
    "\n",
    "# calling method \n",
    "cc.Driving()"
   ]
  },
  {
   "cell_type": "code",
   "execution_count": 28,
   "metadata": {},
   "outputs": [
    {
     "name": "stdout",
     "output_type": "stream",
     "text": [
      "car software updated\n",
      "Thank you\n",
      "Hello Constructor\n",
      "Hello Driving\n"
     ]
    },
    {
     "ename": "AttributeError",
     "evalue": "'car' object has no attribute '__updatedsoftware'",
     "output_type": "error",
     "traceback": [
      "\u001b[1;31m---------------------------------------------------------------------------\u001b[0m",
      "\u001b[1;31mAttributeError\u001b[0m                            Traceback (most recent call last)",
      "\u001b[1;32m<ipython-input-28-ff95ec0a469d>\u001b[0m in \u001b[0;36m<module>\u001b[1;34m\u001b[0m\n\u001b[0;32m     19\u001b[0m \u001b[1;31m# calling method\u001b[0m\u001b[1;33m\u001b[0m\u001b[1;33m\u001b[0m\u001b[1;33m\u001b[0m\u001b[0m\n\u001b[0;32m     20\u001b[0m \u001b[0mcc\u001b[0m\u001b[1;33m.\u001b[0m\u001b[0mDriving\u001b[0m\u001b[1;33m(\u001b[0m\u001b[1;33m)\u001b[0m\u001b[1;33m\u001b[0m\u001b[1;33m\u001b[0m\u001b[0m\n\u001b[1;32m---> 21\u001b[1;33m \u001b[0mcc\u001b[0m\u001b[1;33m.\u001b[0m\u001b[0m__updatedsoftware\u001b[0m\u001b[1;33m(\u001b[0m\u001b[1;33m)\u001b[0m  \u001b[1;31m#----> AttributeError: 'car' object has no attribute '__updatedsoftware'\u001b[0m\u001b[1;33m\u001b[0m\u001b[1;33m\u001b[0m\u001b[0m\n\u001b[0m",
      "\u001b[1;31mAttributeError\u001b[0m: 'car' object has no attribute '__updatedsoftware'"
     ]
    }
   ],
   "source": [
    "# Example -- 4\n",
    "\n",
    "class car:\n",
    "    \n",
    "    def __init__(self):\n",
    "        self.__updatedsoftware()\n",
    "        print(\"Hello Constructor\")\n",
    "        \n",
    "    def Driving(self):\n",
    "        print(\"Hello Driving\")\n",
    "        \n",
    "    def __updatedsoftware(self):\n",
    "        print(\"car software updated\")\n",
    "        print(\"Thank you\")\n",
    "        \n",
    "# creating Instance or object\n",
    "cc = car()\n",
    "\n",
    "# calling method \n",
    "cc.Driving()\n",
    "cc.__updatedsoftware()  #----> AttributeError: 'car' object has no attribute '__updatedsoftware'\n"
   ]
  },
  {
   "cell_type": "code",
   "execution_count": 16,
   "metadata": {},
   "outputs": [
    {
     "name": "stdout",
     "output_type": "stream",
     "text": [
      "car software updated\n",
      "Thank you\n",
      "Hello Constructor\n",
      "car software updated\n",
      "Thank you\n"
     ]
    }
   ],
   "source": [
    "# Example -- 5\n",
    "\n",
    "class car:\n",
    "    \n",
    "    def __init__(self):\n",
    "        self.__updatedsoftware()\n",
    "        print(\"Hello Constructor\")\n",
    "        \n",
    "    def Driving(self):\n",
    "        print(\"Hello Driving\")\n",
    "        \n",
    "    def __updatedsoftware(self):\n",
    "        print(\"car software updated\")\n",
    "        print(\"Thank you\")\n",
    "        \n",
    "# creating Instance or object\n",
    "cc = car()\n",
    "\n",
    "# calling method \n",
    "#cc.Driving()\n",
    "cc._car__updatedsoftware()"
   ]
  },
  {
   "cell_type": "markdown",
   "metadata": {},
   "source": [
    "## Note:- \n",
    "\n",
    "    - we can call private resources with protected class ' _car__updatedsoftware()'"
   ]
  },
  {
   "cell_type": "markdown",
   "metadata": {},
   "source": [
    "### private variable in python:- \n",
    "\n",
    "private variables can be modified inside the class methods. we cannot modify private variable outside the class.\n",
    "\n",
    "Example:- "
   ]
  },
  {
   "cell_type": "code",
   "execution_count": 29,
   "metadata": {},
   "outputs": [
    {
     "name": "stdout",
     "output_type": "stream",
     "text": [
      "Name of the car is :-  sportscar\n",
      "Current Speed is :-  300\n",
      "Updated speed is:-  500\n"
     ]
    }
   ],
   "source": [
    "class Car():\n",
    "    __maxspeed = 0\n",
    "    __name = ''\n",
    "    \n",
    "    def __init__(self):   # magic / Dunder method\n",
    "        self.__maxspeed = 300\n",
    "        self.__name = \"sportscar\"\n",
    "        \n",
    "    def Display_Details(self):\n",
    "        print(\"Name of the car is :- \", self.__name)\n",
    "        print(\"Current Speed is :- \", self.__maxspeed)\n",
    "        \n",
    "    def setspeed(self, speed):\n",
    "        self.__maxspeed = speed\n",
    "        print(\"Updated speed is:- \", self.__maxspeed)\n",
    "        \n",
    "# creating Instance or object\n",
    "cc = Car()\n",
    "cc.Display_Details()\n",
    "cc.setspeed(500)"
   ]
  },
  {
   "cell_type": "code",
   "execution_count": null,
   "metadata": {},
   "outputs": [],
   "source": []
  },
  {
   "cell_type": "code",
   "execution_count": null,
   "metadata": {},
   "outputs": [],
   "source": []
  },
  {
   "cell_type": "code",
   "execution_count": null,
   "metadata": {},
   "outputs": [],
   "source": []
  },
  {
   "cell_type": "code",
   "execution_count": null,
   "metadata": {},
   "outputs": [],
   "source": []
  },
  {
   "cell_type": "markdown",
   "metadata": {},
   "source": [
    "## Ploymorphisms:- \n",
    "   - poly means 'Many' and morphism means forms\n",
    "   - forms means functionality or logics\n",
    "   - the Concept of defining multiple logics to perform same operation is known as a ploymorphism\n",
    "   - polymorphism can be implemented by using method overriding\n",
    "   - python is implicitly polymorphism\n",
    "   \n",
    "Example :  "
   ]
  },
  {
   "cell_type": "code",
   "execution_count": 2,
   "metadata": {},
   "outputs": [
    {
     "name": "stdout",
     "output_type": "stream",
     "text": [
      "11\n"
     ]
    }
   ],
   "source": [
    "# overriding\n",
    "a = 5 ; b = 6\n",
    "print(a+b)   #----> addition in case of integer"
   ]
  },
  {
   "cell_type": "code",
   "execution_count": 30,
   "metadata": {},
   "outputs": [
    {
     "name": "stdout",
     "output_type": "stream",
     "text": [
      "HelloJay\n"
     ]
    }
   ],
   "source": [
    "a = \"Hello\" ; b = \"Jay\"\n",
    "\n",
    "print(a+b)  # ----> concatination in case of string"
   ]
  },
  {
   "cell_type": "code",
   "execution_count": 39,
   "metadata": {},
   "outputs": [
    {
     "data": {
      "text/plain": [
       "True"
      ]
     },
     "execution_count": 39,
     "metadata": {},
     "output_type": "execute_result"
    }
   ],
   "source": [
    "class Employee:\n",
    "    \n",
    "    def __init__(self, name, salary):\n",
    "        self.name = name\n",
    "        self.salary = salary\n",
    "        \n",
    "    def __gt__(self, other):     # ----> dunder method / magic method\n",
    "        return self.salary > other.salary\n",
    "   \n",
    "        \n",
    "e1 = Employee(\"Manoj\", 40000)\n",
    "e2 = Employee(\"Suraj\", 30000)\n",
    "\n",
    "e1 > e2"
   ]
  },
  {
   "cell_type": "markdown",
   "metadata": {},
   "source": [
    "### Polymorphism different forms :--\n",
    "    1. method overriding\n",
    "    2. mehtod overloading"
   ]
  },
  {
   "cell_type": "markdown",
   "metadata": {},
   "source": [
    "### Dynamc polymorphism --> method overriding\n",
    "    Through mehtod overriding, a class may \"copy\" another class avoid dublicating code and at the same time enhance and customize part of it\n",
    "                                    or\n",
    "    it is the ability of class to change the implementation it method provded by one of it ancestor\n",
    "    \n",
    "Example:"
   ]
  },
  {
   "cell_type": "code",
   "execution_count": 4,
   "metadata": {},
   "outputs": [
    {
     "name": "stdout",
     "output_type": "stream",
     "text": [
      "I am in class A\n"
     ]
    }
   ],
   "source": [
    "# Example - 1\n",
    "class A:     #------ parent class\n",
    "    def Hello(self):\n",
    "        print(\"I am in class A\")\n",
    "        \n",
    "class B(A):  # ------- child class\n",
    "    pass\n",
    "\n",
    "B_obj = B()\n",
    "B_obj.Hello()"
   ]
  },
  {
   "cell_type": "code",
   "execution_count": 11,
   "metadata": {},
   "outputs": [
    {
     "name": "stdout",
     "output_type": "stream",
     "text": [
      "I am in class c\n"
     ]
    }
   ],
   "source": [
    "class A:     #------ parent class\n",
    "    def Hello(self):\n",
    "        print(\"I am in class A\")\n",
    "        \n",
    "class B(A):  # ------- child class\n",
    "    def Hello(self):  #----- method overriding \n",
    "        print(\"I am in class c\")\n",
    "\n",
    "B_obj = B()\n",
    "B_obj.Hello()"
   ]
  },
  {
   "cell_type": "code",
   "execution_count": 12,
   "metadata": {},
   "outputs": [
    {
     "name": "stdout",
     "output_type": "stream",
     "text": [
      "Son First Name\n",
      "Father Last Name\n"
     ]
    }
   ],
   "source": [
    "# exmple -2 \n",
    "\n",
    "class Father():\n",
    "    def FirstName(self):\n",
    "        print(\"Father First Name\")\n",
    "        \n",
    "    def LastName(self):\n",
    "        print(\"Father Last Name\")\n",
    "        \n",
    "class Son(Father):\n",
    "    def FirstName(self):\n",
    "        print(\"Son First Name\")\n",
    "        \n",
    "        \n",
    "ss = Son()\n",
    "ss.FirstName()\n",
    "ss.LastName()"
   ]
  },
  {
   "cell_type": "markdown",
   "metadata": {},
   "source": [
    "### Static Polymorhism ---> Method Overloading\n",
    "\n",
    "    Note:- Python doesn't support method overloading , it is dynamic typed language\n",
    "    \n",
    "Example"
   ]
  },
  {
   "cell_type": "code",
   "execution_count": 13,
   "metadata": {},
   "outputs": [
    {
     "ename": "TypeError",
     "evalue": "Add() missing 1 required positional argument: 'd'",
     "output_type": "error",
     "traceback": [
      "\u001b[1;31m---------------------------------------------------------------------------\u001b[0m",
      "\u001b[1;31mTypeError\u001b[0m                                 Traceback (most recent call last)",
      "\u001b[1;32m<ipython-input-13-55f61d062c06>\u001b[0m in \u001b[0;36m<module>\u001b[1;34m\u001b[0m\n\u001b[0;32m     11\u001b[0m \u001b[1;33m\u001b[0m\u001b[0m\n\u001b[0;32m     12\u001b[0m \u001b[0mcc\u001b[0m \u001b[1;33m=\u001b[0m \u001b[0mCalculation\u001b[0m\u001b[1;33m(\u001b[0m\u001b[1;33m)\u001b[0m\u001b[1;33m\u001b[0m\u001b[1;33m\u001b[0m\u001b[0m\n\u001b[1;32m---> 13\u001b[1;33m \u001b[0mcc\u001b[0m\u001b[1;33m.\u001b[0m\u001b[0mAdd\u001b[0m\u001b[1;33m(\u001b[0m\u001b[1;36m1\u001b[0m\u001b[1;33m,\u001b[0m\u001b[1;36m2\u001b[0m\u001b[1;33m,\u001b[0m\u001b[1;36m3\u001b[0m\u001b[1;33m)\u001b[0m\u001b[1;33m\u001b[0m\u001b[1;33m\u001b[0m\u001b[0m\n\u001b[0m",
      "\u001b[1;31mTypeError\u001b[0m: Add() missing 1 required positional argument: 'd'"
     ]
    }
   ],
   "source": [
    "class Calculation():\n",
    "    \n",
    "    def Add(self, a, b):\n",
    "        return a+b\n",
    "    \n",
    "    def Add(self, a, b, c):\n",
    "        return a+b+c\n",
    "    \n",
    "    def Add(self, a, b, c, d):\n",
    "        return a+b+c+d\n",
    "    \n",
    "cc = Calculation()\n",
    "cc.Add(1,2,3)"
   ]
  },
  {
   "cell_type": "markdown",
   "metadata": {},
   "source": [
    "### Duck Typing:- \n",
    "\n",
    "    it is a concept that say that the \"type\" of the object is a metther of concern only at runtime and you doesn't need to explicitly mention the type of object before you perform any kind of operation on the object\n",
    "    \n",
    "                            or\n",
    "                            \n",
    "                            \n",
    "    it is an application of the duck test of type safety. it is  requires  type checking  to runtime and is implemente by mean of dynamic typed or reflection . Duck Type is a type of polymorphism\n",
    "    \n",
    "example:-"
   ]
  },
  {
   "cell_type": "code",
   "execution_count": 17,
   "metadata": {},
   "outputs": [
    {
     "name": "stdout",
     "output_type": "stream",
     "text": [
      "3\n",
      "HelloPython\n"
     ]
    }
   ],
   "source": [
    "\n",
    "def Cals(a,b):\n",
    "    return (a+b)\n",
    "\n",
    "print(Cals(1,2))\n",
    "print(Cals(\"Hello\", \"Python\"))"
   ]
  },
  {
   "cell_type": "markdown",
   "metadata": {},
   "source": [
    "### Inheritance \n",
    "\n",
    "    Reuse class Member-Variables and Methods\n",
    "                or\n",
    "    It is the process of inheriting the class Members from one class to anther class is called Inheritance\n",
    "                or\n",
    "    The Concept of using properties of one class into another class without creating object of that class explicitly is known as Inheritance\n",
    "                or\n",
    "    A class Which is extended by another class is known as Super Class\n",
    "                or\n",
    "    Both Super class property and sub-class property can be access through subclass reference Variable\n",
    "    \n",
    "    \n",
    "### Types of Inheritance:-\n",
    "\n",
    "    1. Single Level Inheritance\n",
    "    2. Multilevel Inheritance\n",
    "    3. Multiple Inheritance\n",
    "    4. Hirarchical Inheritance\n",
    "    5. Diamond Inheritance\n",
    "    6. Hybrid Inheritance\n",
    "    \n",
    "    \n",
    "#### Outline of Inheritance:\n",
    "\n",
    "    Base class     ---> Existing class\n",
    "        feature 1\n",
    "        feature 2\n",
    "        \n",
    "    Derived Class  ---> newly created class\n",
    "        feature 1\n",
    "        feature 2\n",
    "        feature 3\n",
    "        \n",
    "        \n",
    "   ##### terminology:\n",
    "   \n",
    "    parent class ==> Base Class ==> Super class\n",
    "    child class ==> Derived class ==> sub class"
   ]
  },
  {
   "cell_type": "markdown",
   "metadata": {},
   "source": [
    "## Single Level Inheritance:-\n",
    "    The Concept of inheriting properties from only one class into another class is known as a single inheritance\n",
    "    \n",
    "Example:-"
   ]
  },
  {
   "cell_type": "code",
   "execution_count": 40,
   "metadata": {},
   "outputs": [
    {
     "name": "stdout",
     "output_type": "stream",
     "text": [
      "Son First Name\n",
      "Father Last Name\n"
     ]
    }
   ],
   "source": [
    "class Father():\n",
    "    def FirstName(self):\n",
    "        print(\"Father First Name\")\n",
    "        \n",
    "    def LastName(self):\n",
    "        print(\"Father Last Name\")\n",
    "        \n",
    "class Son(Father):\n",
    "    def FirstName(self):\n",
    "        print(\"Son First Name\")\n",
    "        \n",
    "        \n",
    "ss = Son()\n",
    "ss.FirstName()\n",
    "ss.LastName()"
   ]
  },
  {
   "cell_type": "code",
   "execution_count": null,
   "metadata": {},
   "outputs": [],
   "source": []
  },
  {
   "cell_type": "code",
   "execution_count": null,
   "metadata": {},
   "outputs": [],
   "source": []
  },
  {
   "cell_type": "code",
   "execution_count": null,
   "metadata": {},
   "outputs": [],
   "source": []
  },
  {
   "cell_type": "markdown",
   "metadata": {},
   "source": [
    "## Multilevel Inheritance:-\n",
    "    You can inherit a derived class from another class also, this is known as Multilevel inheritance\n",
    "    \n",
    "Example:-"
   ]
  },
  {
   "cell_type": "code",
   "execution_count": 43,
   "metadata": {},
   "outputs": [
    {
     "name": "stdout",
     "output_type": "stream",
     "text": [
      "this is class A\n",
      "This is class B\n",
      "This is class C\n"
     ]
    }
   ],
   "source": [
    "class A():\n",
    "    \n",
    "     \n",
    "    def method(self):\n",
    "        print(\"this is class A\")\n",
    "        \n",
    "class B(A):\n",
    "    \n",
    "    def method1(self):\n",
    "        print(\"This is class B\")\n",
    "               \n",
    "class C(B):\n",
    "    \n",
    "    def method2(self):\n",
    "        print(\"This is class C\")\n",
    "        \n",
    "cc = C()\n",
    "cc.method()\n",
    "cc.method1()\n",
    "cc.method2()"
   ]
  },
  {
   "cell_type": "code",
   "execution_count": null,
   "metadata": {},
   "outputs": [],
   "source": []
  },
  {
   "cell_type": "code",
   "execution_count": null,
   "metadata": {},
   "outputs": [],
   "source": []
  },
  {
   "cell_type": "code",
   "execution_count": null,
   "metadata": {},
   "outputs": [],
   "source": []
  },
  {
   "cell_type": "markdown",
   "metadata": {},
   "source": [
    "## Multiple Inheritance:-\n",
    "     you can derived a child class from more than one (Parent)class\n",
    "     \n",
    "Exmple:-"
   ]
  },
  {
   "cell_type": "code",
   "execution_count": 44,
   "metadata": {},
   "outputs": [
    {
     "name": "stdout",
     "output_type": "stream",
     "text": [
      "this is class A\n",
      "This is class B\n",
      "This is class C\n"
     ]
    }
   ],
   "source": [
    "class A():\n",
    "    \n",
    "    def method(self):\n",
    "        print(\"this is class A\")\n",
    "        \n",
    "class B():\n",
    "    \n",
    "    def method1(self):\n",
    "        print(\"This is class B\")\n",
    "               \n",
    "class C(B,A):\n",
    "    \n",
    "    def method2(self):\n",
    "        print(\"This is class C\")\n",
    "        \n",
    "cc = C()\n",
    "cc.method()\n",
    "cc.method1()\n",
    "cc.method2()"
   ]
  },
  {
   "cell_type": "code",
   "execution_count": null,
   "metadata": {},
   "outputs": [],
   "source": []
  },
  {
   "cell_type": "code",
   "execution_count": null,
   "metadata": {},
   "outputs": [],
   "source": []
  },
  {
   "cell_type": "code",
   "execution_count": null,
   "metadata": {},
   "outputs": [],
   "source": []
  },
  {
   "cell_type": "markdown",
   "metadata": {},
   "source": [
    "## MRO :- Method Resolution Order\n",
    "    - In The Multiple Inheritance Senario, any Specific attributes is searched first in the current class, if not found, The search continue into parent classes depth-first, left-right fashion without searching same class twice\n",
    "    - MRO Must present local procedence ordering and also provides monotonocity. it ensures that a class always appears before its parent and in case of multiple parnts, the order is same as tuple of base classes                               \n",
    "\n",
    "Example:-"
   ]
  },
  {
   "cell_type": "code",
   "execution_count": 47,
   "metadata": {},
   "outputs": [],
   "source": [
    "class A:\n",
    "    pass\n",
    "\n",
    "class B():\n",
    "    pass\n",
    "\n",
    "class C(B,A):\n",
    "    pass\n",
    "\n",
    "def main():\n",
    "    obj = C()\n",
    "    \n",
    "    \n",
    "if \"__main__\" == __name__:\n",
    "    main()"
   ]
  },
  {
   "cell_type": "code",
   "execution_count": 21,
   "metadata": {},
   "outputs": [
    {
     "name": "stdout",
     "output_type": "stream",
     "text": [
      "I am in class A\n"
     ]
    }
   ],
   "source": [
    "class A:\n",
    "    def mymethod(self):\n",
    "        print(\"I am in class A\")\n",
    "\n",
    "class B():\n",
    "    pass\n",
    "\n",
    "class C(B,A):\n",
    "    pass\n",
    "\n",
    "def main():\n",
    "    obj = C()\n",
    "    obj.mymethod()\n",
    "    \n",
    "if __name__ == \"__main__\" :\n",
    "    main()"
   ]
  },
  {
   "cell_type": "code",
   "execution_count": 23,
   "metadata": {},
   "outputs": [
    {
     "name": "stdout",
     "output_type": "stream",
     "text": [
      "I am in class C\n"
     ]
    }
   ],
   "source": [
    "class A:\n",
    "    def mymethod(self):\n",
    "        print(\"I am in class A\")\n",
    "\n",
    "class B():\n",
    "    def mymethod(self):\n",
    "        print(\"I am in class B\")\n",
    "\n",
    "class C(B,A):\n",
    "    def mymethod(self):\n",
    "        print(\"I am in class C\")\n",
    "\n",
    "def main():\n",
    "    obj = C()\n",
    "    obj.mymethod()\n",
    "    \n",
    "if __name__ == \"__main__\" :\n",
    "    main()"
   ]
  },
  {
   "cell_type": "markdown",
   "metadata": {},
   "source": [
    "## Hirerachical Inheritance:- \n",
    "\n",
    "e.g:- \n",
    "\n",
    "                                    Class A\n",
    "                                   /        \\\n",
    "                                  /          \\\n",
    "                                 /            \\\n",
    "                             class B        class C\n",
    "                                "
   ]
  },
  {
   "cell_type": "code",
   "execution_count": 51,
   "metadata": {},
   "outputs": [
    {
     "name": "stdout",
     "output_type": "stream",
     "text": [
      "I am in class A\n",
      "I am in class C\n",
      "I am in class A\n",
      "I am in class B\n"
     ]
    }
   ],
   "source": [
    "class A:\n",
    "    def mymethod(self):\n",
    "        print(\"I am in class A\")\n",
    "\n",
    "class B(A):\n",
    "    def mymethod1(self):\n",
    "        print(\"I am in class B\")\n",
    "\n",
    "class C(A):\n",
    "    def mymethod2(self):\n",
    "        print(\"I am in class C\")\n",
    "\n",
    "def main():\n",
    "    obj = C()\n",
    "    obj.mymethod()\n",
    "    obj.mymethod2()\n",
    "    \n",
    "    obj_b = B()\n",
    "    obj_b.mymethod()\n",
    "    obj_b.mymethod1()\n",
    "    \n",
    "if __name__ == \"__main__\" :\n",
    "    main()"
   ]
  },
  {
   "cell_type": "code",
   "execution_count": null,
   "metadata": {},
   "outputs": [],
   "source": []
  },
  {
   "cell_type": "markdown",
   "metadata": {},
   "source": [
    "## Hybrid Inheritance:-\n",
    "\n",
    "    Hybrid Inheritance is that type in which we combine two or more types of Inheritance\n",
    "    \n",
    "                  or\n",
    "            \n",
    "    it is the combination of hirarchical + multiple + multilevel inheritance are called hybrid Inheritance\n",
    "    \n",
    "    \n",
    "    \n",
    "    e.g:- \n",
    "                             \n",
    "                                     Class A\n",
    "                                   /        \\\n",
    "                                  /          \\\n",
    "                                 /            \\\n",
    "                             class B        class C\n",
    "                                \\              /\n",
    "                                 \\            /\n",
    "                                  \\          /\n",
    "                                   \\        /\n",
    "                                     class D\n",
    "                                     \n",
    "                                     \n",
    "Example:-"
   ]
  },
  {
   "cell_type": "code",
   "execution_count": 53,
   "metadata": {},
   "outputs": [
    {
     "name": "stdout",
     "output_type": "stream",
     "text": [
      "I am in class A\n",
      "I am in class B\n",
      "I am in class C\n"
     ]
    }
   ],
   "source": [
    "class A:\n",
    "    def mymethod(self):\n",
    "        print(\"I am in class A\")\n",
    "\n",
    "class B(A):\n",
    "    def mymethod(self):\n",
    "        print(\"I am in class B\")\n",
    "\n",
    "class C(A):\n",
    "    def mymethod(self):\n",
    "        print(\"I am in class C\")\n",
    "        \n",
    "class D(C, B, ):\n",
    "    def mymethod(self):\n",
    "        B.mymethod(self)\n",
    "        C.mymethod(self)\n",
    "\n",
    "def main():\n",
    "    obj = D()\n",
    "    obj.mymethod()\n",
    "    \n",
    "    \n",
    "if __name__ == \"__main__\" :\n",
    "    main()"
   ]
  },
  {
   "cell_type": "code",
   "execution_count": null,
   "metadata": {},
   "outputs": [],
   "source": []
  },
  {
   "cell_type": "code",
   "execution_count": null,
   "metadata": {},
   "outputs": [],
   "source": []
  },
  {
   "cell_type": "code",
   "execution_count": null,
   "metadata": {},
   "outputs": [],
   "source": []
  },
  {
   "cell_type": "markdown",
   "metadata": {},
   "source": [
    "## Diamond Inheritance :- (Hybrid Inheritance):-\n",
    "\n",
    "     Hybrid inhertnce popularly known as Diamond Inheritance. The Following diamond express, Working, principle of Diamond\n",
    "     \n",
    "     e.g:-                          Class A\n",
    "                                   /        \\\n",
    "                                  /          \\\n",
    "                                 /            \\\n",
    "                             class B        class C\n",
    "                                \\              /\n",
    "                                 \\            /\n",
    "                                  \\          /\n",
    "                                   \\        /\n",
    "                                     class D\n",
    "     \n",
    "     \n",
    "     \n",
    "     "
   ]
  },
  {
   "cell_type": "code",
   "execution_count": 60,
   "metadata": {},
   "outputs": [
    {
     "name": "stdout",
     "output_type": "stream",
     "text": [
      "I am in class B\n",
      "I am in class C\n"
     ]
    }
   ],
   "source": [
    "class A:\n",
    "    def mymethod(self):\n",
    "        print(\"I am in class A\")\n",
    "\n",
    "class B(A):\n",
    "    def mymethod(self):\n",
    "        print(\"I am in class B\")\n",
    "\n",
    "class C(A):\n",
    "    def mymethod(self):\n",
    "        print(\"I am in class C\")\n",
    "        \n",
    "class D(C, B):\n",
    "    def mymethod(self):\n",
    "        B.mymethod(self)\n",
    "        C.mymethod(self)\n",
    "\n",
    "def main():\n",
    "    obj = D()\n",
    "    obj.mymethod()\n",
    "    \n",
    "    \n",
    "if __name__ == \"__main__\" :\n",
    "    main()"
   ]
  },
  {
   "cell_type": "code",
   "execution_count": null,
   "metadata": {},
   "outputs": [],
   "source": []
  },
  {
   "cell_type": "markdown",
   "metadata": {},
   "source": [
    "## Diamond Inheritance Problem ( diamond death Issue):-\n",
    "    \n",
    "    The following diagram describe diamond death issue\n",
    "    \n",
    "    e.g:-\n",
    "    \n",
    "                                     Class A\n",
    "                                   /   !     \\\n",
    "                                  /    !      \\\n",
    "                                 /     !       \\\n",
    "                             class B   !    class C\n",
    "                                \\      !        /\n",
    "                                 \\     !       /\n",
    "                                  \\    !      /\n",
    "                                   \\   !     /\n",
    "                                     class D\n",
    "     "
   ]
  },
  {
   "cell_type": "code",
   "execution_count": 65,
   "metadata": {},
   "outputs": [
    {
     "name": "stdout",
     "output_type": "stream",
     "text": [
      "I am in class D\n",
      "I am in class A\n"
     ]
    }
   ],
   "source": [
    "class A:\n",
    "    def method(self):\n",
    "        print(\"I am in class A\")\n",
    "\n",
    "class B(A):\n",
    "    def method(self):\n",
    "        print(\"I am in class B\")\n",
    "        A.method(self)\n",
    "\n",
    "class C(A):\n",
    "    def method(self):\n",
    "        print(\"I am in class C\")\n",
    "        A.method(self)\n",
    "        \n",
    "class D(C, B,  A):\n",
    "    def method(self):\n",
    "        print(\"I am in class D\")\n",
    "        A.method(self)\n",
    "\n",
    "def main():\n",
    "    obj = D()\n",
    "    obj.method()\n",
    "    \n",
    "if __name__ == \"__main__\" :\n",
    "    main()"
   ]
  },
  {
   "cell_type": "markdown",
   "metadata": {},
   "source": [
    "## Super Keyword:-\n",
    "    - The Super() Built-in returns a proxy object that allows you to refer parent class by \"super\". it allows you to call method of the superclass in your subclass, the primery use case of this is to extend of the functionality of the inherited methd\n",
    "    \n",
    "    - In python, super() bultin has two majer use cases:- \n",
    "        -  Allow us to avoid using base class explicitly working with multiple inheritance\n",
    "        \n",
    "Example :- "
   ]
  },
  {
   "cell_type": "code",
   "execution_count": 66,
   "metadata": {},
   "outputs": [
    {
     "name": "stdout",
     "output_type": "stream",
     "text": [
      "I am in class D\n",
      "I am in class C\n",
      "I am in class B\n",
      "I am in class A\n"
     ]
    }
   ],
   "source": [
    "class A:\n",
    "    def MyMethod(Self):\n",
    "        print(\"I am in class A\")\n",
    "        \n",
    "class B(A):\n",
    "    def MyMethod(Self):\n",
    "        print(\"I am in class B\")\n",
    "        super().MyMethod()\n",
    "        \n",
    "class C(A):\n",
    "    def MyMethod(Self):\n",
    "        print(\"I am in class C\")\n",
    "        super().MyMethod()\n",
    "        \n",
    "class D(C, B, A):\n",
    "    def MyMethod(self):\n",
    "        print(\"I am in class D\")\n",
    "        super().MyMethod()\n",
    "        \n",
    "def main():\n",
    "    obj = D()\n",
    "    obj.MyMethod()\n",
    "    \n",
    "if __name__ == \"__main__\":\n",
    "    main()"
   ]
  },
  {
   "cell_type": "markdown",
   "metadata": {},
   "source": [
    "## \\__name__ :- a special variable in python\n",
    "\n",
    "    - __name__ is one such special variable. if the source file is executed as the main program , the interpreter sets the __name__ variable to have a value \"__main__\". if the file is being imported from another module, __name__ will be set to the module's name\n",
    "    \n",
    "    - "
   ]
  },
  {
   "cell_type": "code",
   "execution_count": null,
   "metadata": {},
   "outputs": [],
   "source": []
  }
 ],
 "metadata": {
  "kernelspec": {
   "display_name": "Python 3",
   "language": "python",
   "name": "python3"
  },
  "language_info": {
   "codemirror_mode": {
    "name": "ipython",
    "version": 3
   },
   "file_extension": ".py",
   "mimetype": "text/x-python",
   "name": "python",
   "nbconvert_exporter": "python",
   "pygments_lexer": "ipython3",
   "version": "3.7.9"
  }
 },
 "nbformat": 4,
 "nbformat_minor": 2
}
