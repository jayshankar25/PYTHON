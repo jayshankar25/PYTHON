{
 "cells": [
  {
   "cell_type": "markdown",
   "metadata": {},
   "source": [
    "## String :-\n"
   ]
  },
  {
   "cell_type": "code",
   "execution_count": 1,
   "metadata": {},
   "outputs": [
    {
     "name": "stdout",
     "output_type": "stream",
     "text": [
      "<class 'str'>\n",
      "c\n"
     ]
    }
   ],
   "source": [
    "s = 'c'\n",
    "print(type(s))\n",
    "print(s)"
   ]
  },
  {
   "cell_type": "code",
   "execution_count": 2,
   "metadata": {},
   "outputs": [
    {
     "name": "stdout",
     "output_type": "stream",
     "text": [
      "<class 'str'>\n",
      "hi my name is jayshankar\n"
     ]
    }
   ],
   "source": [
    "s = 'hi my name is jayshankar'\n",
    "print(type(s))\n",
    "print(s)"
   ]
  },
  {
   "cell_type": "code",
   "execution_count": 13,
   "metadata": {},
   "outputs": [
    {
     "name": "stdout",
     "output_type": "stream",
     "text": [
      "hi my name is jay shankar sharma\n",
      "<class 'str'>\n"
     ]
    }
   ],
   "source": [
    "s = 'hi my name is jay shankar sharma'\n",
    "print(s)\n",
    "print(type(s))"
   ]
  },
  {
   "cell_type": "code",
   "execution_count": 17,
   "metadata": {},
   "outputs": [
    {
     "name": "stdout",
     "output_type": "stream",
     "text": [
      "hi my name is jay shankar shama\n",
      "<class 'str'>\n"
     ]
    }
   ],
   "source": [
    "s = \"hi my name is jay shankar shama\"\n",
    "print(s)\n",
    "print(type(s))"
   ]
  },
  {
   "cell_type": "code",
   "execution_count": 18,
   "metadata": {},
   "outputs": [
    {
     "name": "stdout",
     "output_type": "stream",
     "text": [
      "hi I am jayshankar sharma and i am from bhagalpur bihar\n",
      "<class 'str'>\n"
     ]
    }
   ],
   "source": [
    "s = '''hi I am jayshankar sharma and i am from bhagalpur bihar'''\n",
    "print(s)\n",
    "print(type(s))"
   ]
  },
  {
   "cell_type": "code",
   "execution_count": 19,
   "metadata": {},
   "outputs": [
    {
     "name": "stdout",
     "output_type": "stream",
     "text": [
      "hi i am jay\n",
      "<class 'str'>\n"
     ]
    }
   ],
   "source": [
    "s = \"\"\"hi i am jay\"\"\"\n",
    "print(s)\n",
    "print(type(s))"
   ]
  },
  {
   "cell_type": "markdown",
   "metadata": {},
   "source": [
    "### Multi-line String Literal"
   ]
  },
  {
   "cell_type": "code",
   "execution_count": 20,
   "metadata": {},
   "outputs": [
    {
     "name": "stdout",
     "output_type": "stream",
     "text": [
      "hi i am 'jayshankar' and i am from Bhagalpur\n"
     ]
    }
   ],
   "source": [
    "s = 'hi i am \\'jayshankar\\' and i am from Bhagalpur'\n",
    "print(s)"
   ]
  },
  {
   "cell_type": "code",
   "execution_count": 21,
   "metadata": {},
   "outputs": [
    {
     "name": "stdout",
     "output_type": "stream",
     "text": [
      "hi i am \"jayshankar\" and i am from Bhagalpur\n"
     ]
    }
   ],
   "source": [
    "s = \"hi i am \\\"jayshankar\\\" and i am from Bhagalpur\"\n",
    "print(s)"
   ]
  },
  {
   "cell_type": "code",
   "execution_count": 4,
   "metadata": {},
   "outputs": [
    {
     "name": "stdout",
     "output_type": "stream",
     "text": [
      "hi i am jayshankar and i am from bhagalpur\n"
     ]
    }
   ],
   "source": [
    "s = 'hi i am jayshankar \\\n",
    "and i am from bhagalpur'\n",
    "print(s)"
   ]
  },
  {
   "cell_type": "code",
   "execution_count": 5,
   "metadata": {},
   "outputs": [
    {
     "name": "stdout",
     "output_type": "stream",
     "text": [
      "hi i am jayshankar and i am from bhagalpur\n"
     ]
    }
   ],
   "source": [
    "s = \"hi i am jayshankar \\\n",
    "and i am from bhagalpur\"\n",
    "print(s)"
   ]
  },
  {
   "cell_type": "code",
   "execution_count": 25,
   "metadata": {},
   "outputs": [
    {
     "name": "stdout",
     "output_type": "stream",
     "text": [
      "hi i am jay shankar sharma \n",
      "i am from bhagalpur bihar and\n",
      "i have done my graguation\n"
     ]
    }
   ],
   "source": [
    "s = '''hi i am jay shankar sharma \n",
    "i am from bhagalpur bihar and\n",
    "i have done my graguation'''\n",
    "print(s)"
   ]
  },
  {
   "cell_type": "code",
   "execution_count": 26,
   "metadata": {},
   "outputs": [
    {
     "name": "stdout",
     "output_type": "stream",
     "text": [
      "hi i am jay shankar sharma \n",
      "i am from bhagalpur bihar and\n",
      "i have done my graguation\n"
     ]
    }
   ],
   "source": [
    "s = \"\"\"hi i am jay shankar sharma \n",
    "i am from bhagalpur bihar and\n",
    "i have done my graguation\"\"\"\n",
    "print(s)"
   ]
  },
  {
   "cell_type": "markdown",
   "metadata": {},
   "source": [
    "### Accessing of string :\n",
    "   - by using index\n",
    "   - by using slice\n",
    "    "
   ]
  },
  {
   "cell_type": "markdown",
   "metadata": {},
   "source": [
    "### by using Index"
   ]
  },
  {
   "cell_type": "code",
   "execution_count": 7,
   "metadata": {},
   "outputs": [
    {
     "name": "stdout",
     "output_type": "stream",
     "text": [
      "m\n",
      "i\n"
     ]
    }
   ],
   "source": [
    "s = 'hi my name is jayshankar'\n",
    "print(s[3])\n",
    "print(s[1])"
   ]
  },
  {
   "cell_type": "code",
   "execution_count": 8,
   "metadata": {},
   "outputs": [
    {
     "data": {
      "text/plain": [
       "' '"
      ]
     },
     "execution_count": 8,
     "metadata": {},
     "output_type": "execute_result"
    }
   ],
   "source": [
    "s[2]"
   ]
  },
  {
   "cell_type": "code",
   "execution_count": 9,
   "metadata": {},
   "outputs": [
    {
     "data": {
      "text/plain": [
       "'r'"
      ]
     },
     "execution_count": 9,
     "metadata": {},
     "output_type": "execute_result"
    }
   ],
   "source": [
    "s[-1]"
   ]
  },
  {
   "cell_type": "code",
   "execution_count": 10,
   "metadata": {},
   "outputs": [
    {
     "data": {
      "text/plain": [
       "'s'"
      ]
     },
     "execution_count": 10,
     "metadata": {},
     "output_type": "execute_result"
    }
   ],
   "source": [
    "s[-7]"
   ]
  },
  {
   "cell_type": "code",
   "execution_count": 11,
   "metadata": {},
   "outputs": [
    {
     "data": {
      "text/plain": [
       "'j'"
      ]
     },
     "execution_count": 11,
     "metadata": {},
     "output_type": "execute_result"
    }
   ],
   "source": [
    "s[-10]"
   ]
  },
  {
   "cell_type": "code",
   "execution_count": null,
   "metadata": {},
   "outputs": [],
   "source": []
  },
  {
   "cell_type": "code",
   "execution_count": null,
   "metadata": {},
   "outputs": [],
   "source": []
  },
  {
   "cell_type": "markdown",
   "metadata": {},
   "source": [
    "### by using slice"
   ]
  },
  {
   "cell_type": "code",
   "execution_count": 13,
   "metadata": {},
   "outputs": [
    {
     "data": {
      "text/plain": [
       "'India is a best country in the world'"
      ]
     },
     "execution_count": 13,
     "metadata": {},
     "output_type": "execute_result"
    }
   ],
   "source": [
    "s1 = 'India is a best country in the world'\n",
    "\n",
    "s1[:]"
   ]
  },
  {
   "cell_type": "code",
   "execution_count": 15,
   "metadata": {},
   "outputs": [
    {
     "data": {
      "text/plain": [
       "' is a best country in the world'"
      ]
     },
     "execution_count": 15,
     "metadata": {},
     "output_type": "execute_result"
    }
   ],
   "source": [
    "s1[5:]"
   ]
  },
  {
   "cell_type": "code",
   "execution_count": 17,
   "metadata": {},
   "outputs": [
    {
     "data": {
      "text/plain": [
       "'India is a best country'"
      ]
     },
     "execution_count": 17,
     "metadata": {},
     "output_type": "execute_result"
    }
   ],
   "source": [
    "s1[:23]"
   ]
  },
  {
   "cell_type": "code",
   "execution_count": 19,
   "metadata": {},
   "outputs": [
    {
     "data": {
      "text/plain": [
       "'India'"
      ]
     },
     "execution_count": 19,
     "metadata": {},
     "output_type": "execute_result"
    }
   ],
   "source": [
    "s1[0:5]"
   ]
  },
  {
   "cell_type": "code",
   "execution_count": 20,
   "metadata": {},
   "outputs": [
    {
     "data": {
      "text/plain": [
       "'dlrow eht ni yrtnuoc tseb a si aidnI'"
      ]
     },
     "execution_count": 20,
     "metadata": {},
     "output_type": "execute_result"
    }
   ],
   "source": [
    "s1[::-1]"
   ]
  },
  {
   "cell_type": "code",
   "execution_count": 24,
   "metadata": {},
   "outputs": [
    {
     "data": {
      "text/plain": [
       "'India'"
      ]
     },
     "execution_count": 24,
     "metadata": {},
     "output_type": "execute_result"
    }
   ],
   "source": [
    "s1[-37:-31]"
   ]
  },
  {
   "cell_type": "code",
   "execution_count": 25,
   "metadata": {},
   "outputs": [
    {
     "data": {
      "text/plain": [
       "''"
      ]
     },
     "execution_count": 25,
     "metadata": {},
     "output_type": "execute_result"
    }
   ],
   "source": [
    "s1[-37:-31:-1]"
   ]
  },
  {
   "cell_type": "code",
   "execution_count": 26,
   "metadata": {},
   "outputs": [
    {
     "data": {
      "text/plain": [
       "''"
      ]
     },
     "execution_count": 26,
     "metadata": {},
     "output_type": "execute_result"
    }
   ],
   "source": [
    "s1[-31:-37:1]"
   ]
  },
  {
   "cell_type": "markdown",
   "metadata": {},
   "source": [
    "### Traversing of string :\n",
    "   - by using for loop\n",
    "   - by while loop;"
   ]
  },
  {
   "cell_type": "markdown",
   "metadata": {},
   "source": [
    "### by using for loop"
   ]
  },
  {
   "cell_type": "code",
   "execution_count": 27,
   "metadata": {},
   "outputs": [
    {
     "name": "stdout",
     "output_type": "stream",
     "text": [
      "I\n",
      " \n",
      "l\n",
      "o\n",
      "v\n",
      "e\n",
      " \n",
      "m\n",
      "y\n",
      " \n",
      "I\n",
      "n\n",
      "d\n",
      "i\n",
      "a\n"
     ]
    }
   ],
   "source": [
    "s = 'I love my India'\n",
    "\n",
    "for i in s:\n",
    "    print(i)"
   ]
  },
  {
   "cell_type": "code",
   "execution_count": 28,
   "metadata": {},
   "outputs": [
    {
     "name": "stdout",
     "output_type": "stream",
     "text": [
      "I\n",
      " \n",
      "l\n",
      "o\n",
      "v\n",
      "e\n",
      " \n",
      "m\n",
      "y\n",
      " \n",
      "I\n",
      "n\n",
      "d\n",
      "i\n",
      "a\n"
     ]
    }
   ],
   "source": [
    "for i in range(0,len(s)):\n",
    "    print(s[i])"
   ]
  },
  {
   "cell_type": "markdown",
   "metadata": {},
   "source": [
    "### by while loop "
   ]
  },
  {
   "cell_type": "code",
   "execution_count": 29,
   "metadata": {},
   "outputs": [
    {
     "name": "stdout",
     "output_type": "stream",
     "text": [
      "I\n",
      " \n",
      "a\n",
      "m\n",
      " \n",
      "I\n",
      "n\n",
      "d\n",
      "i\n",
      "a\n",
      "n\n"
     ]
    }
   ],
   "source": [
    "s3 = 'I am Indian'\n",
    "i=0\n",
    "while i<len(s3):\n",
    "    print(s3[i])\n",
    "    i+=1"
   ]
  },
  {
   "cell_type": "markdown",
   "metadata": {},
   "source": [
    "### Operator for string :\n",
    "   - additiion operator       ( + )\n",
    "   - multiplication operator  ( * )\n",
    "   - menbership operator      ( in , not in )\n",
    "   - comparision operator     ( <= , >= , < ,> )\n",
    "   - equality operator        ( == , != )"
   ]
  },
  {
   "cell_type": "code",
   "execution_count": 2,
   "metadata": {},
   "outputs": [
    {
     "name": "stdout",
     "output_type": "stream",
     "text": [
      "jaihind\n"
     ]
    }
   ],
   "source": [
    "# here + operator is used for concatinate the string .\n",
    "s1 = \"jai\"\n",
    "s2 = \"hind\"\n",
    "print(s1+s2)"
   ]
  },
  {
   "cell_type": "code",
   "execution_count": 4,
   "metadata": {},
   "outputs": [
    {
     "name": "stdout",
     "output_type": "stream",
     "text": [
      "jaijaijai\n"
     ]
    }
   ],
   "source": [
    "# here * operater is used for repetiton of string\n",
    "\n",
    "s1 = 'jai'* 3\n",
    "print(s1)"
   ]
  },
  {
   "cell_type": "code",
   "execution_count": null,
   "metadata": {},
   "outputs": [],
   "source": []
  },
  {
   "cell_type": "code",
   "execution_count": null,
   "metadata": {},
   "outputs": [],
   "source": []
  },
  {
   "cell_type": "code",
   "execution_count": null,
   "metadata": {},
   "outputs": [],
   "source": []
  },
  {
   "cell_type": "markdown",
   "metadata": {},
   "source": [
    "### Important function of string :\n",
    "- Removing space from string:\n",
    "    - __rstrip()__ :-   To remove space at right hand side\n",
    "    - __lstrip()__ :-   To remove space at left hand side\n",
    "    - __strip()__ :-    To remove space both side\n",
    "    \n",
    "    \n",
    "- Replacing a string with another string :\n",
    "    - __replace()__\n",
    "    \n",
    "    \n",
    "- Finding Substring :\n",
    "     - For forward direction :\n",
    "         - __find()__ \n",
    "         - __index()__\n",
    "     - for backward direction :\n",
    "         - __rfind()__\n",
    "         - __rindex()__\n",
    "         \n",
    "- To check type of characters Present in a string :\n",
    "    - __isalnum()__ :\n",
    "    - __isalpha()__ :\n",
    "    - __isdigit()__ :\n",
    "    - __islower()__ :\n",
    "    - __isupper()__ :\n",
    "    - __istitle()__ :\n",
    "    - __isspace()__ :\n",
    "    \n",
    "- Changing case of String :\n",
    "    - __upper()__\n",
    "    - __lower()__\n",
    "    - __swapcase()__\n",
    "    - __title()__\n",
    "    - __capitalize()__\n",
    "    \n",
    "- checking starting and ending part of the string:\n",
    "    - __startwith()__ :\n",
    "    - __endwith()__ : \n",
    "    \n",
    "- splitting of string:\n",
    "    - __split()__\n",
    "    \n",
    "- joining of function :\n",
    "    - __join()__\n",
    "    \n",
    "    \n",
    "- counting substring in the given string :\n",
    "    - __count()__"
   ]
  },
  {
   "cell_type": "markdown",
   "metadata": {},
   "source": [
    "## removing space of String"
   ]
  },
  {
   "cell_type": "code",
   "execution_count": 6,
   "metadata": {},
   "outputs": [
    {
     "name": "stdout",
     "output_type": "stream",
     "text": [
      "      Jay Shankar sharma\n"
     ]
    }
   ],
   "source": [
    " # it removes space in string from right side\n",
    "s = \"      Jay Shankar      \"\n",
    "\n",
    "print(s.rstrip()+\" sharma\")  "
   ]
  },
  {
   "cell_type": "code",
   "execution_count": 7,
   "metadata": {},
   "outputs": [
    {
     "name": "stdout",
     "output_type": "stream",
     "text": [
      "Jay Shankar      Sharma\n"
     ]
    }
   ],
   "source": [
    "# it removes space from left side in string\n",
    "print(s.lstrip()+'Sharma')    "
   ]
  },
  {
   "cell_type": "code",
   "execution_count": 9,
   "metadata": {},
   "outputs": [
    {
     "name": "stdout",
     "output_type": "stream",
     "text": [
      "Jay Shankar Sharma\n"
     ]
    }
   ],
   "source": [
    "# it remove space from string\n",
    "print(s.strip()+' Sharma')    "
   ]
  },
  {
   "cell_type": "code",
   "execution_count": 11,
   "metadata": {},
   "outputs": [
    {
     "name": "stdout",
     "output_type": "stream",
     "text": [
      "HI,MyNameisJayShankarSharma\n"
     ]
    }
   ],
   "source": [
    "## replace \n",
    "\n",
    "s = 'HI, My Name is Jay Shankar Sharma'\n",
    "\n",
    "print(s.replace(' ',''))\n"
   ]
  },
  {
   "cell_type": "code",
   "execution_count": 16,
   "metadata": {},
   "outputs": [
    {
     "name": "stdout",
     "output_type": "stream",
     "text": [
      "I am Jay Shankar\n"
     ]
    }
   ],
   "source": [
    "# replace \n",
    "\n",
    "s = \"I am Jay\"\n",
    "\n",
    "print(s.replace(\"Jay\",\"Jay Shankar\"))"
   ]
  },
  {
   "cell_type": "markdown",
   "metadata": {},
   "source": [
    "### Finding substring"
   ]
  },
  {
   "cell_type": "code",
   "execution_count": 25,
   "metadata": {},
   "outputs": [
    {
     "name": "stdout",
     "output_type": "stream",
     "text": [
      "9\n",
      "-1\n",
      "3\n",
      "21\n"
     ]
    }
   ],
   "source": [
    "# find string in forword Direction\n",
    "\n",
    "s = \"Learning python is very easy\"\n",
    "\n",
    "print(s.find(\"python\"))        # it returns first index no. of string forward direction\n",
    "\n",
    "print(s.find(\"java\"))          # it return -1 if string is not avaliable  \n",
    "\n",
    "print(s.find('r'))             # if find string in whole string and return first\n",
    "\n",
    "print(s.find('r',18,23))        # if search string from index 18 to 22\n"
   ]
  },
  {
   "cell_type": "code",
   "execution_count": 32,
   "metadata": {},
   "outputs": [
    {
     "name": "stdout",
     "output_type": "stream",
     "text": [
      "24\n",
      "10\n",
      "-1\n"
     ]
    }
   ],
   "source": [
    "# find string in Backward direction\n",
    "\n",
    "s = \"Python is a Simple Language\"\n",
    "\n",
    "print(s.rfind('a'))           # it find the substring from right to left  in the string\n",
    "\n",
    "print(s.rfind('a',0,11))      # if find substring from index 10 to 0\n",
    "\n",
    "print(s.rfind('am'))          # if not present return -1"
   ]
  },
  {
   "cell_type": "code",
   "execution_count": 35,
   "metadata": {},
   "outputs": [
    {
     "name": "stdout",
     "output_type": "stream",
     "text": [
      "7\n",
      "15\n"
     ]
    }
   ],
   "source": [
    "# index() :- if not avaliable return valueError\n",
    "\n",
    "s = \"Python is very Easy Language\"\n",
    "\n",
    "print(s.index('is'))      # it search substring in whole string from left to right\n",
    "\n",
    "print(s.index('Easy',15,21))  # it search from index 15 to 20"
   ]
  },
  {
   "cell_type": "code",
   "execution_count": 40,
   "metadata": {},
   "outputs": [
    {
     "name": "stdout",
     "output_type": "stream",
     "text": [
      "18\n",
      "13\n"
     ]
    }
   ],
   "source": [
    "\n",
    "s = \"python is very easy language\"\n",
    "\n",
    "print(s.rindex('y'))   # it search substring from right to left \n",
    "\n",
    "print(s.rindex('y',1,14))   "
   ]
  },
  {
   "cell_type": "markdown",
   "metadata": {},
   "source": [
    "## Changing case of string :"
   ]
  },
  {
   "cell_type": "code",
   "execution_count": 45,
   "metadata": {},
   "outputs": [
    {
     "name": "stdout",
     "output_type": "stream",
     "text": [
      "Hi i am jay shankar\n"
     ]
    }
   ],
   "source": [
    "s = 'hi i am jay shankar'\n",
    "\n",
    "print(s.capitalize())\n"
   ]
  },
  {
   "cell_type": "code",
   "execution_count": 46,
   "metadata": {},
   "outputs": [
    {
     "name": "stdout",
     "output_type": "stream",
     "text": [
      "Hi I Am Jay Shankar\n"
     ]
    }
   ],
   "source": [
    "print(s.title())"
   ]
  },
  {
   "cell_type": "code",
   "execution_count": 47,
   "metadata": {},
   "outputs": [
    {
     "name": "stdout",
     "output_type": "stream",
     "text": [
      "HI I AM JAY SHANKAR\n"
     ]
    }
   ],
   "source": [
    "print(s.upper())"
   ]
  },
  {
   "cell_type": "code",
   "execution_count": 48,
   "metadata": {},
   "outputs": [
    {
     "name": "stdout",
     "output_type": "stream",
     "text": [
      "hi i am jay shankar\n"
     ]
    }
   ],
   "source": [
    "s1 = \"Hi I am Jay Shankar Sharma\"\n",
    "\n",
    "print(s.lower())"
   ]
  },
  {
   "cell_type": "code",
   "execution_count": 49,
   "metadata": {},
   "outputs": [
    {
     "name": "stdout",
     "output_type": "stream",
     "text": [
      "HI I AM JAY SHANKAR\n",
      "hI i AM jAY sHANKAR sHARMA\n"
     ]
    }
   ],
   "source": [
    "print(s.swapcase())\n",
    "print(s1.swapcase())"
   ]
  },
  {
   "cell_type": "markdown",
   "metadata": {},
   "source": [
    "## Check character present in the string"
   ]
  },
  {
   "cell_type": "code",
   "execution_count": 54,
   "metadata": {},
   "outputs": [
    {
     "name": "stdout",
     "output_type": "stream",
     "text": [
      "True\n",
      "False\n"
     ]
    }
   ],
   "source": [
    "s = \"Durga1234\"\n",
    "print(s.isalnum())\n",
    "print(s.isalpha())"
   ]
  },
  {
   "cell_type": "code",
   "execution_count": 61,
   "metadata": {},
   "outputs": [
    {
     "name": "stdout",
     "output_type": "stream",
     "text": [
      "True\n",
      "False\n",
      "True\n"
     ]
    }
   ],
   "source": [
    "s = \"jay\"\n",
    "print(s.isalpha())\n",
    "print(s.isdigit())\n",
    "print(s.islower())"
   ]
  },
  {
   "cell_type": "code",
   "execution_count": 60,
   "metadata": {},
   "outputs": [
    {
     "name": "stdout",
     "output_type": "stream",
     "text": [
      "True\n",
      "True\n"
     ]
    }
   ],
   "source": [
    "s = \"1234\"\n",
    "print(s.isdigit())\n",
    "print(s.isdecimal())"
   ]
  },
  {
   "cell_type": "code",
   "execution_count": null,
   "metadata": {},
   "outputs": [],
   "source": []
  },
  {
   "cell_type": "markdown",
   "metadata": {},
   "source": [
    "## check starting and ending part of string"
   ]
  },
  {
   "cell_type": "code",
   "execution_count": 62,
   "metadata": {},
   "outputs": [
    {
     "data": {
      "text/plain": [
       "True"
      ]
     },
     "execution_count": 62,
     "metadata": {},
     "output_type": "execute_result"
    }
   ],
   "source": [
    "s = \"learning python is very easy\"\n",
    "\n",
    "s.startswith('learning')"
   ]
  },
  {
   "cell_type": "code",
   "execution_count": 63,
   "metadata": {},
   "outputs": [
    {
     "data": {
      "text/plain": [
       "False"
      ]
     },
     "execution_count": 63,
     "metadata": {},
     "output_type": "execute_result"
    }
   ],
   "source": [
    "s.startswith('python')"
   ]
  },
  {
   "cell_type": "code",
   "execution_count": 64,
   "metadata": {},
   "outputs": [
    {
     "data": {
      "text/plain": [
       "True"
      ]
     },
     "execution_count": 64,
     "metadata": {},
     "output_type": "execute_result"
    }
   ],
   "source": [
    "s.endswith('easy')"
   ]
  },
  {
   "cell_type": "code",
   "execution_count": 65,
   "metadata": {},
   "outputs": [
    {
     "data": {
      "text/plain": [
       "False"
      ]
     },
     "execution_count": 65,
     "metadata": {},
     "output_type": "execute_result"
    }
   ],
   "source": [
    "s.endswith('very')"
   ]
  },
  {
   "cell_type": "code",
   "execution_count": 66,
   "metadata": {},
   "outputs": [
    {
     "name": "stdout",
     "output_type": "stream",
     "text": [
      "['Learning', 'python', 'is', 'very', 'easy']\n"
     ]
    }
   ],
   "source": [
    "# split :- it convert string to list\n",
    "\n",
    "s = \"Learning python is very easy\"\n",
    "\n",
    "print(s.split())"
   ]
  },
  {
   "cell_type": "code",
   "execution_count": 68,
   "metadata": {},
   "outputs": [
    {
     "name": "stdout",
     "output_type": "stream",
     "text": [
      "Learning\n",
      "python\n",
      "is\n",
      "very\n",
      "easy\n"
     ]
    }
   ],
   "source": [
    "s = \"Learning python is very easy\"\n",
    "l = s.split()\n",
    "for i in l:\n",
    "    print(i)\n"
   ]
  },
  {
   "cell_type": "code",
   "execution_count": 71,
   "metadata": {},
   "outputs": [
    {
     "name": "stdout",
     "output_type": "stream",
     "text": [
      "Learning Python is very easy\n",
      "<class 'str'>\n"
     ]
    }
   ],
   "source": [
    "# join() - it convert list to string ;\n",
    "\n",
    "l = ['Learning','Python','is','very','easy']\n",
    "string = \" \".join(l)\n",
    "print(string)\n",
    "print(type(string))"
   ]
  },
  {
   "cell_type": "code",
   "execution_count": 73,
   "metadata": {},
   "outputs": [
    {
     "name": "stdout",
     "output_type": "stream",
     "text": [
      "6\n",
      "4\n",
      "2\n"
     ]
    }
   ],
   "source": [
    "# count :-\n",
    "\n",
    "s = \"abcabcabcabcadda\"\n",
    "\n",
    "print(s.count('a'))\n",
    "print(s.count('ab'))\n",
    "print(s.count('a',3,7))"
   ]
  },
  {
   "cell_type": "code",
   "execution_count": null,
   "metadata": {},
   "outputs": [],
   "source": []
  },
  {
   "cell_type": "markdown",
   "metadata": {},
   "source": [
    "### string vs Immutable "
   ]
  },
  {
   "cell_type": "code",
   "execution_count": 74,
   "metadata": {},
   "outputs": [
    {
     "name": "stdout",
     "output_type": "stream",
     "text": [
      "140067056249072\n",
      "140067059027000\n"
     ]
    }
   ],
   "source": [
    "s = \"Learning python is very easy\"\n",
    "\n",
    "s1 = s.replace('easy','difficult')\n",
    "\n",
    "print(id(s))\n",
    "print(id(s1))"
   ]
  },
  {
   "cell_type": "code",
   "execution_count": 76,
   "metadata": {},
   "outputs": [
    {
     "name": "stdout",
     "output_type": "stream",
     "text": [
      "abab  is avaliable at  140067059653520\n",
      "bbbb  is avaliable at  140067063777688\n"
     ]
    }
   ],
   "source": [
    "# we can't change the value of string\n",
    "\n",
    "s = \"abab\"\n",
    "s1 = s.replace('a','b')\n",
    "print(s,\" is avaliable at \", id(s))\n",
    "print(s1,\" is avaliable at \", id(s1))"
   ]
  },
  {
   "cell_type": "code",
   "execution_count": null,
   "metadata": {},
   "outputs": [],
   "source": []
  },
  {
   "cell_type": "code",
   "execution_count": null,
   "metadata": {},
   "outputs": [],
   "source": []
  },
  {
   "cell_type": "markdown",
   "metadata": {},
   "source": [
    "### Formatting of string :-\n",
    "   - we can format the string with variable value by using replacement operator {} and formet method\n",
    "   - The main objective of format() method to format string into meaningful outform form"
   ]
  },
  {
   "cell_type": "code",
   "execution_count": 52,
   "metadata": {},
   "outputs": [
    {
     "name": "stdout",
     "output_type": "stream",
     "text": [
      "durga's salary is 100000 and his age is 45\n",
      "durga's salary is 100000 and his age is 45\n",
      "durga's salary is 100000 and his age is 45\n"
     ]
    }
   ],
   "source": [
    "name = 'durga'\n",
    "salary = 100000\n",
    "age = 45\n",
    "\n",
    "print(\"{}'s salary is {} and his age is {}\".format(name,salary,age))\n",
    "print(\"{0}'s salary is {1} and his age is {2}\".format(name,salary,age))\n",
    "print(\"{x}'s salary is {y} and his age is {z}\".format(x=name,y=salary,z=age))"
   ]
  },
  {
   "cell_type": "markdown",
   "metadata": {},
   "source": [
    "### Formating Number :\n",
    "\n",
    "    \n",
    "   - d  ---> Decimal Integer\n",
    "   - f  ---> Fixed point number (float) , the default precision is 6\n",
    "   - b  ---> Binary format\n",
    "   - o  ---> Octa format\n",
    "   - x  ---> Hexa Decimal format ( lower case )\n",
    "   - X  ---> Hexa Decimal format ( Upper case )"
   ]
  },
  {
   "cell_type": "code",
   "execution_count": 77,
   "metadata": {},
   "outputs": [
    {
     "name": "stdout",
     "output_type": "stream",
     "text": [
      "The integer number is 123\n",
      "The integer number is 123\n",
      "The integer number is   123\n",
      "The integer number is 00123\n"
     ]
    }
   ],
   "source": [
    "print(\"The integer number is {}\".format(123))\n",
    "print(\"The integer number is {:d}\".format(123))\n",
    "print(\"The integer number is {:5d}\".format(123))\n",
    "print(\"The integer number is {:05d}\".format(123))"
   ]
  },
  {
   "cell_type": "code",
   "execution_count": 80,
   "metadata": {},
   "outputs": [
    {
     "name": "stdout",
     "output_type": "stream",
     "text": [
      "The float number is 123.4567\n",
      "The float number is 123.456700\n",
      "The float number is  123.457\n",
      "The float number is 0123.457\n",
      "The float number is 0123.450\n",
      "The float number is 786786123.450\n"
     ]
    }
   ],
   "source": [
    "print(\"The float number is {}\".format(123.4567))\n",
    "print(\"The float number is {:f}\".format(123.4567))\n",
    "print(\"The float number is {:8.3f}\".format(123.4567))\n",
    "print(\"The float number is {:08.3f}\".format(123.4567))\n",
    "print(\"The float number is {:08.3f}\".format(123.45))\n",
    "print(\"The float number is {:08.3f}\".format(786786123.45))"
   ]
  },
  {
   "cell_type": "code",
   "execution_count": 83,
   "metadata": {},
   "outputs": [
    {
     "name": "stdout",
     "output_type": "stream",
     "text": [
      "Binary form : 10011010\n",
      "Octal form :  232\n",
      "Hexa Decima form : 9a\n",
      "Hexa decimal form : 9A\n"
     ]
    }
   ],
   "source": [
    "print(\"Binary form : {:b}\".format(154))\n",
    "print(\"Octal form :  {:o}\".format(154))\n",
    "print(\"Hexa Decima form : {:x}\".format(154))\n",
    "print(\"Hexa decimal form : {:X}\".format(154))"
   ]
  },
  {
   "cell_type": "markdown",
   "metadata": {},
   "source": [
    "### Number formating for sign Number :\n",
    "   - while displaying positive numbers, if we want to include + then we have to write {:+d} and {:+d}\n",
    "   - using plus for negative number , there is no use for -ive number - sign will come automatically"
   ]
  },
  {
   "cell_type": "code",
   "execution_count": 82,
   "metadata": {},
   "outputs": [
    {
     "name": "stdout",
     "output_type": "stream",
     "text": [
      "Int value with sign : +154\n",
      "Int value with sign : -154\n",
      "float value with sign : +154.124000\n",
      "float value with sign : -154.123000\n"
     ]
    }
   ],
   "source": [
    "print(\"Int value with sign : {:+d}\".format(154))\n",
    "print(\"Int value with sign : {:+d}\".format(-154))\n",
    "print(\"float value with sign : {:+f}\".format(154.124))\n",
    "print(\"float value with sign : {:+f}\".format(-154.123))"
   ]
  },
  {
   "cell_type": "markdown",
   "metadata": {},
   "source": [
    "### Formating Dictionary members using format"
   ]
  },
  {
   "cell_type": "code",
   "execution_count": 90,
   "metadata": {},
   "outputs": [
    {
     "name": "stdout",
     "output_type": "stream",
     "text": [
      "durga's age is 48\n"
     ]
    }
   ],
   "source": [
    "# p is alias name of dictionary\n",
    "# person dictionary we are passing as keyword argument\n",
    "\n",
    "person = {'age':48,'name':\"durga\"}\n",
    "print(\"{p[name]}'s age is {p[age]}\".format(p = person))"
   ]
  },
  {
   "cell_type": "code",
   "execution_count": 91,
   "metadata": {},
   "outputs": [
    {
     "name": "stdout",
     "output_type": "stream",
     "text": [
      "durga's age is 48\n"
     ]
    }
   ],
   "source": [
    "person = {'age':48,'name':\"durga\"}\n",
    "print(\"{name}'s age is {age}\".format(**person))"
   ]
  },
  {
   "cell_type": "markdown",
   "metadata": {},
   "source": [
    "### Formatting class members using format() :-\n",
    "\n"
   ]
  },
  {
   "cell_type": "code",
   "execution_count": 94,
   "metadata": {},
   "outputs": [
    {
     "name": "stdout",
     "output_type": "stream",
     "text": [
      "durga's age is 48\n"
     ]
    }
   ],
   "source": [
    "class Person :\n",
    "    age = 48\n",
    "    name = 'durga'\n",
    "    \n",
    "print(\"{p.name}'s age is {p.age}\".format(p = Person()))"
   ]
  },
  {
   "cell_type": "code",
   "execution_count": 99,
   "metadata": {},
   "outputs": [
    {
     "name": "stdout",
     "output_type": "stream",
     "text": [
      "durga's age is 48\n",
      "ravi's age is 50\n"
     ]
    }
   ],
   "source": [
    "# Here Person object is passed as Keyword argument , we can access by using its reference variable in the \n",
    "# template string\n",
    "\n",
    "class Person :\n",
    "    \n",
    "    def __init__(self,name,age):\n",
    "        self.name = name\n",
    "        self.age = age\n",
    "        \n",
    "print(\"{p.name}'s age is {p.age}\".format(p = Person('durga',48)))\n",
    "print(\"{p.name}'s age is {p.age}\".format(p = Person('ravi',50)))"
   ]
  },
  {
   "cell_type": "code",
   "execution_count": null,
   "metadata": {},
   "outputs": [],
   "source": []
  },
  {
   "cell_type": "markdown",
   "metadata": {},
   "source": [
    "### formatting date value"
   ]
  },
  {
   "cell_type": "code",
   "execution_count": 96,
   "metadata": {},
   "outputs": [
    {
     "name": "stdout",
     "output_type": "stream",
     "text": [
      "it's now : 26/09/19 02/07/12\n"
     ]
    }
   ],
   "source": [
    "import datetime\n",
    "\n",
    "date = datetime.datetime.now()\n",
    "\n",
    "print(\"it's now : {:%d/%m/%y %H/%M/%S}\".format(date))"
   ]
  },
  {
   "cell_type": "markdown",
   "metadata": {},
   "source": [
    "### formatting complex number"
   ]
  },
  {
   "cell_type": "code",
   "execution_count": 97,
   "metadata": {},
   "outputs": [
    {
     "name": "stdout",
     "output_type": "stream",
     "text": [
      "Real Part : 10.0 and Imaginary Part :20.0\n"
     ]
    }
   ],
   "source": [
    "complexNumber = 10+20j\n",
    "\n",
    "print(\"Real Part : {0.real} and Imaginary Part :{0.imag}\".format(complexNumber))"
   ]
  },
  {
   "cell_type": "code",
   "execution_count": null,
   "metadata": {},
   "outputs": [],
   "source": []
  }
 ],
 "metadata": {
  "kernelspec": {
   "display_name": "Python 3",
   "language": "python",
   "name": "python3"
  },
  "language_info": {
   "codemirror_mode": {
    "name": "ipython",
    "version": 3
   },
   "file_extension": ".py",
   "mimetype": "text/x-python",
   "name": "python",
   "nbconvert_exporter": "python",
   "pygments_lexer": "ipython3",
   "version": "3.6.8"
  }
 },
 "nbformat": 4,
 "nbformat_minor": 2
}
