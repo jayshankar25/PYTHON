{
 "cells": [
  {
   "cell_type": "markdown",
   "metadata": {},
   "source": [
    "## Set :\n",
    "\n",
    "   1. if we want to represent a group of unique values as a single entity then we should go for set\n",
    "   2. Dublicates are not allowed.\n",
    "   3. Insertion order is not preserved But we can sort the elements.\n",
    "   4. Indexing and slicing are not allowed for the set.\n",
    "   5. Heterogeneous elements are allowed .\n",
    "   6. set objects are __mutable__. that means once we creates set object we can perform any changes in that object based on our requirements.\n",
    "   7. we can represent set elements within curly braces and with comma seperated \n",
    "   8. we can apply mathematical operations like union, intersection , differences etc on set object"
   ]
  },
  {
   "cell_type": "markdown",
   "metadata": {},
   "source": [
    "## Creation of set "
   ]
  },
  {
   "cell_type": "code",
   "execution_count": 5,
   "metadata": {},
   "outputs": [
    {
     "name": "stdout",
     "output_type": "stream",
     "text": [
      "<class 'set'>\n",
      "set()\n"
     ]
    }
   ],
   "source": [
    "s = set()\n",
    "print(type(s))\n",
    "print(s)"
   ]
  },
  {
   "cell_type": "code",
   "execution_count": 6,
   "metadata": {},
   "outputs": [
    {
     "name": "stdout",
     "output_type": "stream",
     "text": [
      "<class 'set'>\n",
      "{1, 2, 3, 4, 5}\n"
     ]
    }
   ],
   "source": [
    "s = {1,2,3,4,5}\n",
    "print(type(s))\n",
    "print(s)"
   ]
  },
  {
   "cell_type": "code",
   "execution_count": 6,
   "metadata": {},
   "outputs": [
    {
     "name": "stdout",
     "output_type": "stream",
     "text": [
      "<class 'set'>\n",
      "{1, 2, 4, 5}\n"
     ]
    }
   ],
   "source": [
    "# duplication are not allow in set\n",
    "s = {1,2,4,5,1}\n",
    "print(type(s))\n",
    "print(s)"
   ]
  },
  {
   "cell_type": "code",
   "execution_count": 8,
   "metadata": {},
   "outputs": [
    {
     "name": "stdout",
     "output_type": "stream",
     "text": [
      "<class 'set'>\n",
      "{1, 'jay', 25.21}\n"
     ]
    }
   ],
   "source": [
    "# Hetrogeneous elements are allow\n",
    "s = {1,'jay',25.21}\n",
    "print(type(s))\n",
    "print(s)"
   ]
  },
  {
   "cell_type": "markdown",
   "metadata": {},
   "source": [
    "### note : \n",
    "   __we can't access the elements of set b/c indexing and slicing are not allow in set__"
   ]
  },
  {
   "cell_type": "markdown",
   "metadata": {},
   "source": [
    "## important function of set :\n",
    "\n",
    "   1. s.add(x):\n",
    "       - add item x to the set\n",
    "       \n",
    "   \n",
    "   2. s.update(x,y,z):\n",
    "       - To add multiple items to the set \n",
    "       - Arguments are not individual elements and these are iterable objects like list,range etc\n",
    "       - All elements in the given iterable objects will be added to the set \n",
    "       \n",
    "   \n",
    "   3. s.copy():\n",
    "       - Returnes copy of the set\n",
    "       - it is cloned object\n",
    "       \n",
    "   \n",
    "   4. s.pop() :\n",
    "       - it removes and returns some random elements from the set\n",
    "       \n",
    "   \n",
    "   5. s.remove(x) :\n",
    "       - it removes the specified elements fron the set.\n",
    "       - if the specified elements is not presents in the set then we will get keterror\n",
    "       \n",
    "   \n",
    "   6. s.discard(x):\n",
    "       - it removes the specified elements fron the set.\n",
    "       - if the specified elements is not presents in the set then we won't  get any error\n",
    "       \n",
    "   \n",
    "   7. s.clear() :\n",
    "       - to remove all elements from the set \n",
    "       "
   ]
  },
  {
   "cell_type": "code",
   "execution_count": 1,
   "metadata": {},
   "outputs": [
    {
     "data": {
      "text/plain": [
       "{10, 20, 30, 40}"
      ]
     },
     "execution_count": 1,
     "metadata": {},
     "output_type": "execute_result"
    }
   ],
   "source": [
    "# add item to the set\n",
    "\n",
    "s = {10,20,30}\n",
    "s.add(40)\n",
    "s"
   ]
  },
  {
   "cell_type": "code",
   "execution_count": 5,
   "metadata": {},
   "outputs": [
    {
     "name": "stdout",
     "output_type": "stream",
     "text": [
      "{10, 20, 30}\n",
      "{5, 70, 6, 40, 7, 10, 8, 80, 20, 60, 30}\n"
     ]
    }
   ],
   "source": [
    "# adding multiple items to the set\n",
    "\n",
    "s = {10,20,30}\n",
    "print(s)\n",
    "l = [40,5,60,70,80]\n",
    "s.update(l,range(6,9))\n",
    "print(s)"
   ]
  },
  {
   "cell_type": "code",
   "execution_count": 13,
   "metadata": {},
   "outputs": [
    {
     "name": "stdout",
     "output_type": "stream",
     "text": [
      "{200, 100, 400, 300}\n",
      "{200, 100, 400, 300}\n"
     ]
    }
   ],
   "source": [
    "# copy \n",
    "\n",
    "s = {100,200,300,400}\n",
    "print(s)\n",
    "s1 = s.copy()\n",
    "print(s1)"
   ]
  },
  {
   "cell_type": "code",
   "execution_count": 15,
   "metadata": {},
   "outputs": [
    {
     "name": "stdout",
     "output_type": "stream",
     "text": [
      "40\n",
      "{10, 20, 30}\n"
     ]
    }
   ],
   "source": [
    "# delete element of set\n",
    "\n",
    "# pop() ---  removes last element of set\n",
    "\n",
    "s = {10,20,30,40}\n",
    "print(s.pop())\n",
    "print(s)"
   ]
  },
  {
   "cell_type": "code",
   "execution_count": 19,
   "metadata": {},
   "outputs": [
    {
     "name": "stdout",
     "output_type": "stream",
     "text": [
      "{1, 3, 5, 6, 8, 9}\n"
     ]
    }
   ],
   "source": [
    "# deleting element of set\n",
    "\n",
    "# remove()   ----- it remove specific element and if not present show error\n",
    "\n",
    "s = {1,3,5,6,4,8,9}\n",
    "s.remove(4)\n",
    "print(s)"
   ]
  },
  {
   "cell_type": "code",
   "execution_count": 25,
   "metadata": {},
   "outputs": [
    {
     "name": "stdout",
     "output_type": "stream",
     "text": [
      "{1, 3, 4, 5, 6, 7, 8}\n",
      "None\n",
      "{1, 3, 5, 6, 7, 8}\n",
      "None\n",
      "{1, 3, 5, 6, 7, 8}\n"
     ]
    }
   ],
   "source": [
    "# deleting element of set\n",
    "\n",
    "# discard() ---- it also remove specific element and if not present don't show any error\n",
    "\n",
    "s = {1,4,3,5,6,8,7}\n",
    "print(s)                       # automatically sorted \n",
    "print(s.discard(4))\n",
    "print(s)\n",
    "print(s.discard(10))    # 10 is not present in set and don't show error\n",
    "print(s)\n",
    "   \n",
    "  "
   ]
  },
  {
   "cell_type": "code",
   "execution_count": 26,
   "metadata": {},
   "outputs": [
    {
     "name": "stdout",
     "output_type": "stream",
     "text": [
      "{40, 10, 29}\n",
      "set()\n"
     ]
    }
   ],
   "source": [
    "# clear()\n",
    "\n",
    "s = {10,29,40}\n",
    "print(s)\n",
    "s.clear()\n",
    "print(s)"
   ]
  },
  {
   "cell_type": "code",
   "execution_count": null,
   "metadata": {},
   "outputs": [],
   "source": []
  },
  {
   "cell_type": "code",
   "execution_count": null,
   "metadata": {},
   "outputs": [],
   "source": []
  },
  {
   "cell_type": "markdown",
   "metadata": {},
   "source": [
    "## Mathematical Operation on set :-\n",
    "\n",
    " 1. union():\n",
    "   - x.union(y) :- we can use this function to return all elements present in both sets\n",
    "   - x.uniion(y) or x|y\n",
    "   \n",
    "   \n",
    " 2. intersection()\n",
    "   - x.intersection(y) or x&y\n",
    "   - return common elements present in both x and y\n",
    "   \n",
    "   \n",
    " 3. intersection_update() :\n",
    " \n",
    " \n",
    " 4. difference():\n",
    "   - x.difference(y) or x-y\n",
    "   - return the elements present in x but not in y\n",
    "     \n",
    "     \n",
    " 5. symmetric_difference() :\n",
    "     - s.symmentric_difference(y) or x^y\n",
    "     - Return the elements present in either x OR y but not in both\n",
    "     \n",
    "     \n",
    " 6. symmetric_difference_update():\n",
    " \n",
    " \n",
    " 7. isdisjoint():\n",
    " \n",
    " \n",
    " 8. issubset():\n",
    " \n",
    " \n",
    " 9. issuperset():\n",
    " \n",
    " \n",
    " "
   ]
  },
  {
   "cell_type": "code",
   "execution_count": 12,
   "metadata": {},
   "outputs": [
    {
     "name": "stdout",
     "output_type": "stream",
     "text": [
      "{1, 2, 4, 5, 6, 7}\n",
      "{1, 2, 4, 5, 6, 7}\n"
     ]
    }
   ],
   "source": [
    "# union\n",
    "\n",
    "s1 = {1,4,5,6,4}\n",
    "s2 = {4,5,2,5,7,1}\n",
    "\n",
    "s3 = s1.union(s2)\n",
    "s4 = s1|s2\n",
    "\n",
    "print(s3)\n",
    "print(s4)"
   ]
  },
  {
   "cell_type": "code",
   "execution_count": 27,
   "metadata": {},
   "outputs": [
    {
     "name": "stdout",
     "output_type": "stream",
     "text": [
      "{40, 30}\n",
      "{40, 30}\n"
     ]
    }
   ],
   "source": [
    "# intersection \n",
    "\n",
    "x = {10,20,30,40}\n",
    "y = {30,40,50,60}\n",
    "\n",
    "print(x.intersection(y))\n",
    "print(x&y)\n"
   ]
  },
  {
   "cell_type": "code",
   "execution_count": 28,
   "metadata": {},
   "outputs": [
    {
     "name": "stdout",
     "output_type": "stream",
     "text": [
      "{10, 20}\n",
      "{10, 20}\n"
     ]
    }
   ],
   "source": [
    "# differences\n",
    "\n",
    "x = {10,20,30,40}\n",
    "y = {30,40,50,60}\n",
    "\n",
    "print(x.difference(y))\n",
    "print(x-y)"
   ]
  },
  {
   "cell_type": "code",
   "execution_count": 29,
   "metadata": {},
   "outputs": [
    {
     "name": "stdout",
     "output_type": "stream",
     "text": [
      "{50, 60}\n",
      "{50, 60}\n"
     ]
    }
   ],
   "source": [
    "# differences\n",
    "\n",
    "x = {10,20,30,40}\n",
    "y = {30,40,50,60}\n",
    "\n",
    "print(y.difference(x))\n",
    "print(y-x)"
   ]
  },
  {
   "cell_type": "code",
   "execution_count": 30,
   "metadata": {},
   "outputs": [
    {
     "name": "stdout",
     "output_type": "stream",
     "text": [
      "{10, 50, 20, 60}\n",
      "{10, 50, 20, 60}\n"
     ]
    }
   ],
   "source": [
    "# symmetric_difference()\n",
    "\n",
    "x = {10,20,30,40}\n",
    "y = {30,40,50,60}\n",
    "\n",
    "print(x.symmetric_difference(y))\n",
    "print(x^y)"
   ]
  },
  {
   "cell_type": "code",
   "execution_count": 35,
   "metadata": {},
   "outputs": [
    {
     "name": "stdout",
     "output_type": "stream",
     "text": [
      "{40, 10, 20, 30}\n",
      "{40, 50, 60, 30}\n",
      "None\n",
      "{10, 50, 20, 60}\n"
     ]
    }
   ],
   "source": [
    "# symmetric_difference_update()\n",
    "\n",
    "x = {10,20,30,40}\n",
    "y = {30,40,50,60}\n",
    "print(x)\n",
    "print(y)\n",
    "print(x.symmetric_difference_update(y))\n",
    "print(x)\n"
   ]
  },
  {
   "cell_type": "code",
   "execution_count": null,
   "metadata": {},
   "outputs": [],
   "source": []
  },
  {
   "cell_type": "code",
   "execution_count": null,
   "metadata": {},
   "outputs": [],
   "source": []
  },
  {
   "cell_type": "markdown",
   "metadata": {},
   "source": [
    "## Set Comprihension :-\n",
    "    - Set Comprihension is possible"
   ]
  },
  {
   "cell_type": "code",
   "execution_count": 13,
   "metadata": {},
   "outputs": [
    {
     "name": "stdout",
     "output_type": "stream",
     "text": [
      "{1, 4, 9, 16, 25}\n"
     ]
    }
   ],
   "source": [
    "s = {x*x for x in range(1,6)}\n",
    "print(s)"
   ]
  },
  {
   "cell_type": "code",
   "execution_count": null,
   "metadata": {},
   "outputs": [],
   "source": []
  }
 ],
 "metadata": {
  "kernelspec": {
   "display_name": "Python 3",
   "language": "python",
   "name": "python3"
  },
  "language_info": {
   "codemirror_mode": {
    "name": "ipython",
    "version": 3
   },
   "file_extension": ".py",
   "mimetype": "text/x-python",
   "name": "python",
   "nbconvert_exporter": "python",
   "pygments_lexer": "ipython3",
   "version": "3.6.8"
  }
 },
 "nbformat": 4,
 "nbformat_minor": 2
}
