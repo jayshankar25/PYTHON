{
 "cells": [
  {
   "cell_type": "markdown",
   "metadata": {},
   "source": [
    "### Dictionary\n",
    "\n",
    "   1. Dictionaries are __Mutable__\n",
    "   2. Dictionaries are __Dynamic__\n",
    "   3. __Indexing__ and __Slicing__ are not applicable\n",
    "   4. __Dublicate__ Key are not allow But __Value__ can be dublicate\n",
    "   5. Hetrogeneous objects are allowed for both key and values\n",
    "   6. Inserttion order is not preserved"
   ]
  },
  {
   "cell_type": "markdown",
   "metadata": {},
   "source": [
    "### Creation of Dictionary"
   ]
  },
  {
   "cell_type": "code",
   "execution_count": 3,
   "metadata": {},
   "outputs": [
    {
     "name": "stdout",
     "output_type": "stream",
     "text": [
      "<class 'dict'>\n"
     ]
    },
    {
     "data": {
      "text/plain": [
       "{}"
      ]
     },
     "execution_count": 3,
     "metadata": {},
     "output_type": "execute_result"
    }
   ],
   "source": [
    "d = {}\n",
    "print(type(d))\n",
    "d"
   ]
  },
  {
   "cell_type": "code",
   "execution_count": 4,
   "metadata": {},
   "outputs": [
    {
     "name": "stdout",
     "output_type": "stream",
     "text": [
      "<class 'dict'>\n"
     ]
    },
    {
     "data": {
      "text/plain": [
       "{}"
      ]
     },
     "execution_count": 4,
     "metadata": {},
     "output_type": "execute_result"
    }
   ],
   "source": [
    "d = dict()\n",
    "print(type(d))\n",
    "d"
   ]
  },
  {
   "cell_type": "code",
   "execution_count": 5,
   "metadata": {},
   "outputs": [
    {
     "name": "stdout",
     "output_type": "stream",
     "text": [
      "<class 'dict'>\n",
      "{1: 'jayshankar', 2: 'Bhagalpur', 3: '0177CS151061'}\n"
     ]
    }
   ],
   "source": [
    "d = {1:'jayshankar' , 2:'Bhagalpur' , 3 : '0177CS151061'}\n",
    "print(type(d))\n",
    "print(d)"
   ]
  },
  {
   "cell_type": "code",
   "execution_count": null,
   "metadata": {},
   "outputs": [],
   "source": []
  },
  {
   "cell_type": "markdown",
   "metadata": {},
   "source": [
    "### Traversing of dictionary  or Accessing data from dictionary"
   ]
  },
  {
   "cell_type": "code",
   "execution_count": 9,
   "metadata": {},
   "outputs": [
    {
     "name": "stdout",
     "output_type": "stream",
     "text": [
      "jayshankar\n",
      "Bhagalpur\n",
      "0177CS151061\n"
     ]
    }
   ],
   "source": [
    "d = {1:'jayshankar', 2:'Bhagalpur', 3 :'0177CS151061'}\n",
    "print(d[1])\n",
    "print(d[2])\n",
    "print(d[3])"
   ]
  },
  {
   "cell_type": "code",
   "execution_count": 7,
   "metadata": {},
   "outputs": [
    {
     "name": "stdout",
     "output_type": "stream",
     "text": [
      "jayshankar\n",
      "Bhagalpur\n",
      "0177CS151061\n"
     ]
    }
   ],
   "source": [
    "d = {1:'jayshankar', 2:'Bhagalpur', 3 :'0177CS151061'}\n",
    "\n",
    "for i in range(1,len(d)+1):\n",
    "    print(d[i])"
   ]
  },
  {
   "cell_type": "code",
   "execution_count": 2,
   "metadata": {},
   "outputs": [
    {
     "name": "stdout",
     "output_type": "stream",
     "text": [
      "jay\n",
      "shankar\n",
      "Leshraj\n",
      "tulsi\n"
     ]
    }
   ],
   "source": [
    "# traversing through values function\n",
    "# it will return value of dictionary\n",
    "\n",
    "d = {1:'jay',2:'shankar',3:'Leshraj',4:'tulsi'}\n",
    "\n",
    "for i in d.values():\n",
    "    print(i)"
   ]
  },
  {
   "cell_type": "code",
   "execution_count": 5,
   "metadata": {},
   "outputs": [
    {
     "name": "stdout",
     "output_type": "stream",
     "text": [
      "1 jay\n",
      "2 mohan\n",
      "3 rakesh\n",
      "4 lokesh\n",
      "5 abhishek\n"
     ]
    }
   ],
   "source": [
    "# traversing through items() function\n",
    "# it will return key and value both\n",
    "\n",
    "d = {1:'jay',2:'mohan',3:'rakesh',4:'lokesh',5:'abhishek'}\n",
    "\n",
    "for i,j in d.items():\n",
    "    print(i,j)"
   ]
  },
  {
   "cell_type": "code",
   "execution_count": 30,
   "metadata": {},
   "outputs": [
    {
     "data": {
      "text/plain": [
       "'jay'"
      ]
     },
     "execution_count": 30,
     "metadata": {},
     "output_type": "execute_result"
    }
   ],
   "source": [
    "d = {1:'jay',2:'mohan',3:'rakesh',4:'lokesh',5:'abhishek'}\n",
    "\n",
    "d.get(2)\n"
   ]
  },
  {
   "cell_type": "code",
   "execution_count": 32,
   "metadata": {},
   "outputs": [
    {
     "data": {
      "text/plain": [
       "'Not avaliable'"
      ]
     },
     "execution_count": 32,
     "metadata": {},
     "output_type": "execute_result"
    }
   ],
   "source": [
    "d = {1:'jay',2:'mohan',3:'rakesh',4:'lokesh',5:'abhishek'}\n",
    "d.get(6,'Not avaliable')"
   ]
  },
  {
   "cell_type": "markdown",
   "metadata": {},
   "source": [
    "## Update Dictionary\n",
    "\n",
    " 1. d[key] = value\n",
    " \n",
    "     a. if the key is not avaliable then the new entry will be added to the dictionary with the specified key-value pair\n",
    "       \n",
    "     b. if the key is already avaliable the old value will be replaced with new value"
   ]
  },
  {
   "cell_type": "code",
   "execution_count": 12,
   "metadata": {},
   "outputs": [
    {
     "data": {
      "text/plain": [
       "{1: 'jay', 2: 'mohan', 3: 'rakesh', 4: 'lokesh', 5: 'abhishek', 6: 'Mahesh'}"
      ]
     },
     "execution_count": 12,
     "metadata": {},
     "output_type": "execute_result"
    }
   ],
   "source": [
    "d = {1:'jay',2:'mohan',3:'rakesh',4:'lokesh',5:'abhishek'}\n",
    "\n",
    "d[6] = 'Mahesh'\n",
    "d"
   ]
  },
  {
   "cell_type": "code",
   "execution_count": 13,
   "metadata": {},
   "outputs": [
    {
     "data": {
      "text/plain": [
       "{1: 'jay', 2: 'mahesh', 3: 'rakesh', 4: 'lokesh', 5: 'abhishek'}"
      ]
     },
     "execution_count": 13,
     "metadata": {},
     "output_type": "execute_result"
    }
   ],
   "source": [
    "d = {1:'jay',2:'mohan',3:'rakesh',4:'lokesh',5:'abhishek'}\n",
    "\n",
    "d[2] = 'mahesh'\n",
    "\n",
    "d"
   ]
  },
  {
   "cell_type": "markdown",
   "metadata": {},
   "source": [
    "## Delete Elements from Dictionary\n",
    "\n",
    " 1. del d[key]:-\n",
    " \n",
    "     - it deletes entry associated with the specified key.\n",
    "     - it the key is not avaliable then it will get error\n",
    "     \n",
    " \n",
    " 2. d.clear() :\n",
    " \n",
    "     - It remove all entries from the dictionary\n",
    "     \n",
    "\n",
    " 3. d.pop(key) :\n",
    " \n",
    "     - it removes the entry assotiated with the specified key and return the corresponding value\n",
    "     - if the specific key is not avaliable then we will get keyError\n",
    "     \n",
    " \n",
    " 4. d.popitem()\n",
    " \n",
    "     - It removes an last item ( key-value ) from the dictionary and return it."
   ]
  },
  {
   "cell_type": "code",
   "execution_count": 9,
   "metadata": {},
   "outputs": [
    {
     "data": {
      "text/plain": [
       "{2: 'Adarah', 3: 'sumit', 4: 'pravin', 5: 'Yashaswi'}"
      ]
     },
     "execution_count": 9,
     "metadata": {},
     "output_type": "execute_result"
    }
   ],
   "source": [
    "# deleting element manualy from dictionary\n",
    "\n",
    "d = {1:'Rahul',2:'Adarah',3:'sumit',4:'pravin',5:'Yashaswi'}\n",
    "\n",
    "del d[1]\n",
    "\n",
    "d"
   ]
  },
  {
   "cell_type": "code",
   "execution_count": 8,
   "metadata": {},
   "outputs": [
    {
     "data": {
      "text/plain": [
       "{}"
      ]
     },
     "execution_count": 8,
     "metadata": {},
     "output_type": "execute_result"
    }
   ],
   "source": [
    "# deleating all elements of dictionary\n",
    "\n",
    "d = {1:'Rahul',2:'Adarah',3:'sumit',4:'pravin',5:'Yashaswi'}\n",
    "\n",
    "d.clear()\n",
    "\n",
    "d"
   ]
  },
  {
   "cell_type": "code",
   "execution_count": 15,
   "metadata": {},
   "outputs": [
    {
     "data": {
      "text/plain": [
       "{2: 'Adarah', 3: 'sumit', 4: 'pravin', 5: 'Yashaswi'}"
      ]
     },
     "execution_count": 15,
     "metadata": {},
     "output_type": "execute_result"
    }
   ],
   "source": [
    "d = {1:'Rahul',2:'Adarah',3:'sumit',4:'pravin',5:'Yashaswi'}\n",
    "\n",
    "d.pop(1)\n",
    "\n",
    "d"
   ]
  },
  {
   "cell_type": "code",
   "execution_count": 20,
   "metadata": {},
   "outputs": [
    {
     "data": {
      "text/plain": [
       "{1: 'Rahul', 2: 'Adarah', 3: 'sumit', 4: 'pravin'}"
      ]
     },
     "execution_count": 20,
     "metadata": {},
     "output_type": "execute_result"
    }
   ],
   "source": [
    "d = {1:'Rahul',2:'Adarah',3:'sumit',4:'pravin',5:'Yashaswi'}\n",
    "\n",
    "d.popitem()\n",
    "\n",
    "d"
   ]
  },
  {
   "cell_type": "markdown",
   "metadata": {},
   "source": [
    "## important function of Dictionary\n",
    "\n",
    " 1. dict():\n",
    "   - to create a dict.\n",
    " \n",
    " \n",
    " 2. len():\n",
    "   - Return the number of items in the dictionary\n",
    "     \n",
    " \n",
    " 3. clear():\n",
    "   - To remove all elements from a dictionary\n",
    "     \n",
    " \n",
    " 4. get():\n",
    "   - to get the value associated with the key\n",
    "     - d.get(key):\n",
    "       - if the key is avaliable then result the corresponding value otherwise return none , it won't raise any error\n",
    "      - d.get(key,defaultvalue):\n",
    "        - if the key is avaliable then returns the correponding value otherwise return defaultvalue\n",
    "            \n",
    " \n",
    " 5. pop():\n",
    "   - d.pop(key)\n",
    "         - it removes the entry associated with the specified key and return the corresponding\n",
    "         - if the specified key is not present then we will get keyError\n",
    "         \n",
    " \n",
    " 6. popitem():\n",
    "   - it removes an last item ( key-value ) from the dictionary and returns it.\n",
    "     \n",
    " \n",
    " 7. keys():\n",
    "   - it returns all keys associated with dictionary\n",
    "     \n",
    " \n",
    " 8. values():\n",
    "   - it returns all values associated with the dictionary\n",
    "     \n",
    " \n",
    " 9. items():\n",
    "   - it returns list of tuples representing key-value pairs.\n",
    "     \n",
    " \n",
    " 10. setdefault():\n",
    "    - d.setdefault(k,v)\n",
    "      - if the key is already avaliable then this function returns the corresponding value\n",
    "       - if the key is not avaliable then the specified key-value will be added as new item to the dictionary\n",
    "         \n",
    " \n",
    " 11. copy():\n",
    "    - To create exactly dublicate dictionary (cloned copy)\n",
    "     \n",
    " \n",
    " 12. update():\n",
    "    - d.update(x)\n",
    "      - all items present in the dictionary , x will be added to dictionary d\n",
    "  "
   ]
  },
  {
   "cell_type": "code",
   "execution_count": 39,
   "metadata": {},
   "outputs": [
    {
     "data": {
      "text/plain": [
       "{1: 'jay', 2: 'sumit', 3: 'pravin', 4: 'yashaswi'}"
      ]
     },
     "execution_count": 39,
     "metadata": {},
     "output_type": "execute_result"
    }
   ],
   "source": [
    "# dict()\n",
    "\n",
    "name = [(1,'jay'),(2,'sumit'),(3,'pravin'),(4,'yashaswi')]\n",
    "\n",
    "d = dict(name)\n",
    "\n",
    "d\n",
    "\n"
   ]
  },
  {
   "cell_type": "code",
   "execution_count": 40,
   "metadata": {},
   "outputs": [
    {
     "data": {
      "text/plain": [
       "5"
      ]
     },
     "execution_count": 40,
     "metadata": {},
     "output_type": "execute_result"
    }
   ],
   "source": [
    "# len()\n",
    "\n",
    "d = {1:'Rahul',2:'Adarah',3:'sumit',4:'pravin',5:'Yashaswi'}\n",
    "\n",
    "len(d)"
   ]
  },
  {
   "cell_type": "code",
   "execution_count": 57,
   "metadata": {},
   "outputs": [
    {
     "name": "stdout",
     "output_type": "stream",
     "text": [
      "{}\n"
     ]
    }
   ],
   "source": [
    "# clear()\n",
    "\n",
    "d = {1:'Rahul',2:'Adarah',3:'sumit',4:'pravin',5:'Yashaswi'}\n",
    "\n",
    "d.clear()\n",
    "print(d)"
   ]
  },
  {
   "cell_type": "code",
   "execution_count": 48,
   "metadata": {},
   "outputs": [
    {
     "name": "stdout",
     "output_type": "stream",
     "text": [
      "Adarah\n",
      "not avaliavble\n"
     ]
    }
   ],
   "source": [
    "# get()\n",
    "\n",
    "d = {1:'Rahul',2:'Adarah',3:'sumit',4:'pravin',5:'Yashaswi'}\n",
    "\n",
    "print(d.get(2))       \n",
    "print(d.get(6,'not avaliavble'))"
   ]
  },
  {
   "cell_type": "code",
   "execution_count": 50,
   "metadata": {},
   "outputs": [
    {
     "data": {
      "text/plain": [
       "'Rahul'"
      ]
     },
     "execution_count": 50,
     "metadata": {},
     "output_type": "execute_result"
    }
   ],
   "source": [
    "# pop()     \n",
    "\n",
    "d = {1:'Rahul',2:'Adarah',3:'sumit',4:'pravin',5:'Yashaswi'}\n",
    "\n",
    "d.pop(1)"
   ]
  },
  {
   "cell_type": "code",
   "execution_count": 53,
   "metadata": {},
   "outputs": [
    {
     "name": "stdout",
     "output_type": "stream",
     "text": [
      "(5, 'Yashaswi')\n",
      "{1: 'Rahul', 2: 'Adarah', 3: 'sumit', 4: 'pravin'}\n"
     ]
    }
   ],
   "source": [
    "# popitem()\n",
    "\n",
    "d = {1:'Rahul',2:'Adarah',3:'sumit',4:'pravin',5:'Yashaswi'}\n",
    "\n",
    "print(d.popitem())\n",
    "print(d)"
   ]
  },
  {
   "cell_type": "code",
   "execution_count": 60,
   "metadata": {},
   "outputs": [
    {
     "name": "stdout",
     "output_type": "stream",
     "text": [
      "dict_keys([1, 2, 3, 4, 5])\n",
      "1\n",
      "2\n",
      "3\n",
      "4\n",
      "5\n"
     ]
    }
   ],
   "source": [
    "# keys()\n",
    "\n",
    "d = {1:'Rahul',2:'Adarah',3:'sumit',4:'pravin',5:'Yashaswi'}\n",
    "\n",
    "print(d.keys())\n",
    "\n",
    "for i in d.keys():\n",
    "    print(i)"
   ]
  },
  {
   "cell_type": "code",
   "execution_count": 62,
   "metadata": {},
   "outputs": [
    {
     "name": "stdout",
     "output_type": "stream",
     "text": [
      "dict_values(['Rahul', 'Adarah', 'sumit', 'pravin', 'Yashaswi'])\n",
      "Rahul\n",
      "Adarah\n",
      "sumit\n",
      "pravin\n",
      "Yashaswi\n"
     ]
    }
   ],
   "source": [
    "# values()\n",
    "\n",
    "d = {1:'Rahul',2:'Adarah',3:'sumit',4:'pravin',5:'Yashaswi'}\n",
    "\n",
    "print(d.values())\n",
    "\n",
    "for i in d.values():\n",
    "    print(i)"
   ]
  },
  {
   "cell_type": "code",
   "execution_count": 68,
   "metadata": {},
   "outputs": [
    {
     "name": "stdout",
     "output_type": "stream",
     "text": [
      "dict_items([(1, 'Rahul'), (2, 'Adarah'), (3, 'sumit'), (4, 'pravin'), (5, 'Yashaswi')])\n",
      "1 : Rahul\n",
      "2 : Adarah\n",
      "3 : sumit\n",
      "4 : pravin\n",
      "5 : Yashaswi\n"
     ]
    }
   ],
   "source": [
    "# items()\n",
    "\n",
    "d = {1:'Rahul',2:'Adarah',3:'sumit',4:'pravin',5:'Yashaswi'}\n",
    "\n",
    "print(d.items())\n",
    "\n",
    "for i,j in d.items():\n",
    "    print(i,\": \"+j)"
   ]
  },
  {
   "cell_type": "code",
   "execution_count": 76,
   "metadata": {},
   "outputs": [
    {
     "name": "stdout",
     "output_type": "stream",
     "text": [
      "sourabh\n",
      "{1: 'Rahul', 2: 'Adarah', 3: 'sumit', 4: 'pravin', 5: 'Yashaswi', 6: 'sourabh'}\n"
     ]
    }
   ],
   "source": [
    "# setdefault()\n",
    "\n",
    "d = {1:'Rahul',2:'Adarah',3:'sumit',4:'pravin',5:'Yashaswi'}\n",
    "\n",
    "print(d.setdefault(6,'sourabh'))\n",
    "print(d)"
   ]
  },
  {
   "cell_type": "code",
   "execution_count": 77,
   "metadata": {},
   "outputs": [
    {
     "name": "stdout",
     "output_type": "stream",
     "text": [
      "Rahul\n",
      "{1: 'Rahul', 2: 'Adarah', 3: 'sumit', 4: 'pravin', 5: 'Yashaswi'}\n"
     ]
    }
   ],
   "source": [
    "# setdefault()\n",
    "\n",
    "d = {1:'Rahul',2:'Adarah',3:'sumit',4:'pravin',5:'Yashaswi'}\n",
    "\n",
    "print(d.setdefault(1,'jay'))\n",
    "print(d)"
   ]
  },
  {
   "cell_type": "code",
   "execution_count": 70,
   "metadata": {},
   "outputs": [
    {
     "data": {
      "text/plain": [
       "{1: 'Rahul', 2: 'Adarah', 3: 'sumit', 4: 'pravin', 5: 'Yashaswi'}"
      ]
     },
     "execution_count": 70,
     "metadata": {},
     "output_type": "execute_result"
    }
   ],
   "source": [
    "# copy()\n",
    "\n",
    "d = {1:'Rahul',2:'Adarah',3:'sumit',4:'pravin',5:'Yashaswi'}\n",
    "\n",
    "d1 = d.copy()\n",
    "\n",
    "d1"
   ]
  },
  {
   "cell_type": "code",
   "execution_count": 82,
   "metadata": {},
   "outputs": [
    {
     "name": "stdout",
     "output_type": "stream",
     "text": [
      "None\n",
      "{1: 'Rahul', 2: 'Adarah', 3: 'sumit', 4: 'pravin', 5: 'Yashaswi', 6: 'sonu', 7: 'sourabh'}\n"
     ]
    }
   ],
   "source": [
    "# update()\n",
    "\n",
    "d = {1:'Rahul',2:'Adarah',3:'sumit',4:'pravin',5:'Yashaswi'}\n",
    "\n",
    "x = {6:'sonu',7:'sourabh'}\n",
    "\n",
    "print(d.update(x))\n",
    "print(d)"
   ]
  },
  {
   "cell_type": "code",
   "execution_count": null,
   "metadata": {},
   "outputs": [],
   "source": []
  },
  {
   "cell_type": "markdown",
   "metadata": {},
   "source": [
    "## dictionary Comprehension :"
   ]
  },
  {
   "cell_type": "code",
   "execution_count": 44,
   "metadata": {},
   "outputs": [
    {
     "data": {
      "text/plain": [
       "{2: 4, 3: 9, 4: 16}"
      ]
     },
     "execution_count": 44,
     "metadata": {},
     "output_type": "execute_result"
    }
   ],
   "source": [
    "squares = {x : x*x for x in range(2,5)}\n",
    "squares"
   ]
  },
  {
   "cell_type": "code",
   "execution_count": 5,
   "metadata": {},
   "outputs": [
    {
     "data": {
      "text/plain": [
       "{1: 1, 2: 8, 3: 27, 4: 64, 5: 125}"
      ]
     },
     "execution_count": 5,
     "metadata": {},
     "output_type": "execute_result"
    }
   ],
   "source": [
    " \n",
    "cubes = {x : x**3 for x in range(1,6)}\n",
    "\n",
    "cubes"
   ]
  },
  {
   "cell_type": "code",
   "execution_count": null,
   "metadata": {},
   "outputs": [],
   "source": []
  },
  {
   "cell_type": "markdown",
   "metadata": {},
   "source": [
    "## dictionat to list and tuple :-"
   ]
  },
  {
   "cell_type": "code",
   "execution_count": 85,
   "metadata": {},
   "outputs": [
    {
     "name": "stdout",
     "output_type": "stream",
     "text": [
      "[100, 101, 102]\n"
     ]
    }
   ],
   "source": [
    "# convert dictionary to list\n",
    "\n",
    "d = {100:'durga',101:'ravi',102:'pavan'}\n",
    "\n",
    "print(list(d))"
   ]
  },
  {
   "cell_type": "code",
   "execution_count": 86,
   "metadata": {},
   "outputs": [
    {
     "name": "stdout",
     "output_type": "stream",
     "text": [
      "['durga', 'ravi', 'pavan']\n"
     ]
    }
   ],
   "source": [
    "print(list(d.values()))"
   ]
  },
  {
   "cell_type": "code",
   "execution_count": 87,
   "metadata": {},
   "outputs": [
    {
     "name": "stdout",
     "output_type": "stream",
     "text": [
      "[(100, 'durga'), (101, 'ravi'), (102, 'pavan')]\n"
     ]
    }
   ],
   "source": [
    "print(list(d.items()))"
   ]
  },
  {
   "cell_type": "code",
   "execution_count": 90,
   "metadata": {},
   "outputs": [
    {
     "name": "stdout",
     "output_type": "stream",
     "text": [
      "[100, 101, 102]\n"
     ]
    }
   ],
   "source": [
    "print(list(d.keys()))"
   ]
  },
  {
   "cell_type": "code",
   "execution_count": null,
   "metadata": {},
   "outputs": [],
   "source": []
  },
  {
   "cell_type": "code",
   "execution_count": 91,
   "metadata": {},
   "outputs": [
    {
     "name": "stdout",
     "output_type": "stream",
     "text": [
      "(1, 2, 3, 4, 5)\n"
     ]
    }
   ],
   "source": [
    "# convert dictionary to tuple\n",
    "\n",
    "d = {1:'rithik',2:'tiger',3:'akshay',4:'ajay',5:'mahesh babu'}\n",
    "\n",
    "print(tuple(d))"
   ]
  },
  {
   "cell_type": "code",
   "execution_count": 92,
   "metadata": {},
   "outputs": [
    {
     "name": "stdout",
     "output_type": "stream",
     "text": [
      "((1, 'rithik'), (2, 'tiger'), (3, 'akshay'), (4, 'ajay'), (5, 'mahesh babu'))\n"
     ]
    }
   ],
   "source": [
    "print(tuple(d.items()))"
   ]
  },
  {
   "cell_type": "code",
   "execution_count": 93,
   "metadata": {},
   "outputs": [
    {
     "name": "stdout",
     "output_type": "stream",
     "text": [
      "('rithik', 'tiger', 'akshay', 'ajay', 'mahesh babu')\n"
     ]
    }
   ],
   "source": [
    "print(tuple(d.values()))"
   ]
  },
  {
   "cell_type": "code",
   "execution_count": 94,
   "metadata": {},
   "outputs": [
    {
     "name": "stdout",
     "output_type": "stream",
     "text": [
      "(1, 2, 3, 4, 5)\n"
     ]
    }
   ],
   "source": [
    "print(tuple(d.keys()))"
   ]
  },
  {
   "cell_type": "code",
   "execution_count": null,
   "metadata": {},
   "outputs": [],
   "source": []
  },
  {
   "cell_type": "code",
   "execution_count": 95,
   "metadata": {},
   "outputs": [
    {
     "name": "stdout",
     "output_type": "stream",
     "text": [
      "{1, 2, 3, 4}\n"
     ]
    }
   ],
   "source": [
    "# convert dictionary to set\n",
    "\n",
    "d = {1:'alia bhat',2:'mahak thakur',3:'kriti sanon',4:'kriti kharbanda'}\n",
    "\n",
    "print(set(d))"
   ]
  },
  {
   "cell_type": "code",
   "execution_count": 2,
   "metadata": {},
   "outputs": [
    {
     "name": "stdout",
     "output_type": "stream",
     "text": [
      "((1, 'alia bhat'), (2, 'mahak thakur'), (3, 'kriti sanon'), (4, 'kriti kharbanda'))\n"
     ]
    }
   ],
   "source": [
    "d = {1:'alia bhat',2:'mahak thakur',3:'kriti sanon',4:'kriti kharbanda'}\n",
    "\n",
    "print(tuple(d.items()))"
   ]
  },
  {
   "cell_type": "code",
   "execution_count": 3,
   "metadata": {},
   "outputs": [
    {
     "name": "stdout",
     "output_type": "stream",
     "text": [
      "('alia bhat', 'mahak thakur', 'kriti sanon', 'kriti kharbanda')\n"
     ]
    }
   ],
   "source": [
    "d = {1:'alia bhat',2:'mahak thakur',3:'kriti sanon',4:'kriti kharbanda'}\n",
    "\n",
    "print(tuple(d.values()))"
   ]
  },
  {
   "cell_type": "code",
   "execution_count": 4,
   "metadata": {},
   "outputs": [
    {
     "name": "stdout",
     "output_type": "stream",
     "text": [
      "(1, 2, 3, 4)\n"
     ]
    }
   ],
   "source": [
    "print(tuple(d.keys()))"
   ]
  },
  {
   "cell_type": "code",
   "execution_count": null,
   "metadata": {},
   "outputs": [],
   "source": []
  }
 ],
 "metadata": {
  "kernelspec": {
   "display_name": "Python 3",
   "language": "python",
   "name": "python3"
  },
  "language_info": {
   "codemirror_mode": {
    "name": "ipython",
    "version": 3
   },
   "file_extension": ".py",
   "mimetype": "text/x-python",
   "name": "python",
   "nbconvert_exporter": "python",
   "pygments_lexer": "ipython3",
   "version": "3.6.8"
  }
 },
 "nbformat": 4,
 "nbformat_minor": 2
}
