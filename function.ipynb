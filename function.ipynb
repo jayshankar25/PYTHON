{
 "cells": [
  {
   "cell_type": "code",
   "execution_count": null,
   "metadata": {},
   "outputs": [],
   "source": []
  },
  {
   "cell_type": "markdown",
   "metadata": {},
   "source": [
    "## Function :- \n",
    "   - A Function is a set of instruction that is used to perform a singal related operation\n",
    "               or                     \n",
    "   - function is a block of organized , reusable code functions provide better modularity (high degree of reusing )\n",
    "    \n",
    "    \n",
    "##### Types  of Function :- \n",
    "\n",
    "   Basically, Function are classified into the following two types:-\n",
    "       \n",
    "   - Built-in Function:-\n",
    "        - Function that are built into python like print(), file(), len(), input(), all(), any() , shorted() etc upto 67\n",
    "   - User Define Function( Building our own Function):-    \n",
    "        - Function defined by the user themselves as per client or Business requirement\n",
    "                   "
   ]
  },
  {
   "cell_type": "markdown",
   "metadata": {},
   "source": [
    "#### Simple Rules to define a Function in Python:-\n",
    "   - Function block begin with the Keyword \" def \"  followed by the function named and parentheses ();\n",
    "   - Any input parameters or arguments should be placed within these parantheses () \n",
    "   - the first statement of the function can be optional statement - the document string or the finction or docstring\n",
    "   - the code block within every function starts with a colon(:) and is intended\n",
    "   - a return statement with no argument is same as return none.\n",
    "   \n",
    "   Syntax:-\n",
    "       \n",
    "       def Function_name ( arg1, arg2, arg3, ........ argN):\n",
    "           statement-1\n",
    "           statement-2\n",
    "           \n",
    "           return [expression]"
   ]
  },
  {
   "cell_type": "code",
   "execution_count": 7,
   "metadata": {},
   "outputs": [],
   "source": [
    "def add(a,b):\n",
    "    c = a+b\n",
    "    return c\n",
    "    "
   ]
  },
  {
   "cell_type": "code",
   "execution_count": 11,
   "metadata": {},
   "outputs": [
    {
     "name": "stdout",
     "output_type": "stream",
     "text": [
      "7\n"
     ]
    }
   ],
   "source": [
    "out =  add(3,4)\n",
    "print(out)"
   ]
  },
  {
   "cell_type": "code",
   "execution_count": 13,
   "metadata": {},
   "outputs": [
    {
     "name": "stdout",
     "output_type": "stream",
     "text": [
      "30\n"
     ]
    }
   ],
   "source": [
    "def first():\n",
    "    a = 10\n",
    "    b = 20\n",
    "    print(a+b)\n",
    "    \n",
    "first()"
   ]
  },
  {
   "cell_type": "markdown",
   "metadata": {},
   "source": [
    "#### Various Form of Functional Arguments:-\n",
    "   You can call a function by using th following types of formal arguments :\n",
    "    \n",
    "   - Required arguments or positional arguments\n",
    "   - Keyword arguments\n",
    "   - Default arguments \n",
    "   - variable length arguements\n",
    "   - variable length Keywords arguments\n",
    "   - unpacking\n",
    "   \n",
    "##### Required arguments or positional arguments:-\n",
    "    Argument passed should match the function parameter from left to right\n",
    "    \n",
    "Examples:-"
   ]
  },
  {
   "cell_type": "code",
   "execution_count": 16,
   "metadata": {},
   "outputs": [],
   "source": [
    "def pos_args(a,b,c):\n",
    "    print(a,b,c)\n",
    "    print(a,b)\n",
    "    print(a)"
   ]
  },
  {
   "cell_type": "code",
   "execution_count": 18,
   "metadata": {},
   "outputs": [
    {
     "name": "stdout",
     "output_type": "stream",
     "text": [
      "1 2 3\n",
      "1 2\n",
      "1\n",
      "python ml dl\n",
      "python ml\n",
      "python\n"
     ]
    },
    {
     "ename": "TypeError",
     "evalue": "pos_args() takes 3 positional arguments but 4 were given",
     "output_type": "error",
     "traceback": [
      "\u001b[1;31m---------------------------------------------------------------------------\u001b[0m",
      "\u001b[1;31mTypeError\u001b[0m                                 Traceback (most recent call last)",
      "\u001b[1;32m<ipython-input-18-0bcd0d8a90c2>\u001b[0m in \u001b[0;36m<module>\u001b[1;34m\u001b[0m\n\u001b[0;32m      2\u001b[0m \u001b[0mpos_args\u001b[0m\u001b[1;33m(\u001b[0m\u001b[1;34m\"python\"\u001b[0m\u001b[1;33m,\u001b[0m\u001b[1;34m'ml'\u001b[0m\u001b[1;33m,\u001b[0m\u001b[1;34m'dl'\u001b[0m\u001b[1;33m)\u001b[0m\u001b[1;33m\u001b[0m\u001b[1;33m\u001b[0m\u001b[0m\n\u001b[0;32m      3\u001b[0m \u001b[1;31m#pos_args(1,2)   #it will show error\u001b[0m\u001b[1;33m\u001b[0m\u001b[1;33m\u001b[0m\u001b[1;33m\u001b[0m\u001b[0m\n\u001b[1;32m----> 4\u001b[1;33m \u001b[0mpos_args\u001b[0m\u001b[1;33m(\u001b[0m\u001b[1;36m1\u001b[0m\u001b[1;33m,\u001b[0m\u001b[1;36m2\u001b[0m\u001b[1;33m,\u001b[0m\u001b[1;36m3\u001b[0m\u001b[1;33m,\u001b[0m\u001b[1;36m4\u001b[0m\u001b[1;33m)\u001b[0m\u001b[1;33m\u001b[0m\u001b[1;33m\u001b[0m\u001b[0m\n\u001b[0m",
      "\u001b[1;31mTypeError\u001b[0m: pos_args() takes 3 positional arguments but 4 were given"
     ]
    }
   ],
   "source": [
    "pos_args(1,2,3)\n",
    "pos_args(\"python\",'ml','dl')\n",
    "#pos_args(1,2)   #it will show error\n",
    "pos_args(1,2,3,4) # error:- pos_args() takes 3 positional arguments but 4 were given"
   ]
  },
  {
   "cell_type": "code",
   "execution_count": null,
   "metadata": {},
   "outputs": [],
   "source": []
  },
  {
   "cell_type": "markdown",
   "metadata": {},
   "source": [
    "#### Keyword Argument:-\n",
    "    we can call a function by specifying the keyword argument in the form argument name = value\n",
    "    \n",
    "    \n",
    "Examples:-"
   ]
  },
  {
   "cell_type": "code",
   "execution_count": 20,
   "metadata": {},
   "outputs": [],
   "source": [
    "def keyword_argument(a,b,c):\n",
    "    print(a,b,c)\n",
    "    print(a,b)\n",
    "    print(c)\n",
    "    return()"
   ]
  },
  {
   "cell_type": "code",
   "execution_count": 28,
   "metadata": {},
   "outputs": [
    {
     "name": "stdout",
     "output_type": "stream",
     "text": [
      "1 4 7\n",
      "1 4\n",
      "7\n"
     ]
    },
    {
     "data": {
      "text/plain": [
       "()"
      ]
     },
     "execution_count": 28,
     "metadata": {},
     "output_type": "execute_result"
    }
   ],
   "source": [
    "#keyword_argument(a=4,b=10,c=12)\n",
    "#keyword_argument(a=4,c=12, b=15)\n",
    "keyword_argument(1,4,c=7)  # shows error"
   ]
  },
  {
   "cell_type": "markdown",
   "metadata": {},
   "source": [
    "#### Defaule arguments:-\n",
    "    we can assign default value for arguments to recieve if the call passed too few values\n",
    "                    or\n",
    "    a default value can be wirtten in format \"argument = value\" , therefore we have the option to declare or not declare a value for those Arguments"
   ]
  },
  {
   "cell_type": "code",
   "execution_count": 29,
   "metadata": {},
   "outputs": [],
   "source": [
    "def default_argument(a=0,b=0,c=0):\n",
    "    print(a,b,c)\n",
    "    print(a,b)\n",
    "    print(c)\n",
    "    return()"
   ]
  },
  {
   "cell_type": "code",
   "execution_count": 31,
   "metadata": {},
   "outputs": [
    {
     "name": "stdout",
     "output_type": "stream",
     "text": [
      "5 6 0\n",
      "5 6\n",
      "0\n"
     ]
    },
    {
     "data": {
      "text/plain": [
       "()"
      ]
     },
     "execution_count": 31,
     "metadata": {},
     "output_type": "execute_result"
    }
   ],
   "source": [
    "default_argument(5,6)"
   ]
  },
  {
   "cell_type": "code",
   "execution_count": 32,
   "metadata": {},
   "outputs": [
    {
     "name": "stdout",
     "output_type": "stream",
     "text": [
      "5 10 0\n",
      "5 10\n",
      "0\n"
     ]
    },
    {
     "data": {
      "text/plain": [
       "()"
      ]
     },
     "execution_count": 32,
     "metadata": {},
     "output_type": "execute_result"
    }
   ],
   "source": [
    "default_argument(5,b=10)"
   ]
  },
  {
   "cell_type": "markdown",
   "metadata": {},
   "source": [
    "#### Variable Length Arguments:- (*args)"
   ]
  },
  {
   "cell_type": "code",
   "execution_count": 34,
   "metadata": {},
   "outputs": [
    {
     "name": "stdout",
     "output_type": "stream",
     "text": [
      "(10, 98)\n"
     ]
    },
    {
     "data": {
      "text/plain": [
       "108"
      ]
     },
     "execution_count": 34,
     "metadata": {},
     "output_type": "execute_result"
    }
   ],
   "source": [
    "# when positional argument is not fixed then we use this \n",
    "\n",
    "def add(*args):\n",
    "    print(args)\n",
    "    return sum(args)\n",
    "\n",
    "add(10,98)"
   ]
  },
  {
   "cell_type": "code",
   "execution_count": 35,
   "metadata": {},
   "outputs": [
    {
     "name": "stdout",
     "output_type": "stream",
     "text": [
      "(1, 2, 3, 4, 6, 9, 9, 5, 3, 9, 4)\n"
     ]
    },
    {
     "data": {
      "text/plain": [
       "55"
      ]
     },
     "execution_count": 35,
     "metadata": {},
     "output_type": "execute_result"
    }
   ],
   "source": [
    "add(1,2,3,4,6,9,9,5,3,9,4)"
   ]
  },
  {
   "cell_type": "code",
   "execution_count": null,
   "metadata": {},
   "outputs": [],
   "source": []
  },
  {
   "cell_type": "code",
   "execution_count": null,
   "metadata": {},
   "outputs": [],
   "source": []
  },
  {
   "cell_type": "markdown",
   "metadata": {},
   "source": [
    "#### variable length keyword arguments:-  (**kwargs)"
   ]
  },
  {
   "cell_type": "code",
   "execution_count": null,
   "metadata": {},
   "outputs": [],
   "source": []
  },
  {
   "cell_type": "code",
   "execution_count": 37,
   "metadata": {},
   "outputs": [
    {
     "name": "stdout",
     "output_type": "stream",
     "text": [
      "{'username': 'jayshankar', 'email': 'jsharma@uei.com', 'phone': '7934087849', 'dob': '16-09-2019'}\n",
      "{'employee': 'vishal', 'email': 'vishal@uei.com', 'phone': '7934087456'}\n"
     ]
    }
   ],
   "source": [
    "# when key word arguments not fixed then when i have used **kwargs\n",
    "\n",
    "\n",
    "def get_details(**kwargs):\n",
    "    print(kwargs)\n",
    "    \n",
    "get_details(username=\"jayshankar\",email=\"jsharma@uei.com\",phone=\"7934087849\",dob=\"16-09-2019\")\n",
    "get_details(employee=\"vishal\",email=\"vishal@uei.com\",phone=\"7934087456\")"
   ]
  },
  {
   "cell_type": "code",
   "execution_count": 38,
   "metadata": {},
   "outputs": [
    {
     "name": "stdout",
     "output_type": "stream",
     "text": [
      "{'username': 'jayshankar', 'email': 'jsharma@uei.com', 'phone': '7934087849', 'dob': '16-09-2019'}\n",
      "(10, 20, 30, 40)\n"
     ]
    }
   ],
   "source": [
    "def get_details(*args,**kwargs):\n",
    "    print(kwargs)\n",
    "    print(args)\n",
    "    \n",
    "get_details(10,20,30,40,username=\"jayshankar\",email=\"jsharma@uei.com\",phone=\"7934087849\",dob=\"16-09-2019\")"
   ]
  },
  {
   "cell_type": "code",
   "execution_count": 40,
   "metadata": {},
   "outputs": [
    {
     "name": "stdout",
     "output_type": "stream",
     "text": [
      "{'email': 'jsharma@uei.com', 'phone': '7934087849', 'dob': '16-09-2019'}\n",
      "(30, 40)\n",
      "10\n",
      "20\n",
      "jayshankar\n"
     ]
    }
   ],
   "source": [
    "def get_details(num1, num2, *args, username, **kwargs):\n",
    "    print(kwargs)\n",
    "    print(args)\n",
    "    print(num1)\n",
    "    print(num2)\n",
    "    print(username)\n",
    "    \n",
    "get_details(10,20,30,40,username=\"jayshankar\",email=\"jsharma@uei.com\",phone=\"7934087849\",dob=\"16-09-2019\")"
   ]
  },
  {
   "cell_type": "markdown",
   "metadata": {},
   "source": [
    "#### Unpacking:-\n"
   ]
  },
  {
   "cell_type": "code",
   "execution_count": 46,
   "metadata": {},
   "outputs": [
    {
     "name": "stdout",
     "output_type": "stream",
     "text": [
      "10 90 40 50\n",
      "190\n"
     ]
    }
   ],
   "source": [
    "def add(num1, num2, num3, num4):\n",
    "    return num1+num2+num3+num4\n",
    "\n",
    "l = [10, 90, 40, 50]\n",
    "\n",
    "print(*l)\n",
    "\n",
    "print(add(*l))   "
   ]
  },
  {
   "cell_type": "code",
   "execution_count": 45,
   "metadata": {},
   "outputs": [
    {
     "name": "stdout",
     "output_type": "stream",
     "text": [
      "6\n"
     ]
    }
   ],
   "source": [
    "# *d = it takes the key of dictionary\n",
    "\n",
    "def add(num1, num2, num3):\n",
    "    return num1+num2+num3\n",
    "\n",
    "d = {1:\"python\",2:\"java\",3:\"c\"}\n",
    "print(add(*d))       # it only pass key and unpack and pass key to num1, num2, num3"
   ]
  },
  {
   "cell_type": "code",
   "execution_count": 82,
   "metadata": {},
   "outputs": [
    {
     "name": "stdout",
     "output_type": "stream",
     "text": [
      "pythonjavac\n"
     ]
    }
   ],
   "source": [
    "# **d = it takes value of dictionary and unpact it\n",
    "\n",
    "\n",
    "\n",
    "def add(num1, num2, num3):\n",
    "    \n",
    "    \n",
    "    return num1+num2+num3\n",
    "\n",
    "d = {'num1':\"python\",'num2':\"java\",'num3':\"c\"}\n",
    "\n",
    "print(add(**d))  # it takes the value of dictionary and pass it to num1, num2, num3"
   ]
  },
  {
   "cell_type": "code",
   "execution_count": null,
   "metadata": {},
   "outputs": [],
   "source": []
  },
  {
   "cell_type": "markdown",
   "metadata": {},
   "source": [
    "### Scope and Lifetime of variable:-\n",
    "   All Variables in the program may not be accessible at all loacation in that programming. this depends on where you have declared a variable.\n",
    "    \n",
    "   The Scope of Variable determines the portion of the program where you can access a particular identifier. There are 2 basic scope of variable in python.\n",
    "    \n",
    "   - Local variable \n",
    "   - Global Variable\n",
    "   \n",
    "##### Local Variable:-\n",
    "   - The variable defined within the function has a local scope and hence they are called local variable\n",
    "   - local scope means they can be accessed within the function only\n",
    "   \n",
    "#### Global variable:-\n",
    "   - the variable define outside the function has a global scope and hence they are called global variable\n",
    "   - Global scope means they can be accessed within the function as well outside the function."
   ]
  },
  {
   "cell_type": "code",
   "execution_count": null,
   "metadata": {},
   "outputs": [],
   "source": []
  },
  {
   "cell_type": "code",
   "execution_count": 49,
   "metadata": {},
   "outputs": [
    {
     "name": "stdout",
     "output_type": "stream",
     "text": [
      "300\n"
     ]
    }
   ],
   "source": [
    "b = 200            # Global variable has global scope\n",
    "\n",
    "def local_scope():\n",
    "    e = 100      # local varible has local scope\n",
    "    \n",
    "    print(e+b)\n",
    "    \n",
    "    return\n",
    "\n",
    "local_scope()\n"
   ]
  },
  {
   "cell_type": "code",
   "execution_count": 21,
   "metadata": {},
   "outputs": [
    {
     "name": "stdout",
     "output_type": "stream",
     "text": [
      "408\n"
     ]
    }
   ],
   "source": [
    "b = 243            # Global variable has global scope\n",
    "a = 165\n",
    "\n",
    "def local_scope():\n",
    "    print(a+b)\n",
    "    return\n",
    "\n",
    "local_scope()"
   ]
  },
  {
   "cell_type": "code",
   "execution_count": 52,
   "metadata": {},
   "outputs": [
    {
     "name": "stdout",
     "output_type": "stream",
     "text": [
      "50\n"
     ]
    },
    {
     "ename": "NameError",
     "evalue": "name 'f' is not defined",
     "output_type": "error",
     "traceback": [
      "\u001b[1;31m---------------------------------------------------------------------------\u001b[0m",
      "\u001b[1;31mNameError\u001b[0m                                 Traceback (most recent call last)",
      "\u001b[1;32m<ipython-input-52-54894b569403>\u001b[0m in \u001b[0;36m<module>\u001b[1;34m\u001b[0m\n\u001b[0;32m      5\u001b[0m \u001b[1;33m\u001b[0m\u001b[0m\n\u001b[0;32m      6\u001b[0m \u001b[0mlocal_scope\u001b[0m\u001b[1;33m(\u001b[0m\u001b[1;33m)\u001b[0m\u001b[1;33m\u001b[0m\u001b[1;33m\u001b[0m\u001b[0m\n\u001b[1;32m----> 7\u001b[1;33m \u001b[0mprint\u001b[0m\u001b[1;33m(\u001b[0m\u001b[0mf\u001b[0m\u001b[1;33m)\u001b[0m\u001b[1;33m\u001b[0m\u001b[1;33m\u001b[0m\u001b[0m\n\u001b[0m\u001b[0;32m      8\u001b[0m \u001b[0mprint\u001b[0m\u001b[1;33m(\u001b[0m\u001b[0mg\u001b[0m\u001b[1;33m)\u001b[0m\u001b[1;33m\u001b[0m\u001b[1;33m\u001b[0m\u001b[0m\n",
      "\u001b[1;31mNameError\u001b[0m: name 'f' is not defined"
     ]
    }
   ],
   "source": [
    "def local_scope():\n",
    "    g, f = 20, 30\n",
    "    print(g+f)\n",
    "    return\n",
    "\n",
    "local_scope()\n",
    "print(f)\n",
    "print(g)"
   ]
  },
  {
   "cell_type": "code",
   "execution_count": null,
   "metadata": {},
   "outputs": [],
   "source": []
  },
  {
   "cell_type": "code",
   "execution_count": null,
   "metadata": {},
   "outputs": [],
   "source": []
  },
  {
   "cell_type": "code",
   "execution_count": null,
   "metadata": {},
   "outputs": [],
   "source": []
  },
  {
   "cell_type": "code",
   "execution_count": null,
   "metadata": {},
   "outputs": [],
   "source": []
  },
  {
   "cell_type": "markdown",
   "metadata": {},
   "source": [
    "#### Global keyword:-\n",
    "    Global is used to declare that a variable inside the function is global(outside the function). if we need to read the value of a global variable, it is not necessary to define it as global. if we need to modify the value of a global variable inside a function, then we must declare it with global. otherwise a local variable with that name is created. \n",
    "    \n",
    "\n",
    "    \n",
    "Examples:-"
   ]
  },
  {
   "cell_type": "code",
   "execution_count": 4,
   "metadata": {},
   "outputs": [
    {
     "name": "stdout",
     "output_type": "stream",
     "text": [
      "-10\n",
      "30\n",
      "200\n"
     ]
    },
    {
     "data": {
      "text/plain": [
       "()"
      ]
     },
     "execution_count": 4,
     "metadata": {},
     "output_type": "execute_result"
    }
   ],
   "source": [
    "def scope_fun():\n",
    "    global a ,b\n",
    "    a = 10\n",
    "    b = 20\n",
    "    print(a-b)\n",
    "    return()\n",
    "\n",
    "def scope_fun2():\n",
    "    print(a+b)\n",
    "    return()\n",
    "\n",
    "def scope_fun3():\n",
    "    #global a,b\n",
    "    print(a*b)\n",
    "    return()\n",
    "\n",
    "scope_fun()\n",
    "scope_fun2()\n",
    "scope_fun3()\n"
   ]
  },
  {
   "cell_type": "markdown",
   "metadata": {},
   "source": [
    "#### Nested Function:-\n",
    "  Function can be defined within the scope of another function. if this type of function defination is used, the inner function is only in scope inside the outside function, so it is most often useful when the inner function is being returned (moving it to the outer scope) or when is being passed into another function\n",
    "  \n",
    "Examples:-"
   ]
  },
  {
   "cell_type": "code",
   "execution_count": 5,
   "metadata": {},
   "outputs": [
    {
     "name": "stdout",
     "output_type": "stream",
     "text": [
      "Outer Function\n",
      "Inner Finction\n"
     ]
    }
   ],
   "source": [
    "def Outer_function():\n",
    "    print(\"Outer Function\")\n",
    "    \n",
    "    def Inner_function():\n",
    "        print(\"Inner Finction\")\n",
    "        \n",
    "    Inner_function()\n",
    "    \n",
    "Outer_function()\n",
    "\n",
    "\n",
    " "
   ]
  },
  {
   "cell_type": "code",
   "execution_count": 6,
   "metadata": {},
   "outputs": [
    {
     "name": "stdout",
     "output_type": "stream",
     "text": [
      "Outer Function\n"
     ]
    },
    {
     "ename": "NameError",
     "evalue": "name 'Inner_function' is not defined",
     "output_type": "error",
     "traceback": [
      "\u001b[1;31m---------------------------------------------------------------------------\u001b[0m",
      "\u001b[1;31mNameError\u001b[0m                                 Traceback (most recent call last)",
      "\u001b[1;32m<ipython-input-6-f081d9019253>\u001b[0m in \u001b[0;36m<module>\u001b[1;34m\u001b[0m\n\u001b[0;32m      8\u001b[0m \u001b[1;33m\u001b[0m\u001b[0m\n\u001b[0;32m      9\u001b[0m \u001b[0mOuter_function\u001b[0m\u001b[1;33m(\u001b[0m\u001b[1;33m)\u001b[0m\u001b[1;33m\u001b[0m\u001b[1;33m\u001b[0m\u001b[0m\n\u001b[1;32m---> 10\u001b[1;33m \u001b[0mInner_function\u001b[0m\u001b[1;33m(\u001b[0m\u001b[1;33m)\u001b[0m\u001b[1;33m\u001b[0m\u001b[1;33m\u001b[0m\u001b[0m\n\u001b[0m",
      "\u001b[1;31mNameError\u001b[0m: name 'Inner_function' is not defined"
     ]
    }
   ],
   "source": [
    "# we cannot call inner function outside the outer function because the scope of inner function is in outer function\n",
    "\n",
    "\n",
    "def Outer_function():\n",
    "    print(\"Outer Function\")\n",
    "    \n",
    "    def Inner_function():\n",
    "        print(\"Inner Finction\")\n",
    "        \n",
    "    Inner_function()\n",
    "    \n",
    "Outer_function()\n"
   ]
  },
  {
   "cell_type": "code",
   "execution_count": 23,
   "metadata": {},
   "outputs": [
    {
     "name": "stdout",
     "output_type": "stream",
     "text": [
      "3\n"
     ]
    }
   ],
   "source": [
    "def Outer():\n",
    "    x = 1\n",
    "    def Inner(a):\n",
    "        print(a+x)\n",
    "    Inner(2)\n",
    "    \n",
    "Outer()"
   ]
  },
  {
   "cell_type": "code",
   "execution_count": 26,
   "metadata": {},
   "outputs": [
    {
     "name": "stdout",
     "output_type": "stream",
     "text": [
      "Outer 1\n",
      "Inner 6\n"
     ]
    }
   ],
   "source": [
    "def Outer():\n",
    "    x=1\n",
    "    def Inner(a):\n",
    "        x=4\n",
    "        print(\"Inner\",a+x)\n",
    "        \n",
    "    print(\"Outer\",x)\n",
    "    Inner(2)    \n",
    "Outer()"
   ]
  },
  {
   "cell_type": "markdown",
   "metadata": {},
   "source": [
    "#### nonlocal keyword:-\n",
    "   - the use of nonlocal keyword is much similar to global keyword. nonlocal is used to declare that a variable inside a nested function is not local to it, meaning it lies in the outer inclosing function \n",
    "   \n",
    "   - if we need to modify the value of a non-local variable inside a nested function, then we must declareit with nonlocal, otherwise a local variable with that name is created inside the nested function.\n",
    "   \n",
    "Example:-"
   ]
  },
  {
   "cell_type": "code",
   "execution_count": null,
   "metadata": {},
   "outputs": [],
   "source": []
  },
  {
   "cell_type": "code",
   "execution_count": 17,
   "metadata": {},
   "outputs": [
    {
     "name": "stdout",
     "output_type": "stream",
     "text": [
      "Outer Value is :- 10\n",
      "inner value is :-  20\n"
     ]
    }
   ],
   "source": [
    "def outer_fun():\n",
    "    a = 10\n",
    "    print(\"Outer Value is :-\", a)\n",
    "    \n",
    "    def inner_fun():\n",
    "        a = 20\n",
    "        print(\"inner value is :- \", a)\n",
    "        \n",
    "    inner_fun()\n",
    "    \n",
    "outer_fun()"
   ]
  },
  {
   "cell_type": "code",
   "execution_count": 9,
   "metadata": {},
   "outputs": [
    {
     "name": "stdout",
     "output_type": "stream",
     "text": [
      "inner value is :-  20\n",
      "Outer Value is :- 10\n"
     ]
    }
   ],
   "source": [
    "def outer_fun():\n",
    "    a = 10\n",
    "    \n",
    "    def inner_fun():\n",
    "        a = 20\n",
    "        print(\"inner value is :- \", a)\n",
    "        \n",
    "    inner_fun()\n",
    "    print(\"Outer Value is :-\", a)\n",
    "    \n",
    "outer_fun()"
   ]
  },
  {
   "cell_type": "code",
   "execution_count": 28,
   "metadata": {},
   "outputs": [
    {
     "name": "stdout",
     "output_type": "stream",
     "text": [
      "inner value is :- 20\n",
      "Outer Value is :- 20\n"
     ]
    }
   ],
   "source": [
    "def outer_fun():\n",
    "    a = 10\n",
    "    \n",
    "    def inner_fun():\n",
    "        nonlocal a\n",
    "        a = 20\n",
    "        print(\"inner value is :-\", a)\n",
    "        \n",
    "    inner_fun()\n",
    "    print(\"Outer Value is :-\", a)\n",
    "    \n",
    "outer_fun()"
   ]
  },
  {
   "cell_type": "markdown",
   "metadata": {},
   "source": [
    "Note:- \n",
    "\n",
    "    the  Inner_function() is nested within the outer_function(), the variable a is in the outer_function(). so if we want to modify it in the inner_funciton, we must declare it as nonlocal."
   ]
  },
  {
   "cell_type": "code",
   "execution_count": null,
   "metadata": {},
   "outputs": [],
   "source": []
  },
  {
   "cell_type": "markdown",
   "metadata": {},
   "source": [
    "### recursion function:-\n",
    "   A function call itself one or more times in its body  \n",
    "   \n",
    "                     or\n",
    "                     \n",
    "   If a function call itself is called as recurssive function\n",
    "   \n",
    "Example:-"
   ]
  },
  {
   "cell_type": "code",
   "execution_count": 42,
   "metadata": {},
   "outputs": [
    {
     "name": "stdout",
     "output_type": "stream",
     "text": [
      "6\n"
     ]
    }
   ],
   "source": [
    "def Factorial_Number(n):\n",
    "    if n == 1:\n",
    "        return 1\n",
    "    else:\n",
    "        return n * Factorial_Number(n-1)\n",
    "    \n",
    "print(Factorial_Number(3))\n",
    "print(Factorial_Number(5))\n",
    "# print(Factorial_Number(7))\n",
    "\n",
    "\n",
    "#3 ---> 1x2x3 == 6"
   ]
  },
  {
   "cell_type": "code",
   "execution_count": 43,
   "metadata": {},
   "outputs": [
    {
     "name": "stdout",
     "output_type": "stream",
     "text": [
      "Help on function Factorial_Number in module __main__:\n",
      "\n",
      "Factorial_Number(n)\n",
      "\n"
     ]
    }
   ],
   "source": [
    "help(Factorial_Number)"
   ]
  },
  {
   "cell_type": "code",
   "execution_count": null,
   "metadata": {},
   "outputs": [],
   "source": []
  },
  {
   "cell_type": "markdown",
   "metadata": {},
   "source": [
    "### Anonymous function (lambda function):-\n",
    "    not identified by name or unknown name, it has the following name:\n",
    "        - lambda function\n",
    "        - lambda forms\n",
    "        - one line function\n",
    "        - implicit function\n",
    "        - simple function\n",
    "        - throw-away function\n",
    "        - short-period function\n",
    "        \n",
    "    it is a function that is defined without a name, no def and return keyword !!\n",
    "    \n",
    "                or\n",
    "    In python, anonymous function is a function that is defined without a name while normal function are defined using the def keyword, In python anonymous function are defined are defined using lambda keyword.\n",
    "    \n",
    "Syntax:-\n",
    "\n",
    "    lambda[ arg1, [arg2, [arg3, ..... argN]] : expression"
   ]
  },
  {
   "cell_type": "code",
   "execution_count": 44,
   "metadata": {},
   "outputs": [
    {
     "name": "stdout",
     "output_type": "stream",
     "text": [
      "4\n"
     ]
    }
   ],
   "source": [
    "x = lambda x : x**2\n",
    "\n",
    "# x ---> litrals or variable \n",
    "# lambda ===> keyword or reserved words\n",
    "# x ---> it is argument \n",
    "# x**2 ---> Expression\n",
    "\n",
    "print(x(2))"
   ]
  },
  {
   "cell_type": "code",
   "execution_count": 78,
   "metadata": {},
   "outputs": [
    {
     "name": "stdout",
     "output_type": "stream",
     "text": [
      "2.5\n"
     ]
    }
   ],
   "source": [
    "avg = lambda x,y : (x+y)/2 \n",
    "print(avg(2,3))"
   ]
  },
  {
   "cell_type": "code",
   "execution_count": null,
   "metadata": {},
   "outputs": [],
   "source": []
  },
  {
   "cell_type": "code",
   "execution_count": null,
   "metadata": {},
   "outputs": [],
   "source": []
  },
  {
   "cell_type": "markdown",
   "metadata": {},
   "source": [
    "### what is docString:-\n",
    "   Python Documentation String(or docstring) provide a convenient way of associating documentation with python module, function, classes and method. you can access string literals by \\__doc\\__ (notion the double underscores) attributes of the object.\n",
    "   \n",
    "#### Docstring Convensation:-\n",
    "   - String literals must be enclosed with a triple quotes\n",
    "   - the first line may briefly describe the objects purpose. the line should begin with a capital letter and end with a dot\n",
    "   - if a documentation string is a multi-line string then the second line should be blank followed by any detailed explaned explanation starting from the third line.\n",
    "   \n",
    "\n",
    "Syntax:-"
   ]
  },
  {
   "cell_type": "code",
   "execution_count": 41,
   "metadata": {},
   "outputs": [
    {
     "name": "stdout",
     "output_type": "stream",
     "text": [
      " Do nothing, but document it.\n",
      "        \n",
      "No, really it doesn't do anything\n"
     ]
    }
   ],
   "source": [
    "def my_function():\n",
    "    \"\"\" Do nothing, but document it.\n",
    "        \n",
    "No, really it doesn't do anything\"\"\"\n",
    "    \n",
    "    \n",
    "print(my_function.__doc__)"
   ]
  },
  {
   "cell_type": "code",
   "execution_count": 47,
   "metadata": {},
   "outputs": [
    {
     "name": "stdout",
     "output_type": "stream",
     "text": [
      "4\n",
      "Using this funcition    \n",
      "we can calculate square computations\n",
      "Automatically created module for IPython interactive environment\n"
     ]
    }
   ],
   "source": [
    "def Square(a):\n",
    "    \"\"\"Using this funcition    \n",
    "we can calculate square computations\"\"\"\n",
    "    \n",
    "    return(a**2)\n",
    "\n",
    "print(Square(2))\n",
    "print(Square.__doc__)\n",
    "print(__doc__)"
   ]
  },
  {
   "cell_type": "code",
   "execution_count": null,
   "metadata": {},
   "outputs": [],
   "source": []
  },
  {
   "cell_type": "code",
   "execution_count": null,
   "metadata": {},
   "outputs": [],
   "source": []
  },
  {
   "cell_type": "code",
   "execution_count": null,
   "metadata": {},
   "outputs": [],
   "source": []
  },
  {
   "cell_type": "code",
   "execution_count": null,
   "metadata": {},
   "outputs": [],
   "source": []
  },
  {
   "cell_type": "code",
   "execution_count": null,
   "metadata": {},
   "outputs": [],
   "source": []
  },
  {
   "cell_type": "code",
   "execution_count": null,
   "metadata": {},
   "outputs": [],
   "source": []
  },
  {
   "cell_type": "code",
   "execution_count": null,
   "metadata": {},
   "outputs": [],
   "source": []
  },
  {
   "cell_type": "markdown",
   "metadata": {},
   "source": [
    "# Built-in function in Python:-\n",
    "   \n",
    "   - delattr()\n",
    "   - hash()\n",
    "   - memoryview()\n",
    "   - set()\n",
    "   - all()\n",
    "   - dict()\n",
    "   - help()\n",
    "   - min()\n",
    "   - setattr()\n",
    "   - any()\n",
    "   - dir()\n",
    "   - hex()\n",
    "   - next()\n",
    "   - slice()    \n",
    "   - ascii()\n",
    "   - divmod()\n",
    "   - id()\n",
    "   - object()\n",
    "   - sorted()\n",
    "   - bin()\n",
    "   - enumerate()\n",
    "   - input()\n",
    "   - oct()\n",
    "   - staticmethod() \n",
    "   - bool()\n",
    "   - eval()\n",
    "   - int()\n",
    "   - open()\n",
    "   - str()\n",
    "   - breakpoint()\n",
    "   - exec()\n",
    "   - isinstance()\n",
    "   - ord()\n",
    "   - sum() \n",
    "   - bytearray()\n",
    "   - filter()\n",
    "   - issubclass()\n",
    "   - pow()\n",
    "   - super()\n",
    "   - bytes()\n",
    "   - float()\n",
    "   - iter()\n",
    "   - print()\n",
    "   - tuple() \n",
    "   - callable()\n",
    "   - format()\n",
    "   - len()\n",
    "   - property()\n",
    "   - type()\n",
    "   - chr()\n",
    "   - frozenset()\n",
    "   - list()\n",
    "   - range()\n",
    "   - vars()\n",
    "   - classmethod()\n",
    "   - getattr()\n",
    "   - locals()\n",
    "   - repr()\n",
    "   - zip()\n",
    "   - compile()\n",
    "   - globals()\n",
    "   - map()\n",
    "   - reversed()\n",
    "   - \\__import__\\()\n",
    "   - complex()\n",
    "   - hasattr()\n",
    "   - max()\n",
    "   - round()"
   ]
  },
  {
   "cell_type": "markdown",
   "metadata": {},
   "source": [
    "#####  abs()"
   ]
  },
  {
   "cell_type": "code",
   "execution_count": 4,
   "metadata": {},
   "outputs": [
    {
     "name": "stdout",
     "output_type": "stream",
     "text": [
      "10\n"
     ]
    }
   ],
   "source": [
    "a = -10\n",
    "print(abs(a))"
   ]
  },
  {
   "cell_type": "markdown",
   "metadata": {},
   "source": [
    "#### delattr()"
   ]
  },
  {
   "cell_type": "code",
   "execution_count": null,
   "metadata": {},
   "outputs": [],
   "source": []
  },
  {
   "cell_type": "markdown",
   "metadata": {},
   "source": [
    "#### hash()"
   ]
  },
  {
   "cell_type": "code",
   "execution_count": null,
   "metadata": {},
   "outputs": [],
   "source": []
  },
  {
   "cell_type": "markdown",
   "metadata": {},
   "source": [
    "#### memoryview()"
   ]
  },
  {
   "cell_type": "code",
   "execution_count": null,
   "metadata": {},
   "outputs": [],
   "source": []
  },
  {
   "cell_type": "markdown",
   "metadata": {},
   "source": [
    "#### set()"
   ]
  },
  {
   "cell_type": "code",
   "execution_count": null,
   "metadata": {},
   "outputs": [],
   "source": []
  },
  {
   "cell_type": "markdown",
   "metadata": {},
   "source": [
    "#### all()"
   ]
  },
  {
   "cell_type": "code",
   "execution_count": null,
   "metadata": {},
   "outputs": [],
   "source": []
  },
  {
   "cell_type": "markdown",
   "metadata": {},
   "source": [
    "#### dict()"
   ]
  },
  {
   "cell_type": "code",
   "execution_count": null,
   "metadata": {},
   "outputs": [],
   "source": []
  },
  {
   "cell_type": "markdown",
   "metadata": {},
   "source": [
    "#### help()"
   ]
  },
  {
   "cell_type": "code",
   "execution_count": null,
   "metadata": {},
   "outputs": [],
   "source": []
  },
  {
   "cell_type": "markdown",
   "metadata": {},
   "source": [
    "#### min()"
   ]
  },
  {
   "cell_type": "code",
   "execution_count": null,
   "metadata": {},
   "outputs": [],
   "source": []
  },
  {
   "cell_type": "markdown",
   "metadata": {},
   "source": [
    "#### setattr()"
   ]
  },
  {
   "cell_type": "code",
   "execution_count": null,
   "metadata": {},
   "outputs": [],
   "source": []
  },
  {
   "cell_type": "markdown",
   "metadata": {},
   "source": [
    "#### any()"
   ]
  },
  {
   "cell_type": "code",
   "execution_count": null,
   "metadata": {},
   "outputs": [],
   "source": []
  },
  {
   "cell_type": "markdown",
   "metadata": {},
   "source": [
    "#### dir()"
   ]
  },
  {
   "cell_type": "code",
   "execution_count": null,
   "metadata": {},
   "outputs": [],
   "source": []
  },
  {
   "cell_type": "markdown",
   "metadata": {},
   "source": [
    "#### hex()"
   ]
  },
  {
   "cell_type": "code",
   "execution_count": null,
   "metadata": {},
   "outputs": [],
   "source": []
  },
  {
   "cell_type": "markdown",
   "metadata": {},
   "source": [
    "#### next()"
   ]
  },
  {
   "cell_type": "code",
   "execution_count": null,
   "metadata": {},
   "outputs": [],
   "source": []
  },
  {
   "cell_type": "markdown",
   "metadata": {},
   "source": [
    "#### slice()"
   ]
  },
  {
   "cell_type": "code",
   "execution_count": null,
   "metadata": {},
   "outputs": [],
   "source": []
  },
  {
   "cell_type": "markdown",
   "metadata": {},
   "source": [
    "#### ascii()"
   ]
  },
  {
   "cell_type": "code",
   "execution_count": null,
   "metadata": {},
   "outputs": [],
   "source": []
  },
  {
   "cell_type": "markdown",
   "metadata": {},
   "source": [
    "#### divmod()"
   ]
  },
  {
   "cell_type": "code",
   "execution_count": null,
   "metadata": {},
   "outputs": [],
   "source": []
  },
  {
   "cell_type": "markdown",
   "metadata": {},
   "source": [
    "#### id()"
   ]
  },
  {
   "cell_type": "code",
   "execution_count": null,
   "metadata": {},
   "outputs": [],
   "source": []
  },
  {
   "cell_type": "markdown",
   "metadata": {},
   "source": [
    "#### object()"
   ]
  },
  {
   "cell_type": "code",
   "execution_count": null,
   "metadata": {},
   "outputs": [],
   "source": []
  },
  {
   "cell_type": "markdown",
   "metadata": {},
   "source": [
    "#### sorted()"
   ]
  },
  {
   "cell_type": "code",
   "execution_count": null,
   "metadata": {},
   "outputs": [],
   "source": []
  },
  {
   "cell_type": "markdown",
   "metadata": {},
   "source": [
    "#### bin()"
   ]
  },
  {
   "cell_type": "code",
   "execution_count": null,
   "metadata": {},
   "outputs": [],
   "source": []
  },
  {
   "cell_type": "markdown",
   "metadata": {},
   "source": [
    "#### enumerate()"
   ]
  },
  {
   "cell_type": "code",
   "execution_count": null,
   "metadata": {},
   "outputs": [],
   "source": []
  },
  {
   "cell_type": "markdown",
   "metadata": {},
   "source": [
    "#### input()"
   ]
  },
  {
   "cell_type": "code",
   "execution_count": null,
   "metadata": {},
   "outputs": [],
   "source": []
  },
  {
   "cell_type": "markdown",
   "metadata": {},
   "source": [
    "#### oct()"
   ]
  },
  {
   "cell_type": "code",
   "execution_count": null,
   "metadata": {},
   "outputs": [],
   "source": []
  },
  {
   "cell_type": "markdown",
   "metadata": {},
   "source": [
    "#### staticmethod()"
   ]
  },
  {
   "cell_type": "code",
   "execution_count": null,
   "metadata": {},
   "outputs": [],
   "source": []
  },
  {
   "cell_type": "markdown",
   "metadata": {},
   "source": [
    "#### bool()"
   ]
  },
  {
   "cell_type": "code",
   "execution_count": null,
   "metadata": {},
   "outputs": [],
   "source": []
  },
  {
   "cell_type": "markdown",
   "metadata": {},
   "source": [
    "#### eval()"
   ]
  },
  {
   "cell_type": "code",
   "execution_count": null,
   "metadata": {},
   "outputs": [],
   "source": []
  },
  {
   "cell_type": "markdown",
   "metadata": {},
   "source": [
    "#### int()"
   ]
  },
  {
   "cell_type": "code",
   "execution_count": null,
   "metadata": {},
   "outputs": [],
   "source": []
  },
  {
   "cell_type": "markdown",
   "metadata": {},
   "source": [
    "#### open()"
   ]
  },
  {
   "cell_type": "code",
   "execution_count": null,
   "metadata": {},
   "outputs": [],
   "source": []
  },
  {
   "cell_type": "markdown",
   "metadata": {},
   "source": [
    "#### str()"
   ]
  },
  {
   "cell_type": "code",
   "execution_count": null,
   "metadata": {},
   "outputs": [],
   "source": []
  },
  {
   "cell_type": "markdown",
   "metadata": {},
   "source": [
    "#### breakpoint()"
   ]
  },
  {
   "cell_type": "code",
   "execution_count": null,
   "metadata": {},
   "outputs": [],
   "source": []
  },
  {
   "cell_type": "markdown",
   "metadata": {},
   "source": [
    "#### exec()"
   ]
  },
  {
   "cell_type": "code",
   "execution_count": null,
   "metadata": {},
   "outputs": [],
   "source": []
  },
  {
   "cell_type": "markdown",
   "metadata": {},
   "source": [
    "#### isinstance()"
   ]
  },
  {
   "cell_type": "code",
   "execution_count": null,
   "metadata": {},
   "outputs": [],
   "source": []
  },
  {
   "cell_type": "markdown",
   "metadata": {},
   "source": [
    "#### ord()"
   ]
  },
  {
   "cell_type": "code",
   "execution_count": null,
   "metadata": {},
   "outputs": [],
   "source": []
  },
  {
   "cell_type": "markdown",
   "metadata": {},
   "source": [
    "#### sum()"
   ]
  },
  {
   "cell_type": "code",
   "execution_count": null,
   "metadata": {},
   "outputs": [],
   "source": []
  },
  {
   "cell_type": "markdown",
   "metadata": {},
   "source": [
    "#### bytearray()"
   ]
  },
  {
   "cell_type": "code",
   "execution_count": null,
   "metadata": {},
   "outputs": [],
   "source": []
  },
  {
   "cell_type": "markdown",
   "metadata": {},
   "source": [
    "#### filter()"
   ]
  },
  {
   "cell_type": "code",
   "execution_count": null,
   "metadata": {},
   "outputs": [],
   "source": []
  },
  {
   "cell_type": "markdown",
   "metadata": {},
   "source": [
    "#### issubclass()"
   ]
  },
  {
   "cell_type": "code",
   "execution_count": null,
   "metadata": {},
   "outputs": [],
   "source": []
  },
  {
   "cell_type": "markdown",
   "metadata": {},
   "source": [
    "#### pow()"
   ]
  },
  {
   "cell_type": "code",
   "execution_count": null,
   "metadata": {},
   "outputs": [],
   "source": []
  },
  {
   "cell_type": "markdown",
   "metadata": {},
   "source": [
    "#### super()"
   ]
  },
  {
   "cell_type": "code",
   "execution_count": null,
   "metadata": {},
   "outputs": [],
   "source": []
  },
  {
   "cell_type": "markdown",
   "metadata": {},
   "source": [
    "#### bytes()"
   ]
  },
  {
   "cell_type": "code",
   "execution_count": null,
   "metadata": {},
   "outputs": [],
   "source": []
  },
  {
   "cell_type": "markdown",
   "metadata": {},
   "source": [
    "#### float()"
   ]
  },
  {
   "cell_type": "code",
   "execution_count": null,
   "metadata": {},
   "outputs": [],
   "source": []
  },
  {
   "cell_type": "markdown",
   "metadata": {},
   "source": [
    "#### iter()"
   ]
  },
  {
   "cell_type": "code",
   "execution_count": null,
   "metadata": {},
   "outputs": [],
   "source": []
  },
  {
   "cell_type": "markdown",
   "metadata": {},
   "source": [
    "#### print()"
   ]
  },
  {
   "cell_type": "code",
   "execution_count": null,
   "metadata": {},
   "outputs": [],
   "source": []
  },
  {
   "cell_type": "markdown",
   "metadata": {},
   "source": [
    "#### tuple()"
   ]
  },
  {
   "cell_type": "code",
   "execution_count": null,
   "metadata": {},
   "outputs": [],
   "source": []
  },
  {
   "cell_type": "markdown",
   "metadata": {},
   "source": [
    "#### callable()"
   ]
  },
  {
   "cell_type": "code",
   "execution_count": null,
   "metadata": {},
   "outputs": [],
   "source": []
  },
  {
   "cell_type": "markdown",
   "metadata": {},
   "source": [
    "#### format()"
   ]
  },
  {
   "cell_type": "code",
   "execution_count": null,
   "metadata": {},
   "outputs": [],
   "source": []
  },
  {
   "cell_type": "markdown",
   "metadata": {},
   "source": [
    "#### len()"
   ]
  },
  {
   "cell_type": "code",
   "execution_count": null,
   "metadata": {},
   "outputs": [],
   "source": []
  },
  {
   "cell_type": "markdown",
   "metadata": {},
   "source": [
    "#### property()"
   ]
  },
  {
   "cell_type": "code",
   "execution_count": null,
   "metadata": {},
   "outputs": [],
   "source": []
  },
  {
   "cell_type": "markdown",
   "metadata": {},
   "source": [
    "#### type()"
   ]
  },
  {
   "cell_type": "code",
   "execution_count": null,
   "metadata": {},
   "outputs": [],
   "source": []
  },
  {
   "cell_type": "markdown",
   "metadata": {},
   "source": [
    "#### chr()"
   ]
  },
  {
   "cell_type": "code",
   "execution_count": null,
   "metadata": {},
   "outputs": [],
   "source": []
  },
  {
   "cell_type": "markdown",
   "metadata": {},
   "source": [
    "#### frozenset()"
   ]
  },
  {
   "cell_type": "code",
   "execution_count": null,
   "metadata": {},
   "outputs": [],
   "source": []
  },
  {
   "cell_type": "markdown",
   "metadata": {},
   "source": [
    "#### list()"
   ]
  },
  {
   "cell_type": "code",
   "execution_count": null,
   "metadata": {},
   "outputs": [],
   "source": []
  },
  {
   "cell_type": "markdown",
   "metadata": {},
   "source": [
    "#### range()"
   ]
  },
  {
   "cell_type": "code",
   "execution_count": null,
   "metadata": {},
   "outputs": [],
   "source": []
  },
  {
   "cell_type": "markdown",
   "metadata": {},
   "source": [
    "#### vars()"
   ]
  },
  {
   "cell_type": "code",
   "execution_count": null,
   "metadata": {},
   "outputs": [],
   "source": []
  },
  {
   "cell_type": "markdown",
   "metadata": {},
   "source": [
    "#### classmethod()"
   ]
  },
  {
   "cell_type": "code",
   "execution_count": null,
   "metadata": {},
   "outputs": [],
   "source": []
  },
  {
   "cell_type": "markdown",
   "metadata": {},
   "source": [
    "#### getattr()"
   ]
  },
  {
   "cell_type": "code",
   "execution_count": null,
   "metadata": {},
   "outputs": [],
   "source": []
  },
  {
   "cell_type": "markdown",
   "metadata": {},
   "source": [
    "#### locals()"
   ]
  },
  {
   "cell_type": "code",
   "execution_count": null,
   "metadata": {},
   "outputs": [],
   "source": []
  },
  {
   "cell_type": "markdown",
   "metadata": {},
   "source": [
    "#### repr()"
   ]
  },
  {
   "cell_type": "code",
   "execution_count": null,
   "metadata": {},
   "outputs": [],
   "source": []
  },
  {
   "cell_type": "markdown",
   "metadata": {},
   "source": [
    "#### zip()"
   ]
  },
  {
   "cell_type": "code",
   "execution_count": null,
   "metadata": {},
   "outputs": [],
   "source": []
  },
  {
   "cell_type": "markdown",
   "metadata": {},
   "source": [
    "#### compile()"
   ]
  },
  {
   "cell_type": "code",
   "execution_count": null,
   "metadata": {},
   "outputs": [],
   "source": []
  },
  {
   "cell_type": "markdown",
   "metadata": {},
   "source": [
    "#### globals()"
   ]
  },
  {
   "cell_type": "code",
   "execution_count": null,
   "metadata": {},
   "outputs": [],
   "source": []
  },
  {
   "cell_type": "markdown",
   "metadata": {},
   "source": [
    "#### map()"
   ]
  },
  {
   "cell_type": "code",
   "execution_count": null,
   "metadata": {},
   "outputs": [],
   "source": []
  },
  {
   "cell_type": "markdown",
   "metadata": {},
   "source": [
    "#### reversed()"
   ]
  },
  {
   "cell_type": "code",
   "execution_count": null,
   "metadata": {},
   "outputs": [],
   "source": []
  },
  {
   "cell_type": "markdown",
   "metadata": {},
   "source": [
    "#### __import__()"
   ]
  },
  {
   "cell_type": "code",
   "execution_count": null,
   "metadata": {},
   "outputs": [],
   "source": []
  },
  {
   "cell_type": "markdown",
   "metadata": {},
   "source": [
    "#### complex()"
   ]
  },
  {
   "cell_type": "code",
   "execution_count": null,
   "metadata": {},
   "outputs": [],
   "source": []
  },
  {
   "cell_type": "markdown",
   "metadata": {},
   "source": [
    "#### hasattr()"
   ]
  },
  {
   "cell_type": "code",
   "execution_count": null,
   "metadata": {},
   "outputs": [],
   "source": []
  },
  {
   "cell_type": "markdown",
   "metadata": {},
   "source": [
    "#### max()"
   ]
  },
  {
   "cell_type": "code",
   "execution_count": null,
   "metadata": {},
   "outputs": [],
   "source": []
  },
  {
   "cell_type": "markdown",
   "metadata": {},
   "source": [
    "#### round()"
   ]
  },
  {
   "cell_type": "code",
   "execution_count": null,
   "metadata": {},
   "outputs": [],
   "source": []
  },
  {
   "cell_type": "code",
   "execution_count": null,
   "metadata": {},
   "outputs": [],
   "source": []
  },
  {
   "cell_type": "code",
   "execution_count": null,
   "metadata": {},
   "outputs": [],
   "source": []
  },
  {
   "cell_type": "code",
   "execution_count": 40,
   "metadata": {},
   "outputs": [],
   "source": [
    "\n",
    "    "
   ]
  },
  {
   "cell_type": "code",
   "execution_count": null,
   "metadata": {},
   "outputs": [],
   "source": []
  },
  {
   "cell_type": "code",
   "execution_count": null,
   "metadata": {},
   "outputs": [],
   "source": []
  },
  {
   "cell_type": "code",
   "execution_count": null,
   "metadata": {},
   "outputs": [],
   "source": []
  },
  {
   "cell_type": "code",
   "execution_count": null,
   "metadata": {},
   "outputs": [],
   "source": []
  },
  {
   "cell_type": "code",
   "execution_count": null,
   "metadata": {},
   "outputs": [],
   "source": []
  }
 ],
 "metadata": {
  "kernelspec": {
   "display_name": "Python 3",
   "language": "python",
   "name": "python3"
  },
  "language_info": {
   "codemirror_mode": {
    "name": "ipython",
    "version": 3
   },
   "file_extension": ".py",
   "mimetype": "text/x-python",
   "name": "python",
   "nbconvert_exporter": "python",
   "pygments_lexer": "ipython3",
   "version": "3.7.9"
  }
 },
 "nbformat": 4,
 "nbformat_minor": 2
}
