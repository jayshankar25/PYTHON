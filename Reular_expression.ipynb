{
 "cells": [
  {
   "cell_type": "markdown",
   "metadata": {},
   "source": [
    "## Regular Expression :-\n",
    "\n",
    "   - Pattern Validation \n",
    "   - pattern Extraction\n",
    "   \n",
    "   \n",
    "### Meta character :-\n",
    "\n",
    "   - [a-z]------------ char class ----- match 1 occrence of lower case\n",
    "   - [a-zA-Z]--------- char class ----- match 1 occrence of any letter\n",
    "   - [0-9]------------ digit class ---- 1 occeerence of digit\n",
    "   - plus +------------at least one occerence or more\n",
    "   - multiply *------- Zero Occerence or more\n",
    "   - ^ --------------- start of the string\n",
    "   - $ --------------- End of the string.\n",
    "   - {5}-------------- 5 occerence\n",
    "   - {2-5}------------ min 2 and max 5 occerence\n",
    "   - ?----- ---------  optional\n",
    "   - ()--------------- concept of group or one occerence\n",
    "       - group(0) entire group\n",
    "       - group(1) first group\n",
    "       - group(2) second group\n",
    "       \n"
   ]
  },
  {
   "cell_type": "markdown",
   "metadata": {},
   "source": [
    "### predefined Character Class :-\n",
    "\n",
    "   - \\s------space character\n",
    "   - \\S------Any character except space character\n",
    "   - \\d------Any digit from 0 to 9\n",
    "   - \\D------Any character except digit \n",
    "   - \\w------Any word character [a-zA-Z0-9]\n",
    "   - \\W------Any Character except word character (Special Character)\n",
    "   - . -------Any character Including Special character"
   ]
  },
  {
   "cell_type": "markdown",
   "metadata": {},
   "source": [
    "###  Quantifiers :\n",
    "\n",
    "   - a -------- Exactly once a  \n",
    "   - a+ ------- Atleast once a or more\n",
    "   - a& ------- Zero 'a' or more than Zero\n",
    "   - a? ------- Atleast one 'a' i.e. either Zero number or one number\n",
    "   - a{m} ----- Exactly m number of a's\n",
    "   - a{m,n) --- Mininmum m number of a's and Maximum n number of a's\n",
    "  \n",
    "### note :- \n",
    " \n",
    "   - ^x ------ it will check whether target string starts with x or not\n",
    "   - x$ ------ it will check whether target string ends with x or not"
   ]
  },
  {
   "cell_type": "markdown",
   "metadata": {},
   "source": [
    "##  Important Function :-\n",
    "\n",
    "   1.  match() :\n",
    "      - it is used to check the given patter at beginning of target string\n",
    "      - if the match is avaliable then we get Match object, otherwise we get None\n",
    "   2.  fullmatch():\n",
    "      - it is used to match a pattern to all the target string\n",
    "      - If complete string matched then this function returns Match object otherwise it return None\n",
    "   3.  search():\n",
    "      - it is used to search the given pattern in the target string.\n",
    "      - if the match is avalible then it return the match object with first occerence of the match otherwise return None\n",
    "   4.  findall() :-\n",
    "      - To find all occerrence of the match .\n",
    "      - This function return a list object which contain all occurrences .\n",
    "   5.  finditer() :-\n",
    "      - return the iterator yielding a match object for each match\n",
    "      - on each match object we can call start(),end() and group() function\n",
    "   6.  sub() :-\n",
    "      - sub means substituation or replacement\n",
    "      - re.sub(regx,replacement,targetstring)\n",
    "      - if the target string every matched pattern well be replaced with provided replacement.\n",
    "   7.  subn() :-\n",
    "      - it is exactly same as sub() except it can also returns the number of replacement\n",
    "      - this function return a tuple where first element is result string and second element is no. of replacements. \n",
    "      \n",
    "   8.  split() :-\n",
    "      - if we want to split the string according to a particular pattrn then we should go for split() function\n",
    "      - this function return list of all tokens.\n",
    "   9.  compile() :-\n",
    "      - "
   ]
  },
  {
   "cell_type": "markdown",
   "metadata": {},
   "source": [
    "### coding :-"
   ]
  },
  {
   "cell_type": "code",
   "execution_count": 2,
   "metadata": {},
   "outputs": [
    {
     "data": {
      "text/plain": [
       "['A', 'B', 'C', 'D', 'A']"
      ]
     },
     "execution_count": 2,
     "metadata": {},
     "output_type": "execute_result"
    }
   ],
   "source": [
    "import re\n",
    "s = \"ABCD1234A\"\n",
    "r = re.compile(\"[A-Z]\")\n",
    "l = re.findall(r,s)\n",
    "l"
   ]
  },
  {
   "cell_type": "code",
   "execution_count": 3,
   "metadata": {},
   "outputs": [
    {
     "data": {
      "text/plain": [
       "['d1']"
      ]
     },
     "execution_count": 3,
     "metadata": {},
     "output_type": "execute_result"
    }
   ],
   "source": [
    "s = 'abcd12345'\n",
    "r = re.compile('[a-z][0-9]')\n",
    "m = re.findall(r,s)\n",
    "m"
   ]
  },
  {
   "cell_type": "code",
   "execution_count": 4,
   "metadata": {},
   "outputs": [
    {
     "name": "stdout",
     "output_type": "stream",
     "text": [
      "['abcd1']\n"
     ]
    }
   ],
   "source": [
    "s = \"abcd12345\"\n",
    "r = re.compile(\"[a-z]+[0-9]\")\n",
    "l = re.findall(r,s)\n",
    "print(l)"
   ]
  },
  {
   "cell_type": "code",
   "execution_count": 5,
   "metadata": {},
   "outputs": [
    {
     "name": "stdout",
     "output_type": "stream",
     "text": [
      "[]\n"
     ]
    }
   ],
   "source": [
    "s = \"12345\"\n",
    "r = re.compile(\"[a-z]+[0-9]\")   # at least one char match\n",
    "l = re.findall(r,s)\n",
    "print(l)"
   ]
  },
  {
   "cell_type": "code",
   "execution_count": 6,
   "metadata": {},
   "outputs": [
    {
     "name": "stdout",
     "output_type": "stream",
     "text": [
      "['12345']\n"
     ]
    }
   ],
   "source": [
    "s = \"12345\"\n",
    "r = re.compile(\"[a-z]*[0-9]+\")   # * -> zero or more occurrence\n",
    "l = re.findall(r,s)             # + ->  at least one occurrence\n",
    "print(l)"
   ]
  },
  {
   "cell_type": "code",
   "execution_count": 7,
   "metadata": {},
   "outputs": [
    {
     "name": "stdout",
     "output_type": "stream",
     "text": [
      "['a12345']\n"
     ]
    }
   ],
   "source": [
    "s = \"a12345\"\n",
    "r = re.compile(\"[a-z]+[0-9]+\")\n",
    "l = re.findall(r,s)\n",
    "print(l)"
   ]
  },
  {
   "cell_type": "code",
   "execution_count": 8,
   "metadata": {},
   "outputs": [
    {
     "name": "stdout",
     "output_type": "stream",
     "text": [
      "['abcd12345', 'defgh6789']\n"
     ]
    }
   ],
   "source": [
    "s = \"abcd12345defgh6789\"\n",
    "r = re.compile(\"[a-z]+[0-9]+\")\n",
    "l = re.findall(r,s)\n",
    "print(l)"
   ]
  },
  {
   "cell_type": "code",
   "execution_count": 9,
   "metadata": {},
   "outputs": [
    {
     "name": "stdout",
     "output_type": "stream",
     "text": [
      "['abcd1']\n"
     ]
    }
   ],
   "source": [
    "s = \"abcd12345defgh6789\"\n",
    "r = re.compile(\"^[a-z]+[0-9]\")\n",
    "l = re.findall(r,s)\n",
    "print(l)"
   ]
  },
  {
   "cell_type": "code",
   "execution_count": 10,
   "metadata": {},
   "outputs": [
    {
     "name": "stdout",
     "output_type": "stream",
     "text": [
      "['abcd12345']\n"
     ]
    }
   ],
   "source": [
    "s = \"abcd12345\"\n",
    "r = re.compile(\"^[a-z]+[0-9]+$\")\n",
    "l = re.findall(r,s)\n",
    "print(l)"
   ]
  },
  {
   "cell_type": "code",
   "execution_count": 11,
   "metadata": {},
   "outputs": [
    {
     "name": "stdout",
     "output_type": "stream",
     "text": [
      "['ABCDE1234A']\n"
     ]
    }
   ],
   "source": [
    "# pan card no velidation\n",
    "s = \"ABCDE1234A\"\n",
    "r = re.compile(\"^[A-Z]{5}[0-9]{4}[A-Z]$\")\n",
    "l = re.findall(r,s)\n",
    "print(l)"
   ]
  },
  {
   "cell_type": "code",
   "execution_count": 12,
   "metadata": {},
   "outputs": [
    {
     "name": "stdout",
     "output_type": "stream",
     "text": [
      "['8544113009']\n"
     ]
    }
   ],
   "source": [
    "# 10 digit phone no. starting should be 6 or more than 6\n",
    "s = \"8544113009\"\n",
    "r = re.compile(\"^[6-9][0-9]{9}$\")\n",
    "l = re.findall(r,s)\n",
    "print(l)\n"
   ]
  },
  {
   "cell_type": "code",
   "execution_count": 13,
   "metadata": {},
   "outputs": [
    {
     "name": "stdout",
     "output_type": "stream",
     "text": [
      "['python3']\n"
     ]
    }
   ],
   "source": [
    "s = \"python3\"\n",
    "r = re.compile(\"python[0-9]?\")\n",
    "l = re.findall(r,s)\n",
    "print(l)"
   ]
  },
  {
   "cell_type": "code",
   "execution_count": 14,
   "metadata": {},
   "outputs": [
    {
     "name": "stdout",
     "output_type": "stream",
     "text": [
      "+91-8544113009\n",
      "<_sre.SRE_Match object; span=(0, 14), match='+91-8544113009'>\n"
     ]
    }
   ],
   "source": [
    "# +91 add as optional\n",
    "# 10 digit phone no. starting should be 6 or more than 6\n",
    "\n",
    "s = \"+91-8544113009\"\n",
    "r = re.compile(\"^(\\+91-)?[6-9][0-9]{9}$\")\n",
    "l = re.search(r,s)\n",
    "print(l.group())\n",
    "print(l)\n"
   ]
  },
  {
   "cell_type": "code",
   "execution_count": 15,
   "metadata": {},
   "outputs": [
    {
     "name": "stdout",
     "output_type": "stream",
     "text": [
      "+91-8544113009\n",
      "+91-\n",
      "8544113009\n",
      "<_sre.SRE_Match object; span=(0, 14), match='+91-8544113009'>\n"
     ]
    }
   ],
   "source": [
    "s = \"+91-8544113009\"\n",
    "r = re.compile(\"^(\\+91-)?([6-9][0-9]{9})$\")\n",
    "l = re.search(r,s)\n",
    "print(l.group(0))   # 0 stands for entire group\n",
    "print(l.group(1))   # 1 stands for first group\n",
    "print(l.group(2))   # 2 stands for second group\n",
    "print(l)\n"
   ]
  },
  {
   "cell_type": "code",
   "execution_count": 16,
   "metadata": {},
   "outputs": [
    {
     "name": "stdout",
     "output_type": "stream",
     "text": [
      "8544113009\n"
     ]
    }
   ],
   "source": [
    "s = \"+91-8544113009\"\n",
    "r = re.compile(\"^(\\+91-)?([6-9][0-9]{9})$\")\n",
    "l = re.search(r,s)\n",
    "if l:\n",
    "    print(l.group(2))   \n",
    "else:\n",
    "    print(\"match not found\")"
   ]
  },
  {
   "cell_type": "code",
   "execution_count": 17,
   "metadata": {},
   "outputs": [
    {
     "name": "stdout",
     "output_type": "stream",
     "text": [
      "www.edyoga.com\n",
      "<_sre.SRE_Match object; span=(0, 22), match='https://www.edyoga.com'>\n"
     ]
    }
   ],
   "source": [
    "# url is valid or not\n",
    "s = 'https://www.edyoga.com'\n",
    "s1 = 'http://www.edyoga.com'\n",
    "r = re.compile(\"^http[s]?://([w]{3}.[a-z]+.com)\")\n",
    "l = re.search(r,s)\n",
    "if l:\n",
    "    print(l.group(1))    # it execute only when () is present in pattern\n",
    "else:\n",
    "    print(\"match not found\")\n",
    "\n",
    "print(l)\n"
   ]
  },
  {
   "cell_type": "code",
   "execution_count": 18,
   "metadata": {},
   "outputs": [
    {
     "name": "stdout",
     "output_type": "stream",
     "text": [
      "<_sre.SRE_Match object; span=(0, 15), match='abcd123@xyz.com'>\n"
     ]
    }
   ],
   "source": [
    "# pattern matching for email id \n",
    "s = 'abcd123@xyz.com'\n",
    "r = re.compile(\"^[a-z]+[0-9]+(@xyz.com)\")\n",
    "m = re.match(r,s)\n",
    "print(m)"
   ]
  },
  {
   "cell_type": "code",
   "execution_count": 19,
   "metadata": {},
   "outputs": [
    {
     "name": "stdout",
     "output_type": "stream",
     "text": [
      "abcd123@xyz.com\n"
     ]
    }
   ],
   "source": [
    "# pattern matching for email id \n",
    "s = 'abcd123@xyz.com'\n",
    "r = re.compile(\"^[a-z0-9\\._]+@[a-z]+\\.com$\")\n",
    "m = re.match(r,s)\n",
    "if m:\n",
    "    print(m.group())\n",
    "else:\n",
    "    print(\"invalid match\")"
   ]
  },
  {
   "cell_type": "code",
   "execution_count": 21,
   "metadata": {},
   "outputs": [
    {
     "name": "stdout",
     "output_type": "stream",
     "text": [
      "31-14-2019\n"
     ]
    }
   ],
   "source": [
    "# for date matching\n",
    "s = '31-14-2019'\n",
    "r = re.compile(\"^[0-9]{2}-[0-9]{2}-[0-9]{4}\")\n",
    "m = re.match(r,s)\n",
    "if m:\n",
    "    print(m.group())\n",
    "else:\n",
    "    print(\"invalid match\")\n"
   ]
  },
  {
   "cell_type": "code",
   "execution_count": 22,
   "metadata": {},
   "outputs": [
    {
     "name": "stdout",
     "output_type": "stream",
     "text": [
      "2019\n"
     ]
    }
   ],
   "source": [
    "s = '31-14-2019'\n",
    "r = re.compile(\"^(?P<day>[0-9]{2})-(?P<month>[0-9]{2})-(?P<year>[0-9]{4})\")\n",
    "m = re.match(r,s)\n",
    "if m:\n",
    "    print(m.group(\"year\"))\n",
    "else:\n",
    "    print(\"invalid match\")\n"
   ]
  },
  {
   "cell_type": "code",
   "execution_count": 23,
   "metadata": {},
   "outputs": [
    {
     "name": "stdout",
     "output_type": "stream",
     "text": [
      "['1234']\n"
     ]
    }
   ],
   "source": [
    "s = \"abcd1234\"\n",
    "r = re.compile(\"[^a-z]+\")\n",
    "m = re.findall(r,s)\n",
    "print(m)"
   ]
  },
  {
   "cell_type": "code",
   "execution_count": null,
   "metadata": {},
   "outputs": [],
   "source": []
  },
  {
   "cell_type": "code",
   "execution_count": null,
   "metadata": {},
   "outputs": [],
   "source": []
  },
  {
   "cell_type": "code",
   "execution_count": null,
   "metadata": {},
   "outputs": [],
   "source": []
  },
  {
   "cell_type": "code",
   "execution_count": null,
   "metadata": {},
   "outputs": [],
   "source": []
  },
  {
   "cell_type": "code",
   "execution_count": null,
   "metadata": {},
   "outputs": [],
   "source": []
  },
  {
   "cell_type": "code",
   "execution_count": null,
   "metadata": {},
   "outputs": [],
   "source": []
  },
  {
   "cell_type": "code",
   "execution_count": null,
   "metadata": {},
   "outputs": [],
   "source": []
  },
  {
   "cell_type": "code",
   "execution_count": null,
   "metadata": {},
   "outputs": [],
   "source": []
  },
  {
   "cell_type": "code",
   "execution_count": null,
   "metadata": {},
   "outputs": [],
   "source": []
  },
  {
   "cell_type": "code",
   "execution_count": null,
   "metadata": {},
   "outputs": [],
   "source": []
  },
  {
   "cell_type": "code",
   "execution_count": null,
   "metadata": {},
   "outputs": [],
   "source": []
  },
  {
   "cell_type": "code",
   "execution_count": null,
   "metadata": {},
   "outputs": [],
   "source": []
  },
  {
   "cell_type": "code",
   "execution_count": null,
   "metadata": {},
   "outputs": [],
   "source": []
  },
  {
   "cell_type": "code",
   "execution_count": null,
   "metadata": {},
   "outputs": [],
   "source": []
  },
  {
   "cell_type": "code",
   "execution_count": null,
   "metadata": {},
   "outputs": [],
   "source": []
  },
  {
   "cell_type": "code",
   "execution_count": null,
   "metadata": {},
   "outputs": [],
   "source": []
  },
  {
   "cell_type": "code",
   "execution_count": null,
   "metadata": {},
   "outputs": [],
   "source": []
  },
  {
   "cell_type": "markdown",
   "metadata": {},
   "source": [
    "## Question and code"
   ]
  },
  {
   "cell_type": "code",
   "execution_count": 24,
   "metadata": {},
   "outputs": [],
   "source": [
    "# write a python program to check whether the given Number is valid Mobile or not."
   ]
  },
  {
   "cell_type": "code",
   "execution_count": 26,
   "metadata": {},
   "outputs": [],
   "source": [
    "# Write a python Program to check whether given Car Registration Number is Valid for Telangana State \n",
    "# Registration or not ."
   ]
  },
  {
   "cell_type": "code",
   "execution_count": null,
   "metadata": {},
   "outputs": [],
   "source": [
    "# "
   ]
  }
 ],
 "metadata": {
  "kernelspec": {
   "display_name": "Python 3",
   "language": "python",
   "name": "python3"
  },
  "language_info": {
   "codemirror_mode": {
    "name": "ipython",
    "version": 3
   },
   "file_extension": ".py",
   "mimetype": "text/x-python",
   "name": "python",
   "nbconvert_exporter": "python",
   "pygments_lexer": "ipython3",
   "version": "3.6.8"
  }
 },
 "nbformat": 4,
 "nbformat_minor": 2
}
